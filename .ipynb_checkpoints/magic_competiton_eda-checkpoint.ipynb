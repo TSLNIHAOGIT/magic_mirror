{
 "cells": [
  {
   "cell_type": "code",
   "execution_count": 0,
   "metadata": {
    "colab": {},
    "colab_type": "code",
    "id": "SmJQBv_oE80e"
   },
   "outputs": [],
   "source": []
  },
  {
   "cell_type": "code",
   "execution_count": 0,
   "metadata": {
    "colab": {},
    "colab_type": "code",
    "id": "wf_6vOZ7Gnkc"
   },
   "outputs": [],
   "source": []
  },
  {
   "cell_type": "code",
   "execution_count": 0,
   "metadata": {
    "colab": {},
    "colab_type": "code",
    "id": "_Zhr3ydAPph3"
   },
   "outputs": [],
   "source": [
    "#!python 挺无聊的一个代码lb_8907.163500.py"
   ]
  },
  {
   "cell_type": "code",
   "execution_count": 0,
   "metadata": {
    "colab": {},
    "colab_type": "code",
    "id": "EWE26rynQjsh"
   },
   "outputs": [],
   "source": []
  },
  {
   "cell_type": "code",
   "execution_count": 2,
   "metadata": {
    "colab": {},
    "colab_type": "code",
    "id": "OMJT3oZITiRY"
   },
   "outputs": [
    {
     "data": {
      "text/plain": [
       "'/jupyter_files/magic_mirror'"
      ]
     },
     "execution_count": 2,
     "metadata": {},
     "output_type": "execute_result"
    }
   ],
   "source": [
    "pwd"
   ]
  },
  {
   "cell_type": "code",
   "execution_count": 3,
   "metadata": {
    "colab": {},
    "colab_type": "code",
    "id": "LtpgG439UF1b"
   },
   "outputs": [
    {
     "name": "stdout",
     "output_type": "stream",
     "text": [
      "\u001b[0m\u001b[01;34mdata\u001b[0m/  \u001b[01;31mdata.rar\u001b[0m  magic_competiton_eda.ipynb  magic_mirror_eda.ipynb  temp.ipynb\r\n"
     ]
    }
   ],
   "source": [
    "ls\n"
   ]
  },
  {
   "cell_type": "code",
   "execution_count": 0,
   "metadata": {
    "colab": {},
    "colab_type": "code",
    "id": "gThuIQ1tVP30"
   },
   "outputs": [],
   "source": [
    "#pip install lightgbm --install-option=--gpu --install-option=\"--opencl-include-dir=/usr/local/cuda/include/\" --install-option=\"--opencl-library=/usr/local/cuda/lib64/libOpenCL.so\""
   ]
  },
  {
   "cell_type": "code",
   "execution_count": 1,
   "metadata": {
    "colab": {},
    "colab_type": "code",
    "id": "uC9GafuEOLu2"
   },
   "outputs": [],
   "source": [
    "\n",
    "import pandas as pd\n",
    "import numpy as np\n",
    "#显示所有列\n",
    "pd.set_option(\"display.max_columns\",500)\n"
   ]
  },
  {
   "cell_type": "code",
   "execution_count": 7,
   "metadata": {
    "colab": {
     "base_uri": "https://localhost:8080/",
     "height": 161
    },
    "colab_type": "code",
    "executionInfo": {
     "elapsed": 9986,
     "status": "ok",
     "timestamp": 1562000494770,
     "user": {
      "displayName": "陶士来",
      "photoUrl": "",
      "userId": "08104502188577818611"
     },
     "user_tz": -480
    },
    "id": "rRGKrTJtQi2r",
    "outputId": "87286efe-5e90-4248-a5c1-16bf48e4c852"
   },
   "outputs": [
    {
     "name": "stderr",
     "output_type": "stream",
     "text": [
      "/usr/local/lib/python3.6/dist-packages/pandas/core/frame.py:6692: FutureWarning: Sorting because non-concatenation axis is not aligned. A future version\n",
      "of pandas will change to not sort by default.\n",
      "\n",
      "To accept the future behavior, pass 'sort=False'.\n",
      "\n",
      "To retain the current behavior and silence the warning, pass 'sort=True'.\n",
      "\n",
      "  sort=sort)\n"
     ]
    }
   ],
   "source": [
    "path = \"data/\"\n",
    "# print(os.listdir(path))\n",
    "train = pd.read_csv(path+\"train.csv\",encoding='utf8'\n",
    "                   ) #100W\n",
    "test = pd.read_csv(path+\"test.csv\",encoding='utf8',parse_dates=['auditing_date', 'due_date']) #13W\n",
    "train=train.append(test)"
   ]
  },
  {
   "cell_type": "code",
   "execution_count": 0,
   "metadata": {
    "colab": {
     "base_uri": "https://localhost:8080/",
     "height": 233
    },
    "colab_type": "code",
    "executionInfo": {
     "elapsed": 4132,
     "status": "ok",
     "timestamp": 1561985016303,
     "user": {
      "displayName": "陶士来",
      "photoUrl": "",
      "userId": "08104502188577818611"
     },
     "user_tz": -480
    },
    "id": "o66A1XoOXNE-",
    "outputId": "e028d7f9-d36f-46d2-f62e-e16429777307"
   },
   "outputs": [
    {
     "name": "stdout",
     "output_type": "stream",
     "text": [
      "<class 'pandas.core.frame.DataFrame'>\n",
      "Int64Index: 1130000 entries, 0 to 129999\n",
      "Data columns (total 7 columns):\n",
      "auditing_date    1130000 non-null object\n",
      "due_amt          1130000 non-null float64\n",
      "due_date         1130000 non-null object\n",
      "listing_id       1130000 non-null int64\n",
      "repay_amt        1000000 non-null object\n",
      "repay_date       1000000 non-null object\n",
      "user_id          1130000 non-null int64\n",
      "dtypes: float64(1), int64(2), object(4)\n",
      "memory usage: 322.2 MB\n"
     ]
    }
   ],
   "source": [
    "train.info(memory_usage='deep')"
   ]
  },
  {
   "cell_type": "code",
   "execution_count": 0,
   "metadata": {
    "colab": {
     "base_uri": "https://localhost:8080/",
     "height": 359
    },
    "colab_type": "code",
    "executionInfo": {
     "elapsed": 735,
     "status": "ok",
     "timestamp": 1561985019390,
     "user": {
      "displayName": "陶士来",
      "photoUrl": "",
      "userId": "08104502188577818611"
     },
     "user_tz": -480
    },
    "id": "AnxPJvI9gGg8",
    "outputId": "798e3d42-077d-4895-9e34-520410a419b6"
   },
   "outputs": [
    {
     "data": {
      "text/html": [
       "<div>\n",
       "<style scoped>\n",
       "    .dataframe tbody tr th:only-of-type {\n",
       "        vertical-align: middle;\n",
       "    }\n",
       "\n",
       "    .dataframe tbody tr th {\n",
       "        vertical-align: top;\n",
       "    }\n",
       "\n",
       "    .dataframe thead th {\n",
       "        text-align: right;\n",
       "    }\n",
       "</style>\n",
       "<table border=\"1\" class=\"dataframe\">\n",
       "  <thead>\n",
       "    <tr style=\"text-align: right;\">\n",
       "      <th></th>\n",
       "      <th>auditing_date</th>\n",
       "      <th>due_amt</th>\n",
       "      <th>due_date</th>\n",
       "      <th>listing_id</th>\n",
       "      <th>repay_amt</th>\n",
       "      <th>repay_date</th>\n",
       "      <th>user_id</th>\n",
       "    </tr>\n",
       "  </thead>\n",
       "  <tbody>\n",
       "    <tr>\n",
       "      <th>464480</th>\n",
       "      <td>2018-04-23</td>\n",
       "      <td>612.9068</td>\n",
       "      <td>2018-05-23</td>\n",
       "      <td>3144810</td>\n",
       "      <td>612.9068</td>\n",
       "      <td>2018-05-23</td>\n",
       "      <td>241863</td>\n",
       "    </tr>\n",
       "    <tr>\n",
       "      <th>706244</th>\n",
       "      <td>2018-12-01</td>\n",
       "      <td>198.9431</td>\n",
       "      <td>2019-01-01</td>\n",
       "      <td>5021198</td>\n",
       "      <td>198.9431</td>\n",
       "      <td>2018-12-18</td>\n",
       "      <td>118962</td>\n",
       "    </tr>\n",
       "    <tr>\n",
       "      <th>586764</th>\n",
       "      <td>2018-06-01</td>\n",
       "      <td>572.4266</td>\n",
       "      <td>2018-07-01</td>\n",
       "      <td>3602911</td>\n",
       "      <td>\\N</td>\n",
       "      <td>\\N</td>\n",
       "      <td>411162</td>\n",
       "    </tr>\n",
       "    <tr>\n",
       "      <th>769786</th>\n",
       "      <td>2018-07-22</td>\n",
       "      <td>74.1767</td>\n",
       "      <td>2018-08-22</td>\n",
       "      <td>4051347</td>\n",
       "      <td>74.1767</td>\n",
       "      <td>2018-08-22</td>\n",
       "      <td>657669</td>\n",
       "    </tr>\n",
       "    <tr>\n",
       "      <th>22064</th>\n",
       "      <td>2018-05-21</td>\n",
       "      <td>1701.9015</td>\n",
       "      <td>2018-06-21</td>\n",
       "      <td>3482276</td>\n",
       "      <td>1701.9015</td>\n",
       "      <td>2018-06-21</td>\n",
       "      <td>400035</td>\n",
       "    </tr>\n",
       "    <tr>\n",
       "      <th>203966</th>\n",
       "      <td>2018-05-16</td>\n",
       "      <td>107.6503</td>\n",
       "      <td>2018-06-16</td>\n",
       "      <td>3414983</td>\n",
       "      <td>107.6503</td>\n",
       "      <td>2018-06-11</td>\n",
       "      <td>483836</td>\n",
       "    </tr>\n",
       "    <tr>\n",
       "      <th>23290</th>\n",
       "      <td>2019-02-02 00:00:00</td>\n",
       "      <td>258.7045</td>\n",
       "      <td>2019-03-02 00:00:00</td>\n",
       "      <td>5289416</td>\n",
       "      <td>NaN</td>\n",
       "      <td>NaN</td>\n",
       "      <td>622946</td>\n",
       "    </tr>\n",
       "    <tr>\n",
       "      <th>77836</th>\n",
       "      <td>2019-02-07 00:00:00</td>\n",
       "      <td>84.7085</td>\n",
       "      <td>2019-03-07 00:00:00</td>\n",
       "      <td>5307459</td>\n",
       "      <td>NaN</td>\n",
       "      <td>NaN</td>\n",
       "      <td>863651</td>\n",
       "    </tr>\n",
       "    <tr>\n",
       "      <th>789531</th>\n",
       "      <td>2018-12-18</td>\n",
       "      <td>377.0507</td>\n",
       "      <td>2019-01-18</td>\n",
       "      <td>5143208</td>\n",
       "      <td>377.0507</td>\n",
       "      <td>2019-01-17</td>\n",
       "      <td>530261</td>\n",
       "    </tr>\n",
       "    <tr>\n",
       "      <th>745352</th>\n",
       "      <td>2018-11-24</td>\n",
       "      <td>483.4584</td>\n",
       "      <td>2018-12-24</td>\n",
       "      <td>4977641</td>\n",
       "      <td>483.4584</td>\n",
       "      <td>2018-12-24</td>\n",
       "      <td>712673</td>\n",
       "    </tr>\n",
       "  </tbody>\n",
       "</table>\n",
       "</div>"
      ],
      "text/plain": [
       "              auditing_date    due_amt             due_date  listing_id  \\\n",
       "464480           2018-04-23   612.9068           2018-05-23     3144810   \n",
       "706244           2018-12-01   198.9431           2019-01-01     5021198   \n",
       "586764           2018-06-01   572.4266           2018-07-01     3602911   \n",
       "769786           2018-07-22    74.1767           2018-08-22     4051347   \n",
       "22064            2018-05-21  1701.9015           2018-06-21     3482276   \n",
       "203966           2018-05-16   107.6503           2018-06-16     3414983   \n",
       "23290   2019-02-02 00:00:00   258.7045  2019-03-02 00:00:00     5289416   \n",
       "77836   2019-02-07 00:00:00    84.7085  2019-03-07 00:00:00     5307459   \n",
       "789531           2018-12-18   377.0507           2019-01-18     5143208   \n",
       "745352           2018-11-24   483.4584           2018-12-24     4977641   \n",
       "\n",
       "        repay_amt  repay_date  user_id  \n",
       "464480   612.9068  2018-05-23   241863  \n",
       "706244   198.9431  2018-12-18   118962  \n",
       "586764         \\N          \\N   411162  \n",
       "769786    74.1767  2018-08-22   657669  \n",
       "22064   1701.9015  2018-06-21   400035  \n",
       "203966   107.6503  2018-06-11   483836  \n",
       "23290         NaN         NaN   622946  \n",
       "77836         NaN         NaN   863651  \n",
       "789531   377.0507  2019-01-17   530261  \n",
       "745352   483.4584  2018-12-24   712673  "
      ]
     },
     "execution_count": 24,
     "metadata": {
      "tags": []
     },
     "output_type": "execute_result"
    }
   ],
   "source": [
    "train.sample(10)"
   ]
  },
  {
   "cell_type": "code",
   "execution_count": 0,
   "metadata": {
    "colab": {},
    "colab_type": "code",
    "id": "w8tu0-aMgGlQ"
   },
   "outputs": [],
   "source": [
    "def replace_na_date(x):\n",
    "  if x=='\\\\N'or pd.isnull(x):\n",
    "    return '2080-01-01'\n",
    "  else:\n",
    "    return x\n",
    "def replace_na_amt(x):\n",
    "  if x=='\\\\N'or pd.isnull(x):\n",
    "    return 0\n",
    "  else :\n",
    "    return x\n",
    "train['repay_date']=train['repay_date'].map(replace_na_date)\n",
    "train['repay_amt']=train['repay_amt'].map(replace_na_amt)"
   ]
  },
  {
   "cell_type": "code",
   "execution_count": 0,
   "metadata": {
    "colab": {},
    "colab_type": "code",
    "id": "g5snF0pLgHFW"
   },
   "outputs": [],
   "source": [
    "#convert to uint32\n",
    "for each in ['user_id',\t'listing_id']:\n",
    "  train[each]=train[each].astype(np.uint32)"
   ]
  },
  {
   "cell_type": "code",
   "execution_count": 0,
   "metadata": {
    "colab": {},
    "colab_type": "code",
    "id": "XG2BtP59gHnx"
   },
   "outputs": [],
   "source": [
    "#convert to datatime\n",
    "train['auditing_date']=pd.to_datetime(train['auditing_date'],format='%Y-%m-%d')\n",
    "train['due_date']=pd.to_datetime(train['due_date'],format='%Y-%m-%d')\n",
    "train['repay_date']=pd.to_datetime(train['repay_date'],format='%Y-%m-%d')"
   ]
  },
  {
   "cell_type": "code",
   "execution_count": 0,
   "metadata": {
    "colab": {},
    "colab_type": "code",
    "id": "mcvBCQlUgHlR"
   },
   "outputs": [],
   "source": [
    "#convert to float32\n",
    "for each in['due_amt','repay_amt']:\n",
    "  train[each]=train[each].astype(np.float32)\n",
    "  "
   ]
  },
  {
   "cell_type": "code",
   "execution_count": 0,
   "metadata": {
    "colab": {
     "base_uri": "https://localhost:8080/",
     "height": 233
    },
    "colab_type": "code",
    "executionInfo": {
     "elapsed": 754,
     "status": "ok",
     "timestamp": 1561985269490,
     "user": {
      "displayName": "陶士来",
      "photoUrl": "",
      "userId": "08104502188577818611"
     },
     "user_tz": -480
    },
    "id": "Yh2oND4mgHim",
    "outputId": "a24262bf-9831-4036-cc03-36360e106eac"
   },
   "outputs": [
    {
     "name": "stdout",
     "output_type": "stream",
     "text": [
      "<class 'pandas.core.frame.DataFrame'>\n",
      "Int64Index: 1130000 entries, 0 to 129999\n",
      "Data columns (total 7 columns):\n",
      "auditing_date    1130000 non-null datetime64[ns]\n",
      "due_amt          1130000 non-null float32\n",
      "due_date         1130000 non-null datetime64[ns]\n",
      "listing_id       1130000 non-null uint32\n",
      "repay_amt        1130000 non-null float32\n",
      "repay_date       1130000 non-null datetime64[ns]\n",
      "user_id          1130000 non-null uint32\n",
      "dtypes: datetime64[ns](3), float32(2), uint32(2)\n",
      "memory usage: 51.7 MB\n"
     ]
    }
   ],
   "source": [
    "train.info(memory_usage='deep')"
   ]
  },
  {
   "cell_type": "code",
   "execution_count": 0,
   "metadata": {
    "colab": {
     "base_uri": "https://localhost:8080/",
     "height": 359
    },
    "colab_type": "code",
    "executionInfo": {
     "elapsed": 739,
     "status": "ok",
     "timestamp": 1561985280325,
     "user": {
      "displayName": "陶士来",
      "photoUrl": "",
      "userId": "08104502188577818611"
     },
     "user_tz": -480
    },
    "id": "FXx0qEIYgHfS",
    "outputId": "2beb2225-6187-4b51-e449-59ca422ec8a1"
   },
   "outputs": [
    {
     "data": {
      "text/html": [
       "<div>\n",
       "<style scoped>\n",
       "    .dataframe tbody tr th:only-of-type {\n",
       "        vertical-align: middle;\n",
       "    }\n",
       "\n",
       "    .dataframe tbody tr th {\n",
       "        vertical-align: top;\n",
       "    }\n",
       "\n",
       "    .dataframe thead th {\n",
       "        text-align: right;\n",
       "    }\n",
       "</style>\n",
       "<table border=\"1\" class=\"dataframe\">\n",
       "  <thead>\n",
       "    <tr style=\"text-align: right;\">\n",
       "      <th></th>\n",
       "      <th>auditing_date</th>\n",
       "      <th>due_amt</th>\n",
       "      <th>due_date</th>\n",
       "      <th>listing_id</th>\n",
       "      <th>repay_amt</th>\n",
       "      <th>repay_date</th>\n",
       "      <th>user_id</th>\n",
       "    </tr>\n",
       "  </thead>\n",
       "  <tbody>\n",
       "    <tr>\n",
       "      <th>971276</th>\n",
       "      <td>2018-06-25</td>\n",
       "      <td>107.602699</td>\n",
       "      <td>2018-07-25</td>\n",
       "      <td>3835503</td>\n",
       "      <td>107.602699</td>\n",
       "      <td>2018-07-23</td>\n",
       "      <td>171803</td>\n",
       "    </tr>\n",
       "    <tr>\n",
       "      <th>495253</th>\n",
       "      <td>2018-03-26</td>\n",
       "      <td>1134.348633</td>\n",
       "      <td>2018-04-26</td>\n",
       "      <td>2774822</td>\n",
       "      <td>1134.348633</td>\n",
       "      <td>2018-04-26</td>\n",
       "      <td>67671</td>\n",
       "    </tr>\n",
       "    <tr>\n",
       "      <th>866086</th>\n",
       "      <td>2018-06-25</td>\n",
       "      <td>194.459702</td>\n",
       "      <td>2018-07-25</td>\n",
       "      <td>3832894</td>\n",
       "      <td>0.000000</td>\n",
       "      <td>2080-01-01</td>\n",
       "      <td>794746</td>\n",
       "    </tr>\n",
       "    <tr>\n",
       "      <th>868439</th>\n",
       "      <td>2018-01-25</td>\n",
       "      <td>255.276093</td>\n",
       "      <td>2018-02-25</td>\n",
       "      <td>2115683</td>\n",
       "      <td>255.276093</td>\n",
       "      <td>2018-02-24</td>\n",
       "      <td>58154</td>\n",
       "    </tr>\n",
       "    <tr>\n",
       "      <th>205951</th>\n",
       "      <td>2018-10-17</td>\n",
       "      <td>462.268188</td>\n",
       "      <td>2018-11-17</td>\n",
       "      <td>4671029</td>\n",
       "      <td>462.268188</td>\n",
       "      <td>2018-11-17</td>\n",
       "      <td>852558</td>\n",
       "    </tr>\n",
       "    <tr>\n",
       "      <th>422837</th>\n",
       "      <td>2018-11-02</td>\n",
       "      <td>458.325806</td>\n",
       "      <td>2018-12-02</td>\n",
       "      <td>4819629</td>\n",
       "      <td>458.325806</td>\n",
       "      <td>2018-12-02</td>\n",
       "      <td>562528</td>\n",
       "    </tr>\n",
       "    <tr>\n",
       "      <th>73177</th>\n",
       "      <td>2019-02-11</td>\n",
       "      <td>144.531296</td>\n",
       "      <td>2019-03-11</td>\n",
       "      <td>5322145</td>\n",
       "      <td>0.000000</td>\n",
       "      <td>2080-01-01</td>\n",
       "      <td>845146</td>\n",
       "    </tr>\n",
       "    <tr>\n",
       "      <th>89546</th>\n",
       "      <td>2019-02-27</td>\n",
       "      <td>898.467407</td>\n",
       "      <td>2019-03-27</td>\n",
       "      <td>5384674</td>\n",
       "      <td>0.000000</td>\n",
       "      <td>2080-01-01</td>\n",
       "      <td>476788</td>\n",
       "    </tr>\n",
       "    <tr>\n",
       "      <th>227372</th>\n",
       "      <td>2018-12-13</td>\n",
       "      <td>1600.046753</td>\n",
       "      <td>2019-01-13</td>\n",
       "      <td>5111466</td>\n",
       "      <td>1600.046753</td>\n",
       "      <td>2019-01-13</td>\n",
       "      <td>119936</td>\n",
       "    </tr>\n",
       "    <tr>\n",
       "      <th>267368</th>\n",
       "      <td>2018-01-31</td>\n",
       "      <td>97.300301</td>\n",
       "      <td>2018-02-28</td>\n",
       "      <td>2179315</td>\n",
       "      <td>97.300301</td>\n",
       "      <td>2018-02-25</td>\n",
       "      <td>28039</td>\n",
       "    </tr>\n",
       "  </tbody>\n",
       "</table>\n",
       "</div>"
      ],
      "text/plain": [
       "       auditing_date      due_amt   due_date  listing_id    repay_amt  \\\n",
       "971276    2018-06-25   107.602699 2018-07-25     3835503   107.602699   \n",
       "495253    2018-03-26  1134.348633 2018-04-26     2774822  1134.348633   \n",
       "866086    2018-06-25   194.459702 2018-07-25     3832894     0.000000   \n",
       "868439    2018-01-25   255.276093 2018-02-25     2115683   255.276093   \n",
       "205951    2018-10-17   462.268188 2018-11-17     4671029   462.268188   \n",
       "422837    2018-11-02   458.325806 2018-12-02     4819629   458.325806   \n",
       "73177     2019-02-11   144.531296 2019-03-11     5322145     0.000000   \n",
       "89546     2019-02-27   898.467407 2019-03-27     5384674     0.000000   \n",
       "227372    2018-12-13  1600.046753 2019-01-13     5111466  1600.046753   \n",
       "267368    2018-01-31    97.300301 2018-02-28     2179315    97.300301   \n",
       "\n",
       "       repay_date  user_id  \n",
       "971276 2018-07-23   171803  \n",
       "495253 2018-04-26    67671  \n",
       "866086 2080-01-01   794746  \n",
       "868439 2018-02-24    58154  \n",
       "205951 2018-11-17   852558  \n",
       "422837 2018-12-02   562528  \n",
       "73177  2080-01-01   845146  \n",
       "89546  2080-01-01   476788  \n",
       "227372 2019-01-13   119936  \n",
       "267368 2018-02-25    28039  "
      ]
     },
     "execution_count": 33,
     "metadata": {
      "tags": []
     },
     "output_type": "execute_result"
    }
   ],
   "source": [
    "train.sample(10)"
   ]
  },
  {
   "cell_type": "code",
   "execution_count": 0,
   "metadata": {
    "colab": {},
    "colab_type": "code",
    "id": "ZCPghGEsgHcz"
   },
   "outputs": [],
   "source": [
    "submission = pd.read_csv(path+\"/submission/submission.csv\",encoding='utf8',parse_dates=[ 'repay_date'],##字符串似乎占空间是最大的\n",
    "                        dtype={'user_id':np.uint32, 'listing_id':np.uint32,'repay_amt':np.float32\n",
    "                               }) #398W"
   ]
  },
  {
   "cell_type": "code",
   "execution_count": 0,
   "metadata": {
    "colab": {
     "base_uri": "https://localhost:8080/",
     "height": 161
    },
    "colab_type": "code",
    "executionInfo": {
     "elapsed": 1110,
     "status": "ok",
     "timestamp": 1561985671214,
     "user": {
      "displayName": "陶士来",
      "photoUrl": "",
      "userId": "08104502188577818611"
     },
     "user_tz": -480
    },
    "id": "iuICz8cVgHaR",
    "outputId": "8b5a8931-2884-44b8-d347-2991d16559ab"
   },
   "outputs": [
    {
     "name": "stdout",
     "output_type": "stream",
     "text": [
      "<class 'pandas.core.frame.DataFrame'>\n",
      "RangeIndex: 130000 entries, 0 to 129999\n",
      "Data columns (total 3 columns):\n",
      "listing_id    130000 non-null uint32\n",
      "repay_amt     117675 non-null float32\n",
      "repay_date    117675 non-null datetime64[ns]\n",
      "dtypes: datetime64[ns](1), float32(1), uint32(1)\n",
      "memory usage: 2.0 MB\n"
     ]
    }
   ],
   "source": [
    "submission.info(memory_usage='deep')"
   ]
  },
  {
   "cell_type": "code",
   "execution_count": 0,
   "metadata": {
    "colab": {},
    "colab_type": "code",
    "id": "Kg9WPsY4gHWo"
   },
   "outputs": [],
   "source": [
    "listing_info = pd.read_csv(path+\"listing_info.csv\",encoding='utf8',parse_dates=['auditing_date'],\n",
    "                          dtype={'user_id':np.uint32, 'listing_id':np.uint32,'term':np.uint32,'rate':np.float32,'principal':np.float32 \n",
    "                                #'due_amt':np.float32,'repay_amt':np.float32\n",
    "                               })"
   ]
  },
  {
   "cell_type": "code",
   "execution_count": 0,
   "metadata": {
    "colab": {
     "base_uri": "https://localhost:8080/",
     "height": 215
    },
    "colab_type": "code",
    "executionInfo": {
     "elapsed": 1060,
     "status": "ok",
     "timestamp": 1561985620638,
     "user": {
      "displayName": "陶士来",
      "photoUrl": "",
      "userId": "08104502188577818611"
     },
     "user_tz": -480
    },
    "id": "aljqDa_ngHUJ",
    "outputId": "410f452d-bbcb-44a1-bfe6-f234f6e30a7b"
   },
   "outputs": [
    {
     "name": "stdout",
     "output_type": "stream",
     "text": [
      "<class 'pandas.core.frame.DataFrame'>\n",
      "RangeIndex: 5484891 entries, 0 to 5484890\n",
      "Data columns (total 6 columns):\n",
      "user_id          uint32\n",
      "listing_id       uint32\n",
      "auditing_date    datetime64[ns]\n",
      "term             uint32\n",
      "rate             float32\n",
      "principal        float32\n",
      "dtypes: datetime64[ns](1), float32(2), uint32(3)\n",
      "memory usage: 146.5 MB\n"
     ]
    }
   ],
   "source": [
    "listing_info.info(memory_usage='deep')"
   ]
  },
  {
   "cell_type": "code",
   "execution_count": 0,
   "metadata": {
    "colab": {
     "base_uri": "https://localhost:8080/",
     "height": 359
    },
    "colab_type": "code",
    "executionInfo": {
     "elapsed": 836,
     "status": "ok",
     "timestamp": 1561985734183,
     "user": {
      "displayName": "陶士来",
      "photoUrl": "",
      "userId": "08104502188577818611"
     },
     "user_tz": -480
    },
    "id": "yJeh5UH-gHRt",
    "outputId": "5e83f225-bb23-4fe5-b4b1-0b3ed3160b25"
   },
   "outputs": [
    {
     "data": {
      "text/html": [
       "<div>\n",
       "<style scoped>\n",
       "    .dataframe tbody tr th:only-of-type {\n",
       "        vertical-align: middle;\n",
       "    }\n",
       "\n",
       "    .dataframe tbody tr th {\n",
       "        vertical-align: top;\n",
       "    }\n",
       "\n",
       "    .dataframe thead th {\n",
       "        text-align: right;\n",
       "    }\n",
       "</style>\n",
       "<table border=\"1\" class=\"dataframe\">\n",
       "  <thead>\n",
       "    <tr style=\"text-align: right;\">\n",
       "      <th></th>\n",
       "      <th>user_id</th>\n",
       "      <th>listing_id</th>\n",
       "      <th>auditing_date</th>\n",
       "      <th>term</th>\n",
       "      <th>rate</th>\n",
       "      <th>principal</th>\n",
       "    </tr>\n",
       "  </thead>\n",
       "  <tbody>\n",
       "    <tr>\n",
       "      <th>3948863</th>\n",
       "      <td>594163</td>\n",
       "      <td>4781382</td>\n",
       "      <td>2018-10-29</td>\n",
       "      <td>3</td>\n",
       "      <td>7.2</td>\n",
       "      <td>1610.0</td>\n",
       "    </tr>\n",
       "    <tr>\n",
       "      <th>4383776</th>\n",
       "      <td>377263</td>\n",
       "      <td>4565882</td>\n",
       "      <td>2018-10-01</td>\n",
       "      <td>6</td>\n",
       "      <td>8.3</td>\n",
       "      <td>3350.0</td>\n",
       "    </tr>\n",
       "    <tr>\n",
       "      <th>4899155</th>\n",
       "      <td>467246</td>\n",
       "      <td>3834112</td>\n",
       "      <td>2018-06-25</td>\n",
       "      <td>3</td>\n",
       "      <td>7.2</td>\n",
       "      <td>630.0</td>\n",
       "    </tr>\n",
       "    <tr>\n",
       "      <th>2885252</th>\n",
       "      <td>294758</td>\n",
       "      <td>5232854</td>\n",
       "      <td>2019-01-12</td>\n",
       "      <td>6</td>\n",
       "      <td>6.9</td>\n",
       "      <td>1270.0</td>\n",
       "    </tr>\n",
       "    <tr>\n",
       "      <th>2400727</th>\n",
       "      <td>919952</td>\n",
       "      <td>4948312</td>\n",
       "      <td>2018-11-20</td>\n",
       "      <td>6</td>\n",
       "      <td>7.2</td>\n",
       "      <td>3900.0</td>\n",
       "    </tr>\n",
       "    <tr>\n",
       "      <th>3394357</th>\n",
       "      <td>464802</td>\n",
       "      <td>767027</td>\n",
       "      <td>2017-08-14</td>\n",
       "      <td>12</td>\n",
       "      <td>9.3</td>\n",
       "      <td>1460.0</td>\n",
       "    </tr>\n",
       "    <tr>\n",
       "      <th>765308</th>\n",
       "      <td>137003</td>\n",
       "      <td>3856186</td>\n",
       "      <td>2018-06-27</td>\n",
       "      <td>6</td>\n",
       "      <td>8.0</td>\n",
       "      <td>5540.0</td>\n",
       "    </tr>\n",
       "    <tr>\n",
       "      <th>4767476</th>\n",
       "      <td>617770</td>\n",
       "      <td>767202</td>\n",
       "      <td>2017-08-14</td>\n",
       "      <td>12</td>\n",
       "      <td>9.3</td>\n",
       "      <td>1170.0</td>\n",
       "    </tr>\n",
       "    <tr>\n",
       "      <th>3159948</th>\n",
       "      <td>658988</td>\n",
       "      <td>2584450</td>\n",
       "      <td>2018-03-10</td>\n",
       "      <td>6</td>\n",
       "      <td>8.0</td>\n",
       "      <td>850.0</td>\n",
       "    </tr>\n",
       "    <tr>\n",
       "      <th>3320143</th>\n",
       "      <td>832379</td>\n",
       "      <td>4120966</td>\n",
       "      <td>2018-08-01</td>\n",
       "      <td>9</td>\n",
       "      <td>7.2</td>\n",
       "      <td>630.0</td>\n",
       "    </tr>\n",
       "  </tbody>\n",
       "</table>\n",
       "</div>"
      ],
      "text/plain": [
       "         user_id  listing_id auditing_date  term  rate  principal\n",
       "3948863   594163     4781382    2018-10-29     3   7.2     1610.0\n",
       "4383776   377263     4565882    2018-10-01     6   8.3     3350.0\n",
       "4899155   467246     3834112    2018-06-25     3   7.2      630.0\n",
       "2885252   294758     5232854    2019-01-12     6   6.9     1270.0\n",
       "2400727   919952     4948312    2018-11-20     6   7.2     3900.0\n",
       "3394357   464802      767027    2017-08-14    12   9.3     1460.0\n",
       "765308    137003     3856186    2018-06-27     6   8.0     5540.0\n",
       "4767476   617770      767202    2017-08-14    12   9.3     1170.0\n",
       "3159948   658988     2584450    2018-03-10     6   8.0      850.0\n",
       "3320143   832379     4120966    2018-08-01     9   7.2      630.0"
      ]
     },
     "execution_count": 45,
     "metadata": {
      "tags": []
     },
     "output_type": "execute_result"
    }
   ],
   "source": [
    "listing_info.sample(10)"
   ]
  },
  {
   "cell_type": "code",
   "execution_count": 0,
   "metadata": {
    "colab": {},
    "colab_type": "code",
    "id": "63b2SS2BgHOK"
   },
   "outputs": [],
   "source": [
    "user_info = pd.read_csv(path+\"user_info.csv\",encoding='utf8',parse_dates=['insertdate','reg_mon'],\n",
    "                        dtype={'user_id':np.uint32, 'age':np.uint32,\n",
    "                               })"
   ]
  },
  {
   "cell_type": "code",
   "execution_count": 0,
   "metadata": {
    "colab": {
     "base_uri": "https://localhost:8080/",
     "height": 251
    },
    "colab_type": "code",
    "executionInfo": {
     "elapsed": 3530,
     "status": "ok",
     "timestamp": 1561986464048,
     "user": {
      "displayName": "陶士来",
      "photoUrl": "",
      "userId": "08104502188577818611"
     },
     "user_tz": -480
    },
    "id": "2PIzm8MSgHLH",
    "outputId": "296e11e6-6e55-4dbb-cd01-6b2149786c7d"
   },
   "outputs": [
    {
     "name": "stdout",
     "output_type": "stream",
     "text": [
      "<class 'pandas.core.frame.DataFrame'>\n",
      "RangeIndex: 954209 entries, 0 to 954208\n",
      "Data columns (total 8 columns):\n",
      "user_id          954209 non-null uint32\n",
      "reg_mon          954209 non-null datetime64[ns]\n",
      "gender           954209 non-null object\n",
      "age              954209 non-null uint32\n",
      "cell_province    954209 non-null object\n",
      "id_province      954209 non-null object\n",
      "id_city          954209 non-null object\n",
      "insertdate       954209 non-null datetime64[ns]\n",
      "dtypes: datetime64[ns](2), object(4), uint32(2)\n",
      "memory usage: 264.8 MB\n"
     ]
    }
   ],
   "source": [
    "user_info.info(memory_usage='deep')"
   ]
  },
  {
   "cell_type": "code",
   "execution_count": 0,
   "metadata": {
    "colab": {
     "base_uri": "https://localhost:8080/",
     "height": 204
    },
    "colab_type": "code",
    "executionInfo": {
     "elapsed": 795,
     "status": "ok",
     "timestamp": 1561986717379,
     "user": {
      "displayName": "陶士来",
      "photoUrl": "",
      "userId": "08104502188577818611"
     },
     "user_tz": -480
    },
    "id": "zQssP8RVqbII",
    "outputId": "b71fe952-ba20-47d2-c4c5-cc927c8ab529"
   },
   "outputs": [
    {
     "data": {
      "text/html": [
       "<div>\n",
       "<style scoped>\n",
       "    .dataframe tbody tr th:only-of-type {\n",
       "        vertical-align: middle;\n",
       "    }\n",
       "\n",
       "    .dataframe tbody tr th {\n",
       "        vertical-align: top;\n",
       "    }\n",
       "\n",
       "    .dataframe thead th {\n",
       "        text-align: right;\n",
       "    }\n",
       "</style>\n",
       "<table border=\"1\" class=\"dataframe\">\n",
       "  <thead>\n",
       "    <tr style=\"text-align: right;\">\n",
       "      <th></th>\n",
       "      <th>user_id</th>\n",
       "      <th>reg_mon</th>\n",
       "      <th>gender</th>\n",
       "      <th>age</th>\n",
       "      <th>cell_province</th>\n",
       "      <th>id_province</th>\n",
       "      <th>id_city</th>\n",
       "      <th>insertdate</th>\n",
       "    </tr>\n",
       "  </thead>\n",
       "  <tbody>\n",
       "    <tr>\n",
       "      <th>0</th>\n",
       "      <td>483833</td>\n",
       "      <td>2017-04-01</td>\n",
       "      <td>男</td>\n",
       "      <td>19</td>\n",
       "      <td>c29</td>\n",
       "      <td>c26</td>\n",
       "      <td>c26241</td>\n",
       "      <td>2018-12-11</td>\n",
       "    </tr>\n",
       "    <tr>\n",
       "      <th>1</th>\n",
       "      <td>156772</td>\n",
       "      <td>2016-05-01</td>\n",
       "      <td>男</td>\n",
       "      <td>31</td>\n",
       "      <td>c11</td>\n",
       "      <td>c11</td>\n",
       "      <td>c11159</td>\n",
       "      <td>2018-02-13</td>\n",
       "    </tr>\n",
       "    <tr>\n",
       "      <th>2</th>\n",
       "      <td>173388</td>\n",
       "      <td>2016-05-01</td>\n",
       "      <td>男</td>\n",
       "      <td>34</td>\n",
       "      <td>c02</td>\n",
       "      <td>c02</td>\n",
       "      <td>c02182</td>\n",
       "      <td>2018-08-21</td>\n",
       "    </tr>\n",
       "    <tr>\n",
       "      <th>3</th>\n",
       "      <td>199107</td>\n",
       "      <td>2016-07-01</td>\n",
       "      <td>女</td>\n",
       "      <td>25</td>\n",
       "      <td>c09</td>\n",
       "      <td>c09</td>\n",
       "      <td>c09046</td>\n",
       "      <td>2018-06-05</td>\n",
       "    </tr>\n",
       "    <tr>\n",
       "      <th>4</th>\n",
       "      <td>122560</td>\n",
       "      <td>2016-03-01</td>\n",
       "      <td>男</td>\n",
       "      <td>23</td>\n",
       "      <td>c05</td>\n",
       "      <td>c05</td>\n",
       "      <td>c05193</td>\n",
       "      <td>2018-04-02</td>\n",
       "    </tr>\n",
       "  </tbody>\n",
       "</table>\n",
       "</div>"
      ],
      "text/plain": [
       "   user_id    reg_mon gender  age cell_province id_province id_city insertdate\n",
       "0   483833 2017-04-01      男   19           c29         c26  c26241 2018-12-11\n",
       "1   156772 2016-05-01      男   31           c11         c11  c11159 2018-02-13\n",
       "2   173388 2016-05-01      男   34           c02         c02  c02182 2018-08-21\n",
       "3   199107 2016-07-01      女   25           c09         c09  c09046 2018-06-05\n",
       "4   122560 2016-03-01      男   23           c05         c05  c05193 2018-04-02"
      ]
     },
     "execution_count": 50,
     "metadata": {
      "tags": []
     },
     "output_type": "execute_result"
    }
   ],
   "source": [
    "user_info.head()"
   ]
  },
  {
   "cell_type": "code",
   "execution_count": 0,
   "metadata": {
    "colab": {},
    "colab_type": "code",
    "id": "VIQ7z_2VgHB6"
   },
   "outputs": [],
   "source": [
    "#labelencoder+onehotencoder\n",
    "from sklearn.preprocessing import LabelEncoder"
   ]
  },
  {
   "cell_type": "code",
   "execution_count": 0,
   "metadata": {
    "colab": {},
    "colab_type": "code",
    "id": "61xZDvNagG_J"
   },
   "outputs": [],
   "source": [
    "user_info['gender']=LabelEncoder().fit_transform(user_info['gender'])"
   ]
  },
  {
   "cell_type": "code",
   "execution_count": 0,
   "metadata": {
    "colab": {},
    "colab_type": "code",
    "id": "L-9d_CY0uQvl"
   },
   "outputs": [],
   "source": [
    "user_info['gender']=user_info['gender'].astype(np.uint32)"
   ]
  },
  {
   "cell_type": "code",
   "execution_count": 0,
   "metadata": {
    "colab": {},
    "colab_type": "code",
    "id": "awD4TwOAz5sJ"
   },
   "outputs": [],
   "source": []
  },
  {
   "cell_type": "code",
   "execution_count": 0,
   "metadata": {
    "colab": {},
    "colab_type": "code",
    "id": "ZiRXCZKrxnct"
   },
   "outputs": [],
   "source": [
    "#fill null value and convert dtype\n",
    "for each in ['cell_province',\t'id_province',\t'id_city']:\n",
    "  user_info[each]=user_info[each].map(lambda x:np.nan if x=='\\\\N' else x )\n",
    "  user_info[each].fillna(user_info[each].mode()[0], inplace=True)\n",
    "  user_info[each]=user_info[each].map(lambda x:x[1:] ).astype(np.uint32)\n"
   ]
  },
  {
   "cell_type": "code",
   "execution_count": 0,
   "metadata": {
    "colab": {},
    "colab_type": "code",
    "id": "exlOyItHuQsa"
   },
   "outputs": [],
   "source": [
    "\n",
    "  \n",
    "    "
   ]
  },
  {
   "cell_type": "code",
   "execution_count": 0,
   "metadata": {
    "colab": {},
    "colab_type": "code",
    "id": "T-P0TTQQrGdH"
   },
   "outputs": [],
   "source": []
  },
  {
   "cell_type": "code",
   "execution_count": 0,
   "metadata": {
    "colab": {
     "base_uri": "https://localhost:8080/",
     "height": 359
    },
    "colab_type": "code",
    "executionInfo": {
     "elapsed": 753,
     "status": "ok",
     "timestamp": 1561989726544,
     "user": {
      "displayName": "陶士来",
      "photoUrl": "",
      "userId": "08104502188577818611"
     },
     "user_tz": -480
    },
    "id": "OihhwuswgG8C",
    "outputId": "72ed7e76-31b5-4559-c4c5-89ccb352241a"
   },
   "outputs": [
    {
     "data": {
      "text/html": [
       "<div>\n",
       "<style scoped>\n",
       "    .dataframe tbody tr th:only-of-type {\n",
       "        vertical-align: middle;\n",
       "    }\n",
       "\n",
       "    .dataframe tbody tr th {\n",
       "        vertical-align: top;\n",
       "    }\n",
       "\n",
       "    .dataframe thead th {\n",
       "        text-align: right;\n",
       "    }\n",
       "</style>\n",
       "<table border=\"1\" class=\"dataframe\">\n",
       "  <thead>\n",
       "    <tr style=\"text-align: right;\">\n",
       "      <th></th>\n",
       "      <th>user_id</th>\n",
       "      <th>reg_mon</th>\n",
       "      <th>gender</th>\n",
       "      <th>age</th>\n",
       "      <th>cell_province</th>\n",
       "      <th>id_province</th>\n",
       "      <th>id_city</th>\n",
       "      <th>insertdate</th>\n",
       "    </tr>\n",
       "  </thead>\n",
       "  <tbody>\n",
       "    <tr>\n",
       "      <th>0</th>\n",
       "      <td>483833</td>\n",
       "      <td>2017-04-01</td>\n",
       "      <td>1</td>\n",
       "      <td>19</td>\n",
       "      <td>29</td>\n",
       "      <td>26</td>\n",
       "      <td>26241</td>\n",
       "      <td>2018-12-11</td>\n",
       "    </tr>\n",
       "    <tr>\n",
       "      <th>1</th>\n",
       "      <td>156772</td>\n",
       "      <td>2016-05-01</td>\n",
       "      <td>1</td>\n",
       "      <td>31</td>\n",
       "      <td>11</td>\n",
       "      <td>11</td>\n",
       "      <td>11159</td>\n",
       "      <td>2018-02-13</td>\n",
       "    </tr>\n",
       "    <tr>\n",
       "      <th>2</th>\n",
       "      <td>173388</td>\n",
       "      <td>2016-05-01</td>\n",
       "      <td>1</td>\n",
       "      <td>34</td>\n",
       "      <td>2</td>\n",
       "      <td>2</td>\n",
       "      <td>2182</td>\n",
       "      <td>2018-08-21</td>\n",
       "    </tr>\n",
       "    <tr>\n",
       "      <th>3</th>\n",
       "      <td>199107</td>\n",
       "      <td>2016-07-01</td>\n",
       "      <td>0</td>\n",
       "      <td>25</td>\n",
       "      <td>9</td>\n",
       "      <td>9</td>\n",
       "      <td>9046</td>\n",
       "      <td>2018-06-05</td>\n",
       "    </tr>\n",
       "    <tr>\n",
       "      <th>4</th>\n",
       "      <td>122560</td>\n",
       "      <td>2016-03-01</td>\n",
       "      <td>1</td>\n",
       "      <td>23</td>\n",
       "      <td>5</td>\n",
       "      <td>5</td>\n",
       "      <td>5193</td>\n",
       "      <td>2018-04-02</td>\n",
       "    </tr>\n",
       "    <tr>\n",
       "      <th>5</th>\n",
       "      <td>550399</td>\n",
       "      <td>2017-06-01</td>\n",
       "      <td>1</td>\n",
       "      <td>30</td>\n",
       "      <td>8</td>\n",
       "      <td>7</td>\n",
       "      <td>7282</td>\n",
       "      <td>2018-04-19</td>\n",
       "    </tr>\n",
       "    <tr>\n",
       "      <th>6</th>\n",
       "      <td>414650</td>\n",
       "      <td>2017-02-01</td>\n",
       "      <td>1</td>\n",
       "      <td>53</td>\n",
       "      <td>12</td>\n",
       "      <td>12</td>\n",
       "      <td>23141</td>\n",
       "      <td>2018-10-16</td>\n",
       "    </tr>\n",
       "    <tr>\n",
       "      <th>7</th>\n",
       "      <td>275042</td>\n",
       "      <td>2016-10-01</td>\n",
       "      <td>0</td>\n",
       "      <td>23</td>\n",
       "      <td>21</td>\n",
       "      <td>21</td>\n",
       "      <td>21174</td>\n",
       "      <td>2018-07-10</td>\n",
       "    </tr>\n",
       "    <tr>\n",
       "      <th>8</th>\n",
       "      <td>184180</td>\n",
       "      <td>2016-06-01</td>\n",
       "      <td>1</td>\n",
       "      <td>29</td>\n",
       "      <td>4</td>\n",
       "      <td>4</td>\n",
       "      <td>4348</td>\n",
       "      <td>2018-02-08</td>\n",
       "    </tr>\n",
       "    <tr>\n",
       "      <th>9</th>\n",
       "      <td>817503</td>\n",
       "      <td>2018-03-01</td>\n",
       "      <td>1</td>\n",
       "      <td>25</td>\n",
       "      <td>6</td>\n",
       "      <td>25</td>\n",
       "      <td>25199</td>\n",
       "      <td>2018-11-27</td>\n",
       "    </tr>\n",
       "  </tbody>\n",
       "</table>\n",
       "</div>"
      ],
      "text/plain": [
       "   user_id    reg_mon  gender  age  cell_province  id_province  id_city  \\\n",
       "0   483833 2017-04-01       1   19             29           26    26241   \n",
       "1   156772 2016-05-01       1   31             11           11    11159   \n",
       "2   173388 2016-05-01       1   34              2            2     2182   \n",
       "3   199107 2016-07-01       0   25              9            9     9046   \n",
       "4   122560 2016-03-01       1   23              5            5     5193   \n",
       "5   550399 2017-06-01       1   30              8            7     7282   \n",
       "6   414650 2017-02-01       1   53             12           12    23141   \n",
       "7   275042 2016-10-01       0   23             21           21    21174   \n",
       "8   184180 2016-06-01       1   29              4            4     4348   \n",
       "9   817503 2018-03-01       1   25              6           25    25199   \n",
       "\n",
       "  insertdate  \n",
       "0 2018-12-11  \n",
       "1 2018-02-13  \n",
       "2 2018-08-21  \n",
       "3 2018-06-05  \n",
       "4 2018-04-02  \n",
       "5 2018-04-19  \n",
       "6 2018-10-16  \n",
       "7 2018-07-10  \n",
       "8 2018-02-08  \n",
       "9 2018-11-27  "
      ]
     },
     "execution_count": 75,
     "metadata": {
      "tags": []
     },
     "output_type": "execute_result"
    }
   ],
   "source": [
    "user_info.head(10)#1代表男，0代表女"
   ]
  },
  {
   "cell_type": "code",
   "execution_count": 0,
   "metadata": {
    "colab": {
     "base_uri": "https://localhost:8080/",
     "height": 251
    },
    "colab_type": "code",
    "executionInfo": {
     "elapsed": 1003,
     "status": "ok",
     "timestamp": 1561989717764,
     "user": {
      "displayName": "陶士来",
      "photoUrl": "",
      "userId": "08104502188577818611"
     },
     "user_tz": -480
    },
    "id": "5UHBxiCAgG48",
    "outputId": "c43d7676-1cb9-45af-a391-991aaba44a4a"
   },
   "outputs": [
    {
     "name": "stdout",
     "output_type": "stream",
     "text": [
      "<class 'pandas.core.frame.DataFrame'>\n",
      "RangeIndex: 954209 entries, 0 to 954208\n",
      "Data columns (total 8 columns):\n",
      "user_id          954209 non-null uint32\n",
      "reg_mon          954209 non-null datetime64[ns]\n",
      "gender           954209 non-null uint32\n",
      "age              954209 non-null uint32\n",
      "cell_province    954209 non-null uint32\n",
      "id_province      954209 non-null uint32\n",
      "id_city          954209 non-null uint32\n",
      "insertdate       954209 non-null datetime64[ns]\n",
      "dtypes: datetime64[ns](2), uint32(6)\n",
      "memory usage: 36.4 MB\n"
     ]
    }
   ],
   "source": [
    "user_info.info(memory_usage='deep')"
   ]
  },
  {
   "cell_type": "code",
   "execution_count": 0,
   "metadata": {
    "colab": {},
    "colab_type": "code",
    "id": "oJDIKQcJgG2j"
   },
   "outputs": [],
   "source": [
    "user_taglist = pd.read_csv(path+\"user_taglist.csv\",encoding='utf8',parse_dates=['insertdate'],dtype={'user_id':np.uint32})"
   ]
  },
  {
   "cell_type": "code",
   "execution_count": 0,
   "metadata": {
    "colab": {},
    "colab_type": "code",
    "id": "XzU-2Plx9vTP"
   },
   "outputs": [],
   "source": [
    "def property_feature(org):\n",
    "    tmp=org['taglist'].apply(lambda x:x.split('|')).values\n",
    "    property_dict={}\n",
    "    property_list=[]\n",
    "    for i in tmp:\n",
    "        property_list+=i\n",
    "    for i in property_list:\n",
    "        if i in property_dict:\n",
    "            property_dict[i]+=1\n",
    "        else:\n",
    "            property_dict[i] = 1\n",
    "#     print(property_dict)\n",
    "#     print('dict finish')\n",
    "    def top(x):\n",
    "        propertys=x.split('|')\n",
    "        cnt=[property_dict[i] for i in propertys]\n",
    "        res=sorted(zip(propertys,cnt),key=lambda x:x[1],reverse=True)#字典按照次数进行排序\n",
    "#         print('res',res)\n",
    "        top1=res[0][0]\n",
    "        top2 = '_'.join([i[0] for i in res[:2]])\n",
    "        top3 = '_'.join([i[0] for i in res[:3]])\n",
    "        top4 = '_'.join([i[0] for i in res[:4]])\n",
    "        top5='_'.join([i[0] for i in res[:5]])\n",
    "        top10 = '_'.join([i[0] for i in res[:10]])\n",
    "        return (top1,top2,top3,top4,top5,top10)\n",
    "    org['top']=org['taglist'].apply(top)###运用top函数\n",
    "    print('top finish')\n",
    "    org['top1']=org['top'].apply(lambda x:x[0])\n",
    "    org['top2'] = org['top'].apply(lambda x: x[1])\n",
    "    org['top3'] = org['top'].apply(lambda x: x[2])\n",
    "    org['top4'] = org['top'].apply(lambda x: x[3])\n",
    "    org['top5'] = org['top'].apply(lambda x: x[4])\n",
    "    org['top10'] = org['top'].apply(lambda x: x[5])\n",
    "#     print(org)\n",
    "#     org.to_csv('org.csv',index=False)\n",
    "    return org[['user_id','top1','top2','top3','top4','top5','top10']]"
   ]
  },
  {
   "cell_type": "code",
   "execution_count": 0,
   "metadata": {
    "colab": {},
    "colab_type": "code",
    "id": "NT80psk8-yG7"
   },
   "outputs": [],
   "source": []
  },
  {
   "cell_type": "markdown",
   "metadata": {
    "colab_type": "text",
    "id": "RY3AAwoD98Am"
   },
   "source": []
  },
  {
   "cell_type": "code",
   "execution_count": 21,
   "metadata": {
    "colab": {
     "base_uri": "https://localhost:8080/",
     "height": 35
    },
    "colab_type": "code",
    "executionInfo": {
     "elapsed": 53433,
     "status": "ok",
     "timestamp": 1562000666740,
     "user": {
      "displayName": "陶士来",
      "photoUrl": "",
      "userId": "08104502188577818611"
     },
     "user_tz": -480
    },
    "id": "hJVqIsKn98n8",
    "outputId": "537c2ba5-bc26-4b1d-c089-73bfbc29a222"
   },
   "outputs": [
    {
     "name": "stdout",
     "output_type": "stream",
     "text": [
      "top finish\n"
     ]
    }
   ],
   "source": [
    "user_taglist_new_feature= property_feature(user_taglist)"
   ]
  },
  {
   "cell_type": "code",
   "execution_count": 81,
   "metadata": {
    "colab": {
     "base_uri": "https://localhost:8080/",
     "height": 359
    },
    "colab_type": "code",
    "executionInfo": {
     "elapsed": 1169,
     "status": "ok",
     "timestamp": 1561992622887,
     "user": {
      "displayName": "陶士来",
      "photoUrl": "",
      "userId": "08104502188577818611"
     },
     "user_tz": -480
    },
    "id": "_4JQzPFhA1fW",
    "outputId": "4fc5429b-8c60-4299-9a40-8d4bc69d2d70"
   },
   "outputs": [
    {
     "data": {
      "text/html": [
       "<div>\n",
       "<style scoped>\n",
       "    .dataframe tbody tr th:only-of-type {\n",
       "        vertical-align: middle;\n",
       "    }\n",
       "\n",
       "    .dataframe tbody tr th {\n",
       "        vertical-align: top;\n",
       "    }\n",
       "\n",
       "    .dataframe thead th {\n",
       "        text-align: right;\n",
       "    }\n",
       "</style>\n",
       "<table border=\"1\" class=\"dataframe\">\n",
       "  <thead>\n",
       "    <tr style=\"text-align: right;\">\n",
       "      <th></th>\n",
       "      <th>user_id</th>\n",
       "      <th>top1</th>\n",
       "      <th>top2</th>\n",
       "      <th>top3</th>\n",
       "      <th>top4</th>\n",
       "      <th>top5</th>\n",
       "      <th>top10</th>\n",
       "    </tr>\n",
       "  </thead>\n",
       "  <tbody>\n",
       "    <tr>\n",
       "      <th>151137</th>\n",
       "      <td>708207</td>\n",
       "      <td>2017</td>\n",
       "      <td>2017_2710</td>\n",
       "      <td>2017_2710_1804</td>\n",
       "      <td>2017_2710_1804_1911</td>\n",
       "      <td>2017_2710_1804_1911_1654</td>\n",
       "      <td>2017_2710_1804_1911_1654_340_70_1876_5628_631</td>\n",
       "    </tr>\n",
       "    <tr>\n",
       "      <th>480018</th>\n",
       "      <td>220953</td>\n",
       "      <td>2017</td>\n",
       "      <td>2017_2710</td>\n",
       "      <td>2017_2710_1804</td>\n",
       "      <td>2017_2710_1804_1911</td>\n",
       "      <td>2017_2710_1804_1911_1654</td>\n",
       "      <td>2017_2710_1804_1911_1654_631_2642_2300_2431_1234</td>\n",
       "    </tr>\n",
       "    <tr>\n",
       "      <th>247312</th>\n",
       "      <td>839093</td>\n",
       "      <td>2017</td>\n",
       "      <td>2017_2710</td>\n",
       "      <td>2017_2710_1804</td>\n",
       "      <td>2017_2710_1804_1654</td>\n",
       "      <td>2017_2710_1804_1654_1876</td>\n",
       "      <td>2017_2710_1804_1654_1876_5628_727_2580_719_4185</td>\n",
       "    </tr>\n",
       "    <tr>\n",
       "      <th>360597</th>\n",
       "      <td>479212</td>\n",
       "      <td>2017</td>\n",
       "      <td>2017_2710</td>\n",
       "      <td>2017_2710_1804</td>\n",
       "      <td>2017_2710_1804_1911</td>\n",
       "      <td>2017_2710_1804_1911_1654</td>\n",
       "      <td>2017_2710_1804_1911_1654_340_440_70_1876_5628</td>\n",
       "    </tr>\n",
       "    <tr>\n",
       "      <th>227893</th>\n",
       "      <td>20124</td>\n",
       "      <td>2017</td>\n",
       "      <td>2017_1804</td>\n",
       "      <td>2017_1804_1654</td>\n",
       "      <td>2017_1804_1654_440</td>\n",
       "      <td>2017_1804_1654_440_70</td>\n",
       "      <td>2017_1804_1654_440_70_631_1478_2164_2365_2500</td>\n",
       "    </tr>\n",
       "    <tr>\n",
       "      <th>125532</th>\n",
       "      <td>781757</td>\n",
       "      <td>2017</td>\n",
       "      <td>2017_2710</td>\n",
       "      <td>2017_2710_1804</td>\n",
       "      <td>2017_2710_1804_1911</td>\n",
       "      <td>2017_2710_1804_1911_1654</td>\n",
       "      <td>2017_2710_1804_1911_1654_340_440_70_1876_5628</td>\n",
       "    </tr>\n",
       "    <tr>\n",
       "      <th>153384</th>\n",
       "      <td>482249</td>\n",
       "      <td>2017</td>\n",
       "      <td>2017_2710</td>\n",
       "      <td>2017_2710_1804</td>\n",
       "      <td>2017_2710_1804_1911</td>\n",
       "      <td>2017_2710_1804_1911_1654</td>\n",
       "      <td>2017_2710_1804_1911_1654_340_440_70_5628_631</td>\n",
       "    </tr>\n",
       "    <tr>\n",
       "      <th>142624</th>\n",
       "      <td>381417</td>\n",
       "      <td>2017</td>\n",
       "      <td>2017_2710</td>\n",
       "      <td>2017_2710_1804</td>\n",
       "      <td>2017_2710_1804_1911</td>\n",
       "      <td>2017_2710_1804_1911_1654</td>\n",
       "      <td>2017_2710_1804_1911_1654_1876_5628_727_2300_2580</td>\n",
       "    </tr>\n",
       "    <tr>\n",
       "      <th>189233</th>\n",
       "      <td>503441</td>\n",
       "      <td>2017</td>\n",
       "      <td>2017_2710</td>\n",
       "      <td>2017_2710_1804</td>\n",
       "      <td>2017_2710_1804_1911</td>\n",
       "      <td>2017_2710_1804_1911_1654</td>\n",
       "      <td>2017_2710_1804_1911_1654_340_440_70_1876_5628</td>\n",
       "    </tr>\n",
       "    <tr>\n",
       "      <th>212714</th>\n",
       "      <td>616596</td>\n",
       "      <td>2017</td>\n",
       "      <td>2017_2710</td>\n",
       "      <td>2017_2710_1804</td>\n",
       "      <td>2017_2710_1804_1911</td>\n",
       "      <td>2017_2710_1804_1911_1654</td>\n",
       "      <td>2017_2710_1804_1911_1654_340_440_5628_631_2580</td>\n",
       "    </tr>\n",
       "  </tbody>\n",
       "</table>\n",
       "</div>"
      ],
      "text/plain": [
       "        user_id  top1       top2            top3                 top4  \\\n",
       "151137   708207  2017  2017_2710  2017_2710_1804  2017_2710_1804_1911   \n",
       "480018   220953  2017  2017_2710  2017_2710_1804  2017_2710_1804_1911   \n",
       "247312   839093  2017  2017_2710  2017_2710_1804  2017_2710_1804_1654   \n",
       "360597   479212  2017  2017_2710  2017_2710_1804  2017_2710_1804_1911   \n",
       "227893    20124  2017  2017_1804  2017_1804_1654   2017_1804_1654_440   \n",
       "125532   781757  2017  2017_2710  2017_2710_1804  2017_2710_1804_1911   \n",
       "153384   482249  2017  2017_2710  2017_2710_1804  2017_2710_1804_1911   \n",
       "142624   381417  2017  2017_2710  2017_2710_1804  2017_2710_1804_1911   \n",
       "189233   503441  2017  2017_2710  2017_2710_1804  2017_2710_1804_1911   \n",
       "212714   616596  2017  2017_2710  2017_2710_1804  2017_2710_1804_1911   \n",
       "\n",
       "                            top5  \\\n",
       "151137  2017_2710_1804_1911_1654   \n",
       "480018  2017_2710_1804_1911_1654   \n",
       "247312  2017_2710_1804_1654_1876   \n",
       "360597  2017_2710_1804_1911_1654   \n",
       "227893     2017_1804_1654_440_70   \n",
       "125532  2017_2710_1804_1911_1654   \n",
       "153384  2017_2710_1804_1911_1654   \n",
       "142624  2017_2710_1804_1911_1654   \n",
       "189233  2017_2710_1804_1911_1654   \n",
       "212714  2017_2710_1804_1911_1654   \n",
       "\n",
       "                                                   top10  \n",
       "151137     2017_2710_1804_1911_1654_340_70_1876_5628_631  \n",
       "480018  2017_2710_1804_1911_1654_631_2642_2300_2431_1234  \n",
       "247312   2017_2710_1804_1654_1876_5628_727_2580_719_4185  \n",
       "360597     2017_2710_1804_1911_1654_340_440_70_1876_5628  \n",
       "227893     2017_1804_1654_440_70_631_1478_2164_2365_2500  \n",
       "125532     2017_2710_1804_1911_1654_340_440_70_1876_5628  \n",
       "153384      2017_2710_1804_1911_1654_340_440_70_5628_631  \n",
       "142624  2017_2710_1804_1911_1654_1876_5628_727_2300_2580  \n",
       "189233     2017_2710_1804_1911_1654_340_440_70_1876_5628  \n",
       "212714    2017_2710_1804_1911_1654_340_440_5628_631_2580  "
      ]
     },
     "execution_count": 81,
     "metadata": {
      "tags": []
     },
     "output_type": "execute_result"
    }
   ],
   "source": [
    "user_taglist_new_feature.sample(10)"
   ]
  },
  {
   "cell_type": "code",
   "execution_count": 23,
   "metadata": {
    "colab": {
     "base_uri": "https://localhost:8080/",
     "height": 737
    },
    "colab_type": "code",
    "executionInfo": {
     "elapsed": 1928,
     "status": "error",
     "timestamp": 1562000881917,
     "user": {
      "displayName": "陶士来",
      "photoUrl": "",
      "userId": "08104502188577818611"
     },
     "user_tz": -480
    },
    "id": "CM66bUQOCeey",
    "outputId": "daed5d71-a692-40c4-baba-05db3cf4ed9b"
   },
   "outputs": [
    {
     "ename": "KeyError",
     "evalue": "ignored",
     "output_type": "error",
     "traceback": [
      "\u001b[0;31m---------------------------------------------------------------------------\u001b[0m",
      "\u001b[0;31mKeyError\u001b[0m                                  Traceback (most recent call last)",
      "\u001b[0;32m/usr/local/lib/python3.6/dist-packages/pandas/core/indexes/base.py\u001b[0m in \u001b[0;36mget_loc\u001b[0;34m(self, key, method, tolerance)\u001b[0m\n\u001b[1;32m   2656\u001b[0m             \u001b[0;32mtry\u001b[0m\u001b[0;34m:\u001b[0m\u001b[0;34m\u001b[0m\u001b[0;34m\u001b[0m\u001b[0m\n\u001b[0;32m-> 2657\u001b[0;31m                 \u001b[0;32mreturn\u001b[0m \u001b[0mself\u001b[0m\u001b[0;34m.\u001b[0m\u001b[0m_engine\u001b[0m\u001b[0;34m.\u001b[0m\u001b[0mget_loc\u001b[0m\u001b[0;34m(\u001b[0m\u001b[0mkey\u001b[0m\u001b[0;34m)\u001b[0m\u001b[0;34m\u001b[0m\u001b[0;34m\u001b[0m\u001b[0m\n\u001b[0m\u001b[1;32m   2658\u001b[0m             \u001b[0;32mexcept\u001b[0m \u001b[0mKeyError\u001b[0m\u001b[0;34m:\u001b[0m\u001b[0;34m\u001b[0m\u001b[0;34m\u001b[0m\u001b[0m\n",
      "\u001b[0;32mpandas/_libs/index.pyx\u001b[0m in \u001b[0;36mpandas._libs.index.IndexEngine.get_loc\u001b[0;34m()\u001b[0m\n",
      "\u001b[0;32mpandas/_libs/index.pyx\u001b[0m in \u001b[0;36mpandas._libs.index.IndexEngine.get_loc\u001b[0;34m()\u001b[0m\n",
      "\u001b[0;32mpandas/_libs/hashtable_class_helper.pxi\u001b[0m in \u001b[0;36mpandas._libs.hashtable.PyObjectHashTable.get_item\u001b[0;34m()\u001b[0m\n",
      "\u001b[0;32mpandas/_libs/hashtable_class_helper.pxi\u001b[0m in \u001b[0;36mpandas._libs.hashtable.PyObjectHashTable.get_item\u001b[0;34m()\u001b[0m\n",
      "\u001b[0;31mKeyError\u001b[0m: 'taglist'",
      "\nDuring handling of the above exception, another exception occurred:\n",
      "\u001b[0;31mKeyError\u001b[0m                                  Traceback (most recent call last)",
      "\u001b[0;32m<ipython-input-23-d6316475d9d4>\u001b[0m in \u001b[0;36m<module>\u001b[0;34m()\u001b[0m\n\u001b[1;32m      1\u001b[0m \u001b[0;32mimport\u001b[0m \u001b[0mgc\u001b[0m\u001b[0;34m\u001b[0m\u001b[0;34m\u001b[0m\u001b[0m\n\u001b[0;32m----> 2\u001b[0;31m \u001b[0;32mdel\u001b[0m \u001b[0muser_taglist\u001b[0m\u001b[0;34m[\u001b[0m\u001b[0;34m'taglist'\u001b[0m\u001b[0;34m]\u001b[0m\u001b[0;34m\u001b[0m\u001b[0;34m\u001b[0m\u001b[0m\n\u001b[0m\u001b[1;32m      3\u001b[0m \u001b[0;32mdel\u001b[0m \u001b[0muser_taglist\u001b[0m\u001b[0;34m[\u001b[0m\u001b[0;34m'top'\u001b[0m\u001b[0;34m]\u001b[0m\u001b[0;34m\u001b[0m\u001b[0;34m\u001b[0m\u001b[0m\n\u001b[1;32m      4\u001b[0m \u001b[0mgc\u001b[0m\u001b[0;34m.\u001b[0m\u001b[0mcollect\u001b[0m\u001b[0;34m(\u001b[0m\u001b[0;34m)\u001b[0m\u001b[0;34m\u001b[0m\u001b[0;34m\u001b[0m\u001b[0m\n",
      "\u001b[0;32m/usr/local/lib/python3.6/dist-packages/pandas/core/generic.py\u001b[0m in \u001b[0;36m__delitem__\u001b[0;34m(self, key)\u001b[0m\n\u001b[1;32m   3313\u001b[0m             \u001b[0;31m# there was no match, this call should raise the appropriate\u001b[0m\u001b[0;34m\u001b[0m\u001b[0;34m\u001b[0m\u001b[0;34m\u001b[0m\u001b[0m\n\u001b[1;32m   3314\u001b[0m             \u001b[0;31m# exception:\u001b[0m\u001b[0;34m\u001b[0m\u001b[0;34m\u001b[0m\u001b[0;34m\u001b[0m\u001b[0m\n\u001b[0;32m-> 3315\u001b[0;31m             \u001b[0mself\u001b[0m\u001b[0;34m.\u001b[0m\u001b[0m_data\u001b[0m\u001b[0;34m.\u001b[0m\u001b[0mdelete\u001b[0m\u001b[0;34m(\u001b[0m\u001b[0mkey\u001b[0m\u001b[0;34m)\u001b[0m\u001b[0;34m\u001b[0m\u001b[0;34m\u001b[0m\u001b[0m\n\u001b[0m\u001b[1;32m   3316\u001b[0m \u001b[0;34m\u001b[0m\u001b[0m\n\u001b[1;32m   3317\u001b[0m         \u001b[0;31m# delete from the caches\u001b[0m\u001b[0;34m\u001b[0m\u001b[0;34m\u001b[0m\u001b[0;34m\u001b[0m\u001b[0m\n",
      "\u001b[0;32m/usr/local/lib/python3.6/dist-packages/pandas/core/internals/managers.py\u001b[0m in \u001b[0;36mdelete\u001b[0;34m(self, item)\u001b[0m\n\u001b[1;32m    983\u001b[0m         \u001b[0mDelete\u001b[0m \u001b[0mselected\u001b[0m \u001b[0mitem\u001b[0m \u001b[0;34m(\u001b[0m\u001b[0mitems\u001b[0m \u001b[0;32mif\u001b[0m \u001b[0mnon\u001b[0m\u001b[0;34m-\u001b[0m\u001b[0munique\u001b[0m\u001b[0;34m)\u001b[0m \u001b[0;32min\u001b[0m\u001b[0;34m-\u001b[0m\u001b[0mplace\u001b[0m\u001b[0;34m.\u001b[0m\u001b[0;34m\u001b[0m\u001b[0;34m\u001b[0m\u001b[0m\n\u001b[1;32m    984\u001b[0m         \"\"\"\n\u001b[0;32m--> 985\u001b[0;31m         \u001b[0mindexer\u001b[0m \u001b[0;34m=\u001b[0m \u001b[0mself\u001b[0m\u001b[0;34m.\u001b[0m\u001b[0mitems\u001b[0m\u001b[0;34m.\u001b[0m\u001b[0mget_loc\u001b[0m\u001b[0;34m(\u001b[0m\u001b[0mitem\u001b[0m\u001b[0;34m)\u001b[0m\u001b[0;34m\u001b[0m\u001b[0;34m\u001b[0m\u001b[0m\n\u001b[0m\u001b[1;32m    986\u001b[0m \u001b[0;34m\u001b[0m\u001b[0m\n\u001b[1;32m    987\u001b[0m         \u001b[0mis_deleted\u001b[0m \u001b[0;34m=\u001b[0m \u001b[0mnp\u001b[0m\u001b[0;34m.\u001b[0m\u001b[0mzeros\u001b[0m\u001b[0;34m(\u001b[0m\u001b[0mself\u001b[0m\u001b[0;34m.\u001b[0m\u001b[0mshape\u001b[0m\u001b[0;34m[\u001b[0m\u001b[0;36m0\u001b[0m\u001b[0;34m]\u001b[0m\u001b[0;34m,\u001b[0m \u001b[0mdtype\u001b[0m\u001b[0;34m=\u001b[0m\u001b[0mnp\u001b[0m\u001b[0;34m.\u001b[0m\u001b[0mbool_\u001b[0m\u001b[0;34m)\u001b[0m\u001b[0;34m\u001b[0m\u001b[0;34m\u001b[0m\u001b[0m\n",
      "\u001b[0;32m/usr/local/lib/python3.6/dist-packages/pandas/core/indexes/base.py\u001b[0m in \u001b[0;36mget_loc\u001b[0;34m(self, key, method, tolerance)\u001b[0m\n\u001b[1;32m   2657\u001b[0m                 \u001b[0;32mreturn\u001b[0m \u001b[0mself\u001b[0m\u001b[0;34m.\u001b[0m\u001b[0m_engine\u001b[0m\u001b[0;34m.\u001b[0m\u001b[0mget_loc\u001b[0m\u001b[0;34m(\u001b[0m\u001b[0mkey\u001b[0m\u001b[0;34m)\u001b[0m\u001b[0;34m\u001b[0m\u001b[0;34m\u001b[0m\u001b[0m\n\u001b[1;32m   2658\u001b[0m             \u001b[0;32mexcept\u001b[0m \u001b[0mKeyError\u001b[0m\u001b[0;34m:\u001b[0m\u001b[0;34m\u001b[0m\u001b[0;34m\u001b[0m\u001b[0m\n\u001b[0;32m-> 2659\u001b[0;31m                 \u001b[0;32mreturn\u001b[0m \u001b[0mself\u001b[0m\u001b[0;34m.\u001b[0m\u001b[0m_engine\u001b[0m\u001b[0;34m.\u001b[0m\u001b[0mget_loc\u001b[0m\u001b[0;34m(\u001b[0m\u001b[0mself\u001b[0m\u001b[0;34m.\u001b[0m\u001b[0m_maybe_cast_indexer\u001b[0m\u001b[0;34m(\u001b[0m\u001b[0mkey\u001b[0m\u001b[0;34m)\u001b[0m\u001b[0;34m)\u001b[0m\u001b[0;34m\u001b[0m\u001b[0;34m\u001b[0m\u001b[0m\n\u001b[0m\u001b[1;32m   2660\u001b[0m         \u001b[0mindexer\u001b[0m \u001b[0;34m=\u001b[0m \u001b[0mself\u001b[0m\u001b[0;34m.\u001b[0m\u001b[0mget_indexer\u001b[0m\u001b[0;34m(\u001b[0m\u001b[0;34m[\u001b[0m\u001b[0mkey\u001b[0m\u001b[0;34m]\u001b[0m\u001b[0;34m,\u001b[0m \u001b[0mmethod\u001b[0m\u001b[0;34m=\u001b[0m\u001b[0mmethod\u001b[0m\u001b[0;34m,\u001b[0m \u001b[0mtolerance\u001b[0m\u001b[0;34m=\u001b[0m\u001b[0mtolerance\u001b[0m\u001b[0;34m)\u001b[0m\u001b[0;34m\u001b[0m\u001b[0;34m\u001b[0m\u001b[0m\n\u001b[1;32m   2661\u001b[0m         \u001b[0;32mif\u001b[0m \u001b[0mindexer\u001b[0m\u001b[0;34m.\u001b[0m\u001b[0mndim\u001b[0m \u001b[0;34m>\u001b[0m \u001b[0;36m1\u001b[0m \u001b[0;32mor\u001b[0m \u001b[0mindexer\u001b[0m\u001b[0;34m.\u001b[0m\u001b[0msize\u001b[0m \u001b[0;34m>\u001b[0m \u001b[0;36m1\u001b[0m\u001b[0;34m:\u001b[0m\u001b[0;34m\u001b[0m\u001b[0;34m\u001b[0m\u001b[0m\n",
      "\u001b[0;32mpandas/_libs/index.pyx\u001b[0m in \u001b[0;36mpandas._libs.index.IndexEngine.get_loc\u001b[0;34m()\u001b[0m\n",
      "\u001b[0;32mpandas/_libs/index.pyx\u001b[0m in \u001b[0;36mpandas._libs.index.IndexEngine.get_loc\u001b[0;34m()\u001b[0m\n",
      "\u001b[0;32mpandas/_libs/hashtable_class_helper.pxi\u001b[0m in \u001b[0;36mpandas._libs.hashtable.PyObjectHashTable.get_item\u001b[0;34m()\u001b[0m\n",
      "\u001b[0;32mpandas/_libs/hashtable_class_helper.pxi\u001b[0m in \u001b[0;36mpandas._libs.hashtable.PyObjectHashTable.get_item\u001b[0;34m()\u001b[0m\n",
      "\u001b[0;31mKeyError\u001b[0m: 'taglist'"
     ]
    }
   ],
   "source": [
    "import gc\n",
    "del user_taglist['taglist']\n",
    "del user_taglist['top']\n",
    "gc.collect()"
   ]
  },
  {
   "cell_type": "code",
   "execution_count": 24,
   "metadata": {
    "colab": {
     "base_uri": "https://localhost:8080/",
     "height": 549
    },
    "colab_type": "code",
    "executionInfo": {
     "elapsed": 805,
     "status": "ok",
     "timestamp": 1562000927532,
     "user": {
      "displayName": "陶士来",
      "photoUrl": "",
      "userId": "08104502188577818611"
     },
     "user_tz": -480
    },
    "id": "sIHVgVIXCUAA",
    "outputId": "ac0931cd-a09e-42a1-8afa-7cf547cae8c3"
   },
   "outputs": [
    {
     "data": {
      "text/html": [
       "<div>\n",
       "<style scoped>\n",
       "    .dataframe tbody tr th:only-of-type {\n",
       "        vertical-align: middle;\n",
       "    }\n",
       "\n",
       "    .dataframe tbody tr th {\n",
       "        vertical-align: top;\n",
       "    }\n",
       "\n",
       "    .dataframe thead th {\n",
       "        text-align: right;\n",
       "    }\n",
       "</style>\n",
       "<table border=\"1\" class=\"dataframe\">\n",
       "  <thead>\n",
       "    <tr style=\"text-align: right;\">\n",
       "      <th></th>\n",
       "      <th>user_id</th>\n",
       "      <th>insertdate</th>\n",
       "      <th>top1</th>\n",
       "      <th>top2</th>\n",
       "      <th>top3</th>\n",
       "      <th>top4</th>\n",
       "      <th>top5</th>\n",
       "      <th>top10</th>\n",
       "    </tr>\n",
       "  </thead>\n",
       "  <tbody>\n",
       "    <tr>\n",
       "      <th>413424</th>\n",
       "      <td>31006</td>\n",
       "      <td>2018-12-03</td>\n",
       "      <td>2017</td>\n",
       "      <td>2017_2710</td>\n",
       "      <td>2017_2710_1804</td>\n",
       "      <td>2017_2710_1804_1911</td>\n",
       "      <td>2017_2710_1804_1911_440</td>\n",
       "      <td>2017_2710_1804_1911_440_70_1876_5628_727_2300</td>\n",
       "    </tr>\n",
       "    <tr>\n",
       "      <th>324805</th>\n",
       "      <td>522535</td>\n",
       "      <td>2018-11-17</td>\n",
       "      <td>2017</td>\n",
       "      <td>2017_2710</td>\n",
       "      <td>2017_2710_1804</td>\n",
       "      <td>2017_2710_1804_1911</td>\n",
       "      <td>2017_2710_1804_1911_1654</td>\n",
       "      <td>2017_2710_1804_1911_1654_340_70_1876_5628_631</td>\n",
       "    </tr>\n",
       "    <tr>\n",
       "      <th>281087</th>\n",
       "      <td>437244</td>\n",
       "      <td>2018-01-30</td>\n",
       "      <td>2017</td>\n",
       "      <td>2017_2710</td>\n",
       "      <td>2017_2710_1804</td>\n",
       "      <td>2017_2710_1804_1911</td>\n",
       "      <td>2017_2710_1804_1911_1654</td>\n",
       "      <td>2017_2710_1804_1911_1654_340_440_70_1876_631</td>\n",
       "    </tr>\n",
       "    <tr>\n",
       "      <th>125556</th>\n",
       "      <td>780127</td>\n",
       "      <td>2018-08-12</td>\n",
       "      <td>2017</td>\n",
       "      <td>2017_2710</td>\n",
       "      <td>2017_2710_1804</td>\n",
       "      <td>2017_2710_1804_1911</td>\n",
       "      <td>2017_2710_1804_1911_1654</td>\n",
       "      <td>2017_2710_1804_1911_1654_340_440_70_1876_5628</td>\n",
       "    </tr>\n",
       "    <tr>\n",
       "      <th>18873</th>\n",
       "      <td>618028</td>\n",
       "      <td>2018-05-24</td>\n",
       "      <td>2017</td>\n",
       "      <td>2017_2710</td>\n",
       "      <td>2017_2710_1804</td>\n",
       "      <td>2017_2710_1804_1911</td>\n",
       "      <td>2017_2710_1804_1911_1654</td>\n",
       "      <td>2017_2710_1804_1911_1654_340_440_70_1876_5628</td>\n",
       "    </tr>\n",
       "    <tr>\n",
       "      <th>133211</th>\n",
       "      <td>146928</td>\n",
       "      <td>2018-10-21</td>\n",
       "      <td>2017</td>\n",
       "      <td>2017_2710</td>\n",
       "      <td>2017_2710_1804</td>\n",
       "      <td>2017_2710_1804_1911</td>\n",
       "      <td>2017_2710_1804_1911_1654</td>\n",
       "      <td>2017_2710_1804_1911_1654_340_440_70_1876_5628</td>\n",
       "    </tr>\n",
       "    <tr>\n",
       "      <th>285571</th>\n",
       "      <td>831596</td>\n",
       "      <td>2018-12-15</td>\n",
       "      <td>2017</td>\n",
       "      <td>2017_2710</td>\n",
       "      <td>2017_2710_1804</td>\n",
       "      <td>2017_2710_1804_1911</td>\n",
       "      <td>2017_2710_1804_1911_1654</td>\n",
       "      <td>2017_2710_1804_1911_1654_440_631_2300_4185_1478</td>\n",
       "    </tr>\n",
       "    <tr>\n",
       "      <th>376647</th>\n",
       "      <td>837042</td>\n",
       "      <td>2018-07-05</td>\n",
       "      <td>2017</td>\n",
       "      <td>2017_2710</td>\n",
       "      <td>2017_2710_1804</td>\n",
       "      <td>2017_2710_1804_1911</td>\n",
       "      <td>2017_2710_1804_1911_340</td>\n",
       "      <td>2017_2710_1804_1911_340_440_70_1876_5628_631</td>\n",
       "    </tr>\n",
       "    <tr>\n",
       "      <th>266095</th>\n",
       "      <td>426205</td>\n",
       "      <td>2018-07-06</td>\n",
       "      <td>2017</td>\n",
       "      <td>2017_2710</td>\n",
       "      <td>2017_2710_1804</td>\n",
       "      <td>2017_2710_1804_1911</td>\n",
       "      <td>2017_2710_1804_1911_1654</td>\n",
       "      <td>2017_2710_1804_1911_1654_340_440_70_631_727</td>\n",
       "    </tr>\n",
       "    <tr>\n",
       "      <th>113889</th>\n",
       "      <td>826912</td>\n",
       "      <td>2018-12-22</td>\n",
       "      <td>2017</td>\n",
       "      <td>2017_2710</td>\n",
       "      <td>2017_2710_1804</td>\n",
       "      <td>2017_2710_1804_1911</td>\n",
       "      <td>2017_2710_1804_1911_1654</td>\n",
       "      <td>2017_2710_1804_1911_1654_340_440_70_1876_5628</td>\n",
       "    </tr>\n",
       "  </tbody>\n",
       "</table>\n",
       "</div>"
      ],
      "text/plain": [
       "        user_id insertdate  top1       top2            top3  \\\n",
       "413424    31006 2018-12-03  2017  2017_2710  2017_2710_1804   \n",
       "324805   522535 2018-11-17  2017  2017_2710  2017_2710_1804   \n",
       "281087   437244 2018-01-30  2017  2017_2710  2017_2710_1804   \n",
       "125556   780127 2018-08-12  2017  2017_2710  2017_2710_1804   \n",
       "18873    618028 2018-05-24  2017  2017_2710  2017_2710_1804   \n",
       "133211   146928 2018-10-21  2017  2017_2710  2017_2710_1804   \n",
       "285571   831596 2018-12-15  2017  2017_2710  2017_2710_1804   \n",
       "376647   837042 2018-07-05  2017  2017_2710  2017_2710_1804   \n",
       "266095   426205 2018-07-06  2017  2017_2710  2017_2710_1804   \n",
       "113889   826912 2018-12-22  2017  2017_2710  2017_2710_1804   \n",
       "\n",
       "                       top4                      top5  \\\n",
       "413424  2017_2710_1804_1911   2017_2710_1804_1911_440   \n",
       "324805  2017_2710_1804_1911  2017_2710_1804_1911_1654   \n",
       "281087  2017_2710_1804_1911  2017_2710_1804_1911_1654   \n",
       "125556  2017_2710_1804_1911  2017_2710_1804_1911_1654   \n",
       "18873   2017_2710_1804_1911  2017_2710_1804_1911_1654   \n",
       "133211  2017_2710_1804_1911  2017_2710_1804_1911_1654   \n",
       "285571  2017_2710_1804_1911  2017_2710_1804_1911_1654   \n",
       "376647  2017_2710_1804_1911   2017_2710_1804_1911_340   \n",
       "266095  2017_2710_1804_1911  2017_2710_1804_1911_1654   \n",
       "113889  2017_2710_1804_1911  2017_2710_1804_1911_1654   \n",
       "\n",
       "                                                  top10  \n",
       "413424    2017_2710_1804_1911_440_70_1876_5628_727_2300  \n",
       "324805    2017_2710_1804_1911_1654_340_70_1876_5628_631  \n",
       "281087     2017_2710_1804_1911_1654_340_440_70_1876_631  \n",
       "125556    2017_2710_1804_1911_1654_340_440_70_1876_5628  \n",
       "18873     2017_2710_1804_1911_1654_340_440_70_1876_5628  \n",
       "133211    2017_2710_1804_1911_1654_340_440_70_1876_5628  \n",
       "285571  2017_2710_1804_1911_1654_440_631_2300_4185_1478  \n",
       "376647     2017_2710_1804_1911_340_440_70_1876_5628_631  \n",
       "266095      2017_2710_1804_1911_1654_340_440_70_631_727  \n",
       "113889    2017_2710_1804_1911_1654_340_440_70_1876_5628  "
      ]
     },
     "execution_count": 24,
     "metadata": {
      "tags": []
     },
     "output_type": "execute_result"
    }
   ],
   "source": [
    "user_taglist.sample(10)"
   ]
  },
  {
   "cell_type": "code",
   "execution_count": 0,
   "metadata": {
    "colab": {},
    "colab_type": "code",
    "id": "KHZd_GaSA9x7"
   },
   "outputs": [],
   "source": [
    "#lablencoder\n",
    "for each in ['top1','top2','top3','top4','top5','top10']:\n",
    "  user_taglist[each]=LabelEncoder().fit_transform(user_taglist[each]).astype(np.uint32)"
   ]
  },
  {
   "cell_type": "code",
   "execution_count": 84,
   "metadata": {
    "colab": {
     "base_uri": "https://localhost:8080/",
     "height": 35
    },
    "colab_type": "code",
    "executionInfo": {
     "elapsed": 1107,
     "status": "ok",
     "timestamp": 1561992737328,
     "user": {
      "displayName": "陶士来",
      "photoUrl": "",
      "userId": "08104502188577818611"
     },
     "user_tz": -480
    },
    "id": "dLGFdfxyBTjs",
    "outputId": "27ecd5ec-40f1-41d1-f454-84fb87627179"
   },
   "outputs": [
    {
     "data": {
      "text/plain": [
       "107"
      ]
     },
     "execution_count": 84,
     "metadata": {
      "tags": []
     },
     "output_type": "execute_result"
    }
   ],
   "source": []
  },
  {
   "cell_type": "code",
   "execution_count": 26,
   "metadata": {
    "colab": {
     "base_uri": "https://localhost:8080/",
     "height": 359
    },
    "colab_type": "code",
    "executionInfo": {
     "elapsed": 800,
     "status": "ok",
     "timestamp": 1562000965839,
     "user": {
      "displayName": "陶士来",
      "photoUrl": "",
      "userId": "08104502188577818611"
     },
     "user_tz": -480
    },
    "id": "tv0uVs7SA9vL",
    "outputId": "836d3227-43a2-40a6-8599-d8ac53f930b7"
   },
   "outputs": [
    {
     "data": {
      "text/html": [
       "<div>\n",
       "<style scoped>\n",
       "    .dataframe tbody tr th:only-of-type {\n",
       "        vertical-align: middle;\n",
       "    }\n",
       "\n",
       "    .dataframe tbody tr th {\n",
       "        vertical-align: top;\n",
       "    }\n",
       "\n",
       "    .dataframe thead th {\n",
       "        text-align: right;\n",
       "    }\n",
       "</style>\n",
       "<table border=\"1\" class=\"dataframe\">\n",
       "  <thead>\n",
       "    <tr style=\"text-align: right;\">\n",
       "      <th></th>\n",
       "      <th>user_id</th>\n",
       "      <th>insertdate</th>\n",
       "      <th>top1</th>\n",
       "      <th>top2</th>\n",
       "      <th>top3</th>\n",
       "      <th>top4</th>\n",
       "      <th>top5</th>\n",
       "      <th>top10</th>\n",
       "    </tr>\n",
       "  </thead>\n",
       "  <tbody>\n",
       "    <tr>\n",
       "      <th>540182</th>\n",
       "      <td>459083</td>\n",
       "      <td>2018-11-19</td>\n",
       "      <td>18</td>\n",
       "      <td>146</td>\n",
       "      <td>538</td>\n",
       "      <td>1093</td>\n",
       "      <td>1606</td>\n",
       "      <td>2905</td>\n",
       "    </tr>\n",
       "    <tr>\n",
       "      <th>130422</th>\n",
       "      <td>794097</td>\n",
       "      <td>2018-12-03</td>\n",
       "      <td>18</td>\n",
       "      <td>166</td>\n",
       "      <td>687</td>\n",
       "      <td>1898</td>\n",
       "      <td>4308</td>\n",
       "      <td>38443</td>\n",
       "    </tr>\n",
       "    <tr>\n",
       "      <th>516696</th>\n",
       "      <td>221699</td>\n",
       "      <td>2018-10-01</td>\n",
       "      <td>18</td>\n",
       "      <td>166</td>\n",
       "      <td>687</td>\n",
       "      <td>1898</td>\n",
       "      <td>4308</td>\n",
       "      <td>38582</td>\n",
       "    </tr>\n",
       "    <tr>\n",
       "      <th>431996</th>\n",
       "      <td>51262</td>\n",
       "      <td>2018-04-25</td>\n",
       "      <td>18</td>\n",
       "      <td>166</td>\n",
       "      <td>687</td>\n",
       "      <td>1898</td>\n",
       "      <td>4308</td>\n",
       "      <td>38443</td>\n",
       "    </tr>\n",
       "    <tr>\n",
       "      <th>546230</th>\n",
       "      <td>791463</td>\n",
       "      <td>2018-06-21</td>\n",
       "      <td>18</td>\n",
       "      <td>166</td>\n",
       "      <td>687</td>\n",
       "      <td>1898</td>\n",
       "      <td>4308</td>\n",
       "      <td>39982</td>\n",
       "    </tr>\n",
       "    <tr>\n",
       "      <th>175985</th>\n",
       "      <td>293275</td>\n",
       "      <td>2018-05-27</td>\n",
       "      <td>18</td>\n",
       "      <td>166</td>\n",
       "      <td>687</td>\n",
       "      <td>1898</td>\n",
       "      <td>4308</td>\n",
       "      <td>38445</td>\n",
       "    </tr>\n",
       "    <tr>\n",
       "      <th>322076</th>\n",
       "      <td>837538</td>\n",
       "      <td>2018-11-07</td>\n",
       "      <td>18</td>\n",
       "      <td>166</td>\n",
       "      <td>687</td>\n",
       "      <td>1898</td>\n",
       "      <td>4308</td>\n",
       "      <td>37847</td>\n",
       "    </tr>\n",
       "    <tr>\n",
       "      <th>537118</th>\n",
       "      <td>115138</td>\n",
       "      <td>2018-12-11</td>\n",
       "      <td>18</td>\n",
       "      <td>166</td>\n",
       "      <td>687</td>\n",
       "      <td>1894</td>\n",
       "      <td>4238</td>\n",
       "      <td>22330</td>\n",
       "    </tr>\n",
       "    <tr>\n",
       "      <th>409934</th>\n",
       "      <td>284485</td>\n",
       "      <td>2018-12-21</td>\n",
       "      <td>18</td>\n",
       "      <td>166</td>\n",
       "      <td>687</td>\n",
       "      <td>1898</td>\n",
       "      <td>4308</td>\n",
       "      <td>37847</td>\n",
       "    </tr>\n",
       "    <tr>\n",
       "      <th>228941</th>\n",
       "      <td>389673</td>\n",
       "      <td>2018-11-26</td>\n",
       "      <td>18</td>\n",
       "      <td>149</td>\n",
       "      <td>590</td>\n",
       "      <td>1485</td>\n",
       "      <td>2916</td>\n",
       "      <td>11055</td>\n",
       "    </tr>\n",
       "  </tbody>\n",
       "</table>\n",
       "</div>"
      ],
      "text/plain": [
       "        user_id insertdate  top1  top2  top3  top4  top5  top10\n",
       "540182   459083 2018-11-19    18   146   538  1093  1606   2905\n",
       "130422   794097 2018-12-03    18   166   687  1898  4308  38443\n",
       "516696   221699 2018-10-01    18   166   687  1898  4308  38582\n",
       "431996    51262 2018-04-25    18   166   687  1898  4308  38443\n",
       "546230   791463 2018-06-21    18   166   687  1898  4308  39982\n",
       "175985   293275 2018-05-27    18   166   687  1898  4308  38445\n",
       "322076   837538 2018-11-07    18   166   687  1898  4308  37847\n",
       "537118   115138 2018-12-11    18   166   687  1894  4238  22330\n",
       "409934   284485 2018-12-21    18   166   687  1898  4308  37847\n",
       "228941   389673 2018-11-26    18   149   590  1485  2916  11055"
      ]
     },
     "execution_count": 26,
     "metadata": {
      "tags": []
     },
     "output_type": "execute_result"
    }
   ],
   "source": [
    "user_taglist.sample(10)"
   ]
  },
  {
   "cell_type": "code",
   "execution_count": 97,
   "metadata": {
    "colab": {
     "base_uri": "https://localhost:8080/",
     "height": 251
    },
    "colab_type": "code",
    "executionInfo": {
     "elapsed": 806,
     "status": "ok",
     "timestamp": 1561993359415,
     "user": {
      "displayName": "陶士来",
      "photoUrl": "",
      "userId": "08104502188577818611"
     },
     "user_tz": -480
    },
    "id": "zt0GEdvMgG0H",
    "outputId": "ae855742-048e-4993-94aa-738a0110626e"
   },
   "outputs": [
    {
     "name": "stdout",
     "output_type": "stream",
     "text": [
      "<class 'pandas.core.frame.DataFrame'>\n",
      "RangeIndex: 615160 entries, 0 to 615159\n",
      "Data columns (total 8 columns):\n",
      "user_id       615160 non-null uint32\n",
      "insertdate    615160 non-null datetime64[ns]\n",
      "top1          615160 non-null uint32\n",
      "top2          615160 non-null uint32\n",
      "top3          615160 non-null uint32\n",
      "top4          615160 non-null uint32\n",
      "top5          615160 non-null uint32\n",
      "top10         615160 non-null uint32\n",
      "dtypes: datetime64[ns](1), uint32(7)\n",
      "memory usage: 21.1 MB\n"
     ]
    }
   ],
   "source": [
    "user_taglist.info(memory_usage='deep')"
   ]
  },
  {
   "cell_type": "code",
   "execution_count": 100,
   "metadata": {
    "colab": {
     "base_uri": "https://localhost:8080/",
     "height": 35
    },
    "colab_type": "code",
    "executionInfo": {
     "elapsed": 4704,
     "status": "ok",
     "timestamp": 1561996198693,
     "user": {
      "displayName": "陶士来",
      "photoUrl": "",
      "userId": "08104502188577818611"
     },
     "user_tz": -480
    },
    "id": "DfYI9TEEgGxn",
    "outputId": "953e90d3-fe87-416e-b6d2-9d50ab8e6105"
   },
   "outputs": [
    {
     "data": {
      "text/plain": [
       "6268"
      ]
     },
     "execution_count": 100,
     "metadata": {
      "tags": []
     },
     "output_type": "execute_result"
    }
   ],
   "source": [
    "user_taglist['top5'].nunique()"
   ]
  },
  {
   "cell_type": "code",
   "execution_count": 0,
   "metadata": {
    "colab": {},
    "colab_type": "code",
    "id": "jMW6n9KxgGvQ"
   },
   "outputs": [],
   "source": [
    "user_behavior_logs = pd.read_csv(path+\"user_behavior_logs.csv\",encoding='utf8',parse_dates=['behavior_time'],\n",
    "                                 dtype={'user_id':np.uint32,'behavior_type':np.uint32}) #1G"
   ]
  },
  {
   "cell_type": "code",
   "execution_count": 28,
   "metadata": {
    "colab": {
     "base_uri": "https://localhost:8080/",
     "height": 173
    },
    "colab_type": "code",
    "executionInfo": {
     "elapsed": 1086,
     "status": "error",
     "timestamp": 1562001038893,
     "user": {
      "displayName": "陶士来",
      "photoUrl": "",
      "userId": "08104502188577818611"
     },
     "user_tz": -480
    },
    "id": "EEwM1znTgGej",
    "outputId": "fcb61060-8d9c-4bf8-c0cb-d7fc64ea2cb3"
   },
   "outputs": [
    {
     "ename": "NameError",
     "evalue": "ignored",
     "output_type": "error",
     "traceback": [
      "\u001b[0;31m---------------------------------------------------------------------------\u001b[0m",
      "\u001b[0;31mNameError\u001b[0m                                 Traceback (most recent call last)",
      "\u001b[0;32m<ipython-input-28-de06a6efd3bd>\u001b[0m in \u001b[0;36m<module>\u001b[0;34m()\u001b[0m\n\u001b[0;32m----> 1\u001b[0;31m \u001b[0muser_behavior_logs\u001b[0m\u001b[0;34m.\u001b[0m\u001b[0minfo\u001b[0m\u001b[0;34m(\u001b[0m\u001b[0mmemory_usage\u001b[0m\u001b[0;34m=\u001b[0m\u001b[0;34m'deep'\u001b[0m\u001b[0;34m)\u001b[0m\u001b[0;34m\u001b[0m\u001b[0;34m\u001b[0m\u001b[0m\n\u001b[0m",
      "\u001b[0;31mNameError\u001b[0m: name 'user_behavior_logs' is not defined"
     ]
    }
   ],
   "source": [
    "user_behavior_logs.info(memory_usage='deep')"
   ]
  },
  {
   "cell_type": "code",
   "execution_count": 0,
   "metadata": {
    "colab": {},
    "colab_type": "code",
    "id": "i7k1YX7nP-um"
   },
   "outputs": [],
   "source": [
    "user_repay_logs = pd.read_csv(path+\"user_repay_logs.csv\",encoding='utf8',\n",
    "                              parse_dates=[ 'due_date', 'repay_date'],\n",
    "                    dtype={'user_id':np.uint32, 'listing_id':np.uint32,'order_id':np.uint32,  \n",
    "                                'due_amt':np.float32,'repay_amt':np.float32}) #900M"
   ]
  },
  {
   "cell_type": "code",
   "execution_count": 105,
   "metadata": {
    "colab": {
     "base_uri": "https://localhost:8080/",
     "height": 233
    },
    "colab_type": "code",
    "executionInfo": {
     "elapsed": 801,
     "status": "ok",
     "timestamp": 1561997017940,
     "user": {
      "displayName": "陶士来",
      "photoUrl": "",
      "userId": "08104502188577818611"
     },
     "user_tz": -480
    },
    "id": "y89sdCBYP-7S",
    "outputId": "a7bd7efa-8e41-4741-9c39-8c16facf5125"
   },
   "outputs": [
    {
     "name": "stdout",
     "output_type": "stream",
     "text": [
      "<class 'pandas.core.frame.DataFrame'>\n",
      "RangeIndex: 18001297 entries, 0 to 18001296\n",
      "Data columns (total 7 columns):\n",
      "user_id       uint32\n",
      "listing_id    uint32\n",
      "order_id      uint32\n",
      "due_date      datetime64[ns]\n",
      "due_amt       float32\n",
      "repay_date    datetime64[ns]\n",
      "repay_amt     float32\n",
      "dtypes: datetime64[ns](2), float32(2), uint32(3)\n",
      "memory usage: 618.0 MB\n"
     ]
    }
   ],
   "source": [
    "user_repay_logs.info(memory_usage='deep')"
   ]
  },
  {
   "cell_type": "code",
   "execution_count": 0,
   "metadata": {
    "colab": {},
    "colab_type": "code",
    "id": "7Cyaqx1qP_Gn"
   },
   "outputs": [],
   "source": []
  },
  {
   "cell_type": "code",
   "execution_count": 0,
   "metadata": {
    "colab": {},
    "colab_type": "code",
    "id": "lSoGn46WP_SU"
   },
   "outputs": [],
   "source": []
  },
  {
   "cell_type": "code",
   "execution_count": 0,
   "metadata": {
    "colab": {},
    "colab_type": "code",
    "id": "jJPb-ls_VMfM"
   },
   "outputs": [],
   "source": [
    "\n",
    "# train = pd.read_csv(path+\"train.csv\",encoding='utf8',parse_dates=['auditing_date', 'due_date', 'repay_date'],\n",
    "#                     dtype={'user_id':np.uint32, 'listing_id':np.uint32, \n",
    "#                                 #'due_amt':np.float32,'repay_amt':np.float32\n",
    "#                                }\n",
    "#                    ) #100W\n",
    "# test = pd.read_csv(path+\"test.csv\",encoding='utf8',parse_dates=['auditing_date', 'due_date']) #13W\n",
    "# submission = pd.read_csv(path+\"/submission/submission.csv\",encoding='utf8',\n",
    "#                         dtype={'user_id':np.uint32, 'listing_id':np.uint32,'repay_date':str,'repay_amt':np.float32\n",
    "#                                }) #398W\n",
    "# listing_info = pd.read_csv(path+\"listing_info.csv\",encoding='utf8',\n",
    "#                           dtype={'user_id':np.uint32, 'listing_id':np.uint32,'term':np.uint32,'rate':np.floate32,'principal':np.float32 \n",
    "#                                 #'due_amt':np.float32,'repay_amt':np.float32\n",
    "#                                })\n",
    "# user_info = pd.read_csv(path+\"user_info.csv\",encoding='utf8',dtype={'user_id':np.uint32, 'age':np.uint32,\n",
    "#                                })\n",
    "# user_taglist = pd.read_csv(path+\"user_taglist.csv\",encoding='utf8',dtype={'user_id':np.uint32})\n",
    "# user_behavior_logs = pd.read_csv(path+\"user_behavior_logs.csv\",encoding='utf8') #1G\n",
    "# user_repay_logs = pd.read_csv(path+\"user_repay_logs.csv\",encoding='utf8') #900M\n"
   ]
  },
  {
   "cell_type": "code",
   "execution_count": 0,
   "metadata": {
    "colab": {},
    "colab_type": "code",
    "id": "wsG4-XrGZT7k"
   },
   "outputs": [],
   "source": []
  },
  {
   "cell_type": "code",
   "execution_count": 30,
   "metadata": {
    "colab": {
     "base_uri": "https://localhost:8080/",
     "height": 35
    },
    "colab_type": "code",
    "executionInfo": {
     "elapsed": 830,
     "status": "ok",
     "timestamp": 1562001153004,
     "user": {
      "displayName": "陶士来",
      "photoUrl": "",
      "userId": "08104502188577818611"
     },
     "user_tz": -480
    },
    "id": "gJ9DjZupaJig",
    "outputId": "8fdad4c5-36ef-49af-cf81-a9817176fb9d"
   },
   "outputs": [
    {
     "data": {
      "text/plain": [
       "398"
      ]
     },
     "execution_count": 30,
     "metadata": {
      "tags": []
     },
     "output_type": "execute_result"
    }
   ],
   "source": [
    "\n",
    "del user_repay_logs['user_id']\n",
    "gc.collect()\n"
   ]
  },
  {
   "cell_type": "code",
   "execution_count": 0,
   "metadata": {
    "colab": {},
    "colab_type": "code",
    "id": "F1cOcvlnZUIb"
   },
   "outputs": [],
   "source": [
    "listing_repay=pd.merge(listing_info,user_repay_logs,on=['listing_id'],how='left')"
   ]
  },
  {
   "cell_type": "code",
   "execution_count": 32,
   "metadata": {
    "colab": {
     "base_uri": "https://localhost:8080/",
     "height": 35
    },
    "colab_type": "code",
    "executionInfo": {
     "elapsed": 859,
     "status": "ok",
     "timestamp": 1562001167210,
     "user": {
      "displayName": "陶士来",
      "photoUrl": "",
      "userId": "08104502188577818611"
     },
     "user_tz": -480
    },
    "id": "FTk4KcUvSkR_",
    "outputId": "32b363fd-8ebd-43e1-bb99-3a6589a8d4a4"
   },
   "outputs": [
    {
     "data": {
      "text/plain": [
       "28"
      ]
     },
     "execution_count": 32,
     "metadata": {
      "tags": []
     },
     "output_type": "execute_result"
    }
   ],
   "source": [
    "\n",
    "del listing_info\n",
    "del user_repay_logs\n",
    "gc.collect()"
   ]
  },
  {
   "cell_type": "code",
   "execution_count": 111,
   "metadata": {
    "colab": {
     "base_uri": "https://localhost:8080/",
     "height": 359
    },
    "colab_type": "code",
    "executionInfo": {
     "elapsed": 2735,
     "status": "ok",
     "timestamp": 1561997272524,
     "user": {
      "displayName": "陶士来",
      "photoUrl": "",
      "userId": "08104502188577818611"
     },
     "user_tz": -480
    },
    "id": "FYJHJm-RZVYG",
    "outputId": "690ece50-0793-420b-a207-c6f9fc1cfe6c"
   },
   "outputs": [
    {
     "data": {
      "text/html": [
       "<div>\n",
       "<style scoped>\n",
       "    .dataframe tbody tr th:only-of-type {\n",
       "        vertical-align: middle;\n",
       "    }\n",
       "\n",
       "    .dataframe tbody tr th {\n",
       "        vertical-align: top;\n",
       "    }\n",
       "\n",
       "    .dataframe thead th {\n",
       "        text-align: right;\n",
       "    }\n",
       "</style>\n",
       "<table border=\"1\" class=\"dataframe\">\n",
       "  <thead>\n",
       "    <tr style=\"text-align: right;\">\n",
       "      <th></th>\n",
       "      <th>user_id</th>\n",
       "      <th>listing_id</th>\n",
       "      <th>auditing_date</th>\n",
       "      <th>term</th>\n",
       "      <th>rate</th>\n",
       "      <th>principal</th>\n",
       "      <th>order_id</th>\n",
       "      <th>due_date</th>\n",
       "      <th>due_amt</th>\n",
       "      <th>repay_date</th>\n",
       "      <th>repay_amt</th>\n",
       "    </tr>\n",
       "  </thead>\n",
       "  <tbody>\n",
       "    <tr>\n",
       "      <th>14097794</th>\n",
       "      <td>443831</td>\n",
       "      <td>3311890</td>\n",
       "      <td>2018-05-07</td>\n",
       "      <td>12</td>\n",
       "      <td>8.6</td>\n",
       "      <td>1170.0</td>\n",
       "      <td>2.0</td>\n",
       "      <td>2018-07-07</td>\n",
       "      <td>102.102203</td>\n",
       "      <td>2018-07-07</td>\n",
       "      <td>102.102203</td>\n",
       "    </tr>\n",
       "    <tr>\n",
       "      <th>3551408</th>\n",
       "      <td>267412</td>\n",
       "      <td>3574502</td>\n",
       "      <td>2018-05-30</td>\n",
       "      <td>9</td>\n",
       "      <td>7.2</td>\n",
       "      <td>4730.0</td>\n",
       "      <td>5.0</td>\n",
       "      <td>2018-10-30</td>\n",
       "      <td>541.447876</td>\n",
       "      <td>2018-10-26</td>\n",
       "      <td>541.447876</td>\n",
       "    </tr>\n",
       "    <tr>\n",
       "      <th>3348207</th>\n",
       "      <td>120594</td>\n",
       "      <td>1923029</td>\n",
       "      <td>2018-01-06</td>\n",
       "      <td>6</td>\n",
       "      <td>7.2</td>\n",
       "      <td>7010.0</td>\n",
       "      <td>1.0</td>\n",
       "      <td>2018-02-06</td>\n",
       "      <td>1192.990601</td>\n",
       "      <td>2018-02-06</td>\n",
       "      <td>1192.990601</td>\n",
       "    </tr>\n",
       "    <tr>\n",
       "      <th>6074815</th>\n",
       "      <td>152492</td>\n",
       "      <td>4385054</td>\n",
       "      <td>2018-09-07</td>\n",
       "      <td>12</td>\n",
       "      <td>8.6</td>\n",
       "      <td>4100.0</td>\n",
       "      <td>1.0</td>\n",
       "      <td>2018-10-07</td>\n",
       "      <td>357.794098</td>\n",
       "      <td>2018-10-07</td>\n",
       "      <td>357.794098</td>\n",
       "    </tr>\n",
       "    <tr>\n",
       "      <th>3658456</th>\n",
       "      <td>538156</td>\n",
       "      <td>3542567</td>\n",
       "      <td>2018-05-27</td>\n",
       "      <td>9</td>\n",
       "      <td>7.2</td>\n",
       "      <td>910.0</td>\n",
       "      <td>2.0</td>\n",
       "      <td>2018-07-27</td>\n",
       "      <td>104.168602</td>\n",
       "      <td>2018-07-27</td>\n",
       "      <td>104.168602</td>\n",
       "    </tr>\n",
       "    <tr>\n",
       "      <th>858850</th>\n",
       "      <td>110514</td>\n",
       "      <td>4537227</td>\n",
       "      <td>2018-09-26</td>\n",
       "      <td>3</td>\n",
       "      <td>7.2</td>\n",
       "      <td>1710.0</td>\n",
       "      <td>3.0</td>\n",
       "      <td>2018-12-26</td>\n",
       "      <td>576.853577</td>\n",
       "      <td>2018-12-26</td>\n",
       "      <td>576.853577</td>\n",
       "    </tr>\n",
       "    <tr>\n",
       "      <th>128334</th>\n",
       "      <td>178962</td>\n",
       "      <td>1440865</td>\n",
       "      <td>2017-11-13</td>\n",
       "      <td>6</td>\n",
       "      <td>8.0</td>\n",
       "      <td>1390.0</td>\n",
       "      <td>4.0</td>\n",
       "      <td>2018-03-13</td>\n",
       "      <td>237.104202</td>\n",
       "      <td>2018-03-13</td>\n",
       "      <td>237.104202</td>\n",
       "    </tr>\n",
       "    <tr>\n",
       "      <th>4459205</th>\n",
       "      <td>8041</td>\n",
       "      <td>3301151</td>\n",
       "      <td>2018-05-06</td>\n",
       "      <td>12</td>\n",
       "      <td>8.6</td>\n",
       "      <td>3660.0</td>\n",
       "      <td>7.0</td>\n",
       "      <td>2018-12-06</td>\n",
       "      <td>319.396698</td>\n",
       "      <td>2018-11-16</td>\n",
       "      <td>319.396698</td>\n",
       "    </tr>\n",
       "    <tr>\n",
       "      <th>12503738</th>\n",
       "      <td>453602</td>\n",
       "      <td>2073633</td>\n",
       "      <td>2018-01-22</td>\n",
       "      <td>12</td>\n",
       "      <td>7.6</td>\n",
       "      <td>1170.0</td>\n",
       "      <td>1.0</td>\n",
       "      <td>2018-02-22</td>\n",
       "      <td>101.560699</td>\n",
       "      <td>2018-02-06</td>\n",
       "      <td>101.560699</td>\n",
       "    </tr>\n",
       "    <tr>\n",
       "      <th>2632783</th>\n",
       "      <td>163874</td>\n",
       "      <td>619041</td>\n",
       "      <td>2017-07-22</td>\n",
       "      <td>12</td>\n",
       "      <td>9.3</td>\n",
       "      <td>2260.0</td>\n",
       "      <td>3.0</td>\n",
       "      <td>2017-10-22</td>\n",
       "      <td>197.954803</td>\n",
       "      <td>2017-09-12</td>\n",
       "      <td>197.954803</td>\n",
       "    </tr>\n",
       "  </tbody>\n",
       "</table>\n",
       "</div>"
      ],
      "text/plain": [
       "          user_id  listing_id auditing_date  term  rate  principal  order_id  \\\n",
       "14097794   443831     3311890    2018-05-07    12   8.6     1170.0       2.0   \n",
       "3551408    267412     3574502    2018-05-30     9   7.2     4730.0       5.0   \n",
       "3348207    120594     1923029    2018-01-06     6   7.2     7010.0       1.0   \n",
       "6074815    152492     4385054    2018-09-07    12   8.6     4100.0       1.0   \n",
       "3658456    538156     3542567    2018-05-27     9   7.2      910.0       2.0   \n",
       "858850     110514     4537227    2018-09-26     3   7.2     1710.0       3.0   \n",
       "128334     178962     1440865    2017-11-13     6   8.0     1390.0       4.0   \n",
       "4459205      8041     3301151    2018-05-06    12   8.6     3660.0       7.0   \n",
       "12503738   453602     2073633    2018-01-22    12   7.6     1170.0       1.0   \n",
       "2632783    163874      619041    2017-07-22    12   9.3     2260.0       3.0   \n",
       "\n",
       "           due_date      due_amt repay_date    repay_amt  \n",
       "14097794 2018-07-07   102.102203 2018-07-07   102.102203  \n",
       "3551408  2018-10-30   541.447876 2018-10-26   541.447876  \n",
       "3348207  2018-02-06  1192.990601 2018-02-06  1192.990601  \n",
       "6074815  2018-10-07   357.794098 2018-10-07   357.794098  \n",
       "3658456  2018-07-27   104.168602 2018-07-27   104.168602  \n",
       "858850   2018-12-26   576.853577 2018-12-26   576.853577  \n",
       "128334   2018-03-13   237.104202 2018-03-13   237.104202  \n",
       "4459205  2018-12-06   319.396698 2018-11-16   319.396698  \n",
       "12503738 2018-02-22   101.560699 2018-02-06   101.560699  \n",
       "2632783  2017-10-22   197.954803 2017-09-12   197.954803  "
      ]
     },
     "execution_count": 111,
     "metadata": {
      "tags": []
     },
     "output_type": "execute_result"
    }
   ],
   "source": [
    "listing_repay.sample(10)"
   ]
  },
  {
   "cell_type": "code",
   "execution_count": 0,
   "metadata": {
    "colab": {},
    "colab_type": "code",
    "id": "fnlT2AQQZVT-"
   },
   "outputs": [],
   "source": [
    "sy_listing_id=list(set(listing_repay['listing_id'])-set(train['listing_id']))"
   ]
  },
  {
   "cell_type": "code",
   "execution_count": 114,
   "metadata": {
    "colab": {
     "base_uri": "https://localhost:8080/",
     "height": 35
    },
    "colab_type": "code",
    "executionInfo": {
     "elapsed": 895,
     "status": "ok",
     "timestamp": 1561997399196,
     "user": {
      "displayName": "陶士来",
      "photoUrl": "",
      "userId": "08104502188577818611"
     },
     "user_tz": -480
    },
    "id": "VWKd2zYqZVQp",
    "outputId": "7d75024a-1981-43c2-c88b-f11c49412615"
   },
   "outputs": [
    {
     "data": {
      "text/plain": [
       "[1, 2, 3, 4, 5, 6, 7, 8, 9, 10]"
      ]
     },
     "execution_count": 114,
     "metadata": {
      "tags": []
     },
     "output_type": "execute_result"
    }
   ],
   "source": [
    "sy_listing_id[:10]"
   ]
  },
  {
   "cell_type": "code",
   "execution_count": 0,
   "metadata": {
    "colab": {},
    "colab_type": "code",
    "id": "nvPCxkhyZVNv"
   },
   "outputs": [],
   "source": [
    "sy_listing_repay=listing_repay[listing_repay['listing_id'].isin(sy_listing_id)]"
   ]
  },
  {
   "cell_type": "code",
   "execution_count": 116,
   "metadata": {
    "colab": {
     "base_uri": "https://localhost:8080/",
     "height": 204
    },
    "colab_type": "code",
    "executionInfo": {
     "elapsed": 1559,
     "status": "ok",
     "timestamp": 1561997445537,
     "user": {
      "displayName": "陶士来",
      "photoUrl": "",
      "userId": "08104502188577818611"
     },
     "user_tz": -480
    },
    "id": "QkT82bqBZVKg",
    "outputId": "dd30b0d6-bf33-49ff-8cc5-99f8be60609a"
   },
   "outputs": [
    {
     "data": {
      "text/html": [
       "<div>\n",
       "<style scoped>\n",
       "    .dataframe tbody tr th:only-of-type {\n",
       "        vertical-align: middle;\n",
       "    }\n",
       "\n",
       "    .dataframe tbody tr th {\n",
       "        vertical-align: top;\n",
       "    }\n",
       "\n",
       "    .dataframe thead th {\n",
       "        text-align: right;\n",
       "    }\n",
       "</style>\n",
       "<table border=\"1\" class=\"dataframe\">\n",
       "  <thead>\n",
       "    <tr style=\"text-align: right;\">\n",
       "      <th></th>\n",
       "      <th>user_id</th>\n",
       "      <th>listing_id</th>\n",
       "      <th>auditing_date</th>\n",
       "      <th>term</th>\n",
       "      <th>rate</th>\n",
       "      <th>principal</th>\n",
       "      <th>order_id</th>\n",
       "      <th>due_date</th>\n",
       "      <th>due_amt</th>\n",
       "      <th>repay_date</th>\n",
       "      <th>repay_amt</th>\n",
       "    </tr>\n",
       "  </thead>\n",
       "  <tbody>\n",
       "    <tr>\n",
       "      <th>3991050</th>\n",
       "      <td>366514</td>\n",
       "      <td>211535</td>\n",
       "      <td>2017-04-17</td>\n",
       "      <td>12</td>\n",
       "      <td>9.3</td>\n",
       "      <td>3600.0</td>\n",
       "      <td>8.0</td>\n",
       "      <td>2017-12-17</td>\n",
       "      <td>315.326294</td>\n",
       "      <td>2017-12-12</td>\n",
       "      <td>315.326294</td>\n",
       "    </tr>\n",
       "    <tr>\n",
       "      <th>10771951</th>\n",
       "      <td>88709</td>\n",
       "      <td>1117133</td>\n",
       "      <td>2017-10-06</td>\n",
       "      <td>9</td>\n",
       "      <td>7.6</td>\n",
       "      <td>2260.0</td>\n",
       "      <td>1.0</td>\n",
       "      <td>2017-11-06</td>\n",
       "      <td>259.131104</td>\n",
       "      <td>2017-11-06</td>\n",
       "      <td>259.131104</td>\n",
       "    </tr>\n",
       "    <tr>\n",
       "      <th>4302101</th>\n",
       "      <td>161509</td>\n",
       "      <td>126049</td>\n",
       "      <td>2017-03-01</td>\n",
       "      <td>12</td>\n",
       "      <td>9.3</td>\n",
       "      <td>2500.0</td>\n",
       "      <td>8.0</td>\n",
       "      <td>2017-11-01</td>\n",
       "      <td>218.976593</td>\n",
       "      <td>2017-10-31</td>\n",
       "      <td>218.976593</td>\n",
       "    </tr>\n",
       "    <tr>\n",
       "      <th>1679664</th>\n",
       "      <td>751917</td>\n",
       "      <td>4221268</td>\n",
       "      <td>2018-08-16</td>\n",
       "      <td>6</td>\n",
       "      <td>8.3</td>\n",
       "      <td>1840.0</td>\n",
       "      <td>5.0</td>\n",
       "      <td>2019-01-16</td>\n",
       "      <td>314.135895</td>\n",
       "      <td>2018-10-03</td>\n",
       "      <td>314.135895</td>\n",
       "    </tr>\n",
       "    <tr>\n",
       "      <th>3094354</th>\n",
       "      <td>375110</td>\n",
       "      <td>1998393</td>\n",
       "      <td>2018-01-14</td>\n",
       "      <td>9</td>\n",
       "      <td>7.2</td>\n",
       "      <td>900.0</td>\n",
       "      <td>4.0</td>\n",
       "      <td>2018-05-14</td>\n",
       "      <td>103.023903</td>\n",
       "      <td>2200-01-01</td>\n",
       "      <td>103.023903</td>\n",
       "    </tr>\n",
       "  </tbody>\n",
       "</table>\n",
       "</div>"
      ],
      "text/plain": [
       "          user_id  listing_id auditing_date  term  rate  principal  order_id  \\\n",
       "3991050    366514      211535    2017-04-17    12   9.3     3600.0       8.0   \n",
       "10771951    88709     1117133    2017-10-06     9   7.6     2260.0       1.0   \n",
       "4302101    161509      126049    2017-03-01    12   9.3     2500.0       8.0   \n",
       "1679664    751917     4221268    2018-08-16     6   8.3     1840.0       5.0   \n",
       "3094354    375110     1998393    2018-01-14     9   7.2      900.0       4.0   \n",
       "\n",
       "           due_date     due_amt repay_date   repay_amt  \n",
       "3991050  2017-12-17  315.326294 2017-12-12  315.326294  \n",
       "10771951 2017-11-06  259.131104 2017-11-06  259.131104  \n",
       "4302101  2017-11-01  218.976593 2017-10-31  218.976593  \n",
       "1679664  2019-01-16  314.135895 2018-10-03  314.135895  \n",
       "3094354  2018-05-14  103.023903 2200-01-01  103.023903  "
      ]
     },
     "execution_count": 116,
     "metadata": {
      "tags": []
     },
     "output_type": "execute_result"
    }
   ],
   "source": [
    "sy_listing_repay.sample(5)"
   ]
  },
  {
   "cell_type": "code",
   "execution_count": 35,
   "metadata": {
    "colab": {
     "base_uri": "https://localhost:8080/",
     "height": 35
    },
    "colab_type": "code",
    "executionInfo": {
     "elapsed": 1023,
     "status": "ok",
     "timestamp": 1562001195275,
     "user": {
      "displayName": "陶士来",
      "photoUrl": "",
      "userId": "08104502188577818611"
     },
     "user_tz": -480
    },
    "id": "M4UuqpYOcb8A",
    "outputId": "8e266311-fcaa-4163-f0a6-dbe8cb6c2dbd"
   },
   "outputs": [
    {
     "data": {
      "text/plain": [
       "57"
      ]
     },
     "execution_count": 35,
     "metadata": {
      "tags": []
     },
     "output_type": "execute_result"
    }
   ],
   "source": [
    "for each in  ['user_id','auditing_date','due_date',\t'due_amt',\t'repay_date',\t'repay_amt']:\n",
    "    del listing_repay[each]\n",
    "gc.collect()"
   ]
  },
  {
   "cell_type": "code",
   "execution_count": 0,
   "metadata": {
    "colab": {},
    "colab_type": "code",
    "id": "BjTqWFsrZVH2"
   },
   "outputs": [],
   "source": [
    "train=pd.merge(train,listing_repay,on=['listing_id'],how='left')"
   ]
  },
  {
   "cell_type": "code",
   "execution_count": 37,
   "metadata": {
    "colab": {
     "base_uri": "https://localhost:8080/",
     "height": 35
    },
    "colab_type": "code",
    "executionInfo": {
     "elapsed": 894,
     "status": "ok",
     "timestamp": 1562001203677,
     "user": {
      "displayName": "陶士来",
      "photoUrl": "",
      "userId": "08104502188577818611"
     },
     "user_tz": -480
    },
    "id": "ebJSKIsWVMDd",
    "outputId": "aa6749ee-5f79-4219-a5a7-94de372fca4b"
   },
   "outputs": [
    {
     "data": {
      "text/plain": [
       "35"
      ]
     },
     "execution_count": 37,
     "metadata": {
      "tags": []
     },
     "output_type": "execute_result"
    }
   ],
   "source": [
    "del listing_repay\n",
    "gc.collect()"
   ]
  },
  {
   "cell_type": "code",
   "execution_count": 120,
   "metadata": {
    "colab": {
     "base_uri": "https://localhost:8080/",
     "height": 359
    },
    "colab_type": "code",
    "executionInfo": {
     "elapsed": 917,
     "status": "ok",
     "timestamp": 1561997953653,
     "user": {
      "displayName": "陶士来",
      "photoUrl": "",
      "userId": "08104502188577818611"
     },
     "user_tz": -480
    },
    "id": "O8Q0b5DjZVFZ",
    "outputId": "1c3408ff-5f60-42a0-8d18-3d4b549d7600"
   },
   "outputs": [
    {
     "data": {
      "text/html": [
       "<div>\n",
       "<style scoped>\n",
       "    .dataframe tbody tr th:only-of-type {\n",
       "        vertical-align: middle;\n",
       "    }\n",
       "\n",
       "    .dataframe tbody tr th {\n",
       "        vertical-align: top;\n",
       "    }\n",
       "\n",
       "    .dataframe thead th {\n",
       "        text-align: right;\n",
       "    }\n",
       "</style>\n",
       "<table border=\"1\" class=\"dataframe\">\n",
       "  <thead>\n",
       "    <tr style=\"text-align: right;\">\n",
       "      <th></th>\n",
       "      <th>auditing_date</th>\n",
       "      <th>due_amt</th>\n",
       "      <th>due_date</th>\n",
       "      <th>listing_id</th>\n",
       "      <th>repay_amt</th>\n",
       "      <th>repay_date</th>\n",
       "      <th>user_id</th>\n",
       "      <th>term</th>\n",
       "      <th>rate</th>\n",
       "      <th>principal</th>\n",
       "      <th>order_id</th>\n",
       "    </tr>\n",
       "  </thead>\n",
       "  <tbody>\n",
       "    <tr>\n",
       "      <th>15450</th>\n",
       "      <td>2018-07-30</td>\n",
       "      <td>2210.903809</td>\n",
       "      <td>2018-08-30</td>\n",
       "      <td>4098952</td>\n",
       "      <td>2210.903809</td>\n",
       "      <td>2018-08-28</td>\n",
       "      <td>133894</td>\n",
       "      <td>6</td>\n",
       "      <td>8.3</td>\n",
       "      <td>12950.0</td>\n",
       "      <td>NaN</td>\n",
       "    </tr>\n",
       "    <tr>\n",
       "      <th>600202</th>\n",
       "      <td>2018-03-14</td>\n",
       "      <td>824.191406</td>\n",
       "      <td>2018-04-14</td>\n",
       "      <td>2625136</td>\n",
       "      <td>0.000000</td>\n",
       "      <td>2080-01-01</td>\n",
       "      <td>763062</td>\n",
       "      <td>9</td>\n",
       "      <td>7.2</td>\n",
       "      <td>7200.0</td>\n",
       "      <td>NaN</td>\n",
       "    </tr>\n",
       "    <tr>\n",
       "      <th>1470579</th>\n",
       "      <td>2018-02-06</td>\n",
       "      <td>151.463806</td>\n",
       "      <td>2018-03-06</td>\n",
       "      <td>2234222</td>\n",
       "      <td>151.463806</td>\n",
       "      <td>2018-03-05</td>\n",
       "      <td>151596</td>\n",
       "      <td>6</td>\n",
       "      <td>7.2</td>\n",
       "      <td>890.0</td>\n",
       "      <td>4.0</td>\n",
       "    </tr>\n",
       "    <tr>\n",
       "      <th>190856</th>\n",
       "      <td>2018-06-04</td>\n",
       "      <td>109.892097</td>\n",
       "      <td>2018-07-04</td>\n",
       "      <td>3635664</td>\n",
       "      <td>109.892097</td>\n",
       "      <td>2018-06-15</td>\n",
       "      <td>383232</td>\n",
       "      <td>9</td>\n",
       "      <td>7.2</td>\n",
       "      <td>960.0</td>\n",
       "      <td>NaN</td>\n",
       "    </tr>\n",
       "    <tr>\n",
       "      <th>35158</th>\n",
       "      <td>2018-01-19</td>\n",
       "      <td>761.232300</td>\n",
       "      <td>2018-02-19</td>\n",
       "      <td>2047861</td>\n",
       "      <td>761.232300</td>\n",
       "      <td>2018-02-19</td>\n",
       "      <td>331376</td>\n",
       "      <td>9</td>\n",
       "      <td>7.2</td>\n",
       "      <td>6650.0</td>\n",
       "      <td>6.0</td>\n",
       "    </tr>\n",
       "    <tr>\n",
       "      <th>1436834</th>\n",
       "      <td>2018-12-07</td>\n",
       "      <td>111.036797</td>\n",
       "      <td>2019-01-07</td>\n",
       "      <td>5066742</td>\n",
       "      <td>111.036797</td>\n",
       "      <td>2018-12-23</td>\n",
       "      <td>253190</td>\n",
       "      <td>9</td>\n",
       "      <td>7.2</td>\n",
       "      <td>970.0</td>\n",
       "      <td>NaN</td>\n",
       "    </tr>\n",
       "    <tr>\n",
       "      <th>47262</th>\n",
       "      <td>2018-10-11</td>\n",
       "      <td>394.689301</td>\n",
       "      <td>2018-11-11</td>\n",
       "      <td>4630947</td>\n",
       "      <td>394.689301</td>\n",
       "      <td>2018-10-12</td>\n",
       "      <td>910954</td>\n",
       "      <td>3</td>\n",
       "      <td>7.2</td>\n",
       "      <td>1170.0</td>\n",
       "      <td>NaN</td>\n",
       "    </tr>\n",
       "    <tr>\n",
       "      <th>9068</th>\n",
       "      <td>2018-04-01</td>\n",
       "      <td>258.704498</td>\n",
       "      <td>2018-05-01</td>\n",
       "      <td>2847931</td>\n",
       "      <td>258.704498</td>\n",
       "      <td>2018-05-01</td>\n",
       "      <td>533099</td>\n",
       "      <td>9</td>\n",
       "      <td>7.2</td>\n",
       "      <td>2260.0</td>\n",
       "      <td>NaN</td>\n",
       "    </tr>\n",
       "    <tr>\n",
       "      <th>753398</th>\n",
       "      <td>2018-10-02</td>\n",
       "      <td>544.616272</td>\n",
       "      <td>2018-11-02</td>\n",
       "      <td>4574631</td>\n",
       "      <td>544.616272</td>\n",
       "      <td>2018-10-08</td>\n",
       "      <td>239575</td>\n",
       "      <td>6</td>\n",
       "      <td>8.3</td>\n",
       "      <td>3190.0</td>\n",
       "      <td>NaN</td>\n",
       "    </tr>\n",
       "    <tr>\n",
       "      <th>1067851</th>\n",
       "      <td>2018-03-11</td>\n",
       "      <td>571.438721</td>\n",
       "      <td>2018-04-11</td>\n",
       "      <td>2591047</td>\n",
       "      <td>571.438721</td>\n",
       "      <td>2018-04-11</td>\n",
       "      <td>437155</td>\n",
       "      <td>6</td>\n",
       "      <td>8.0</td>\n",
       "      <td>3350.0</td>\n",
       "      <td>2.0</td>\n",
       "    </tr>\n",
       "  </tbody>\n",
       "</table>\n",
       "</div>"
      ],
      "text/plain": [
       "        auditing_date      due_amt   due_date  listing_id    repay_amt  \\\n",
       "15450      2018-07-30  2210.903809 2018-08-30     4098952  2210.903809   \n",
       "600202     2018-03-14   824.191406 2018-04-14     2625136     0.000000   \n",
       "1470579    2018-02-06   151.463806 2018-03-06     2234222   151.463806   \n",
       "190856     2018-06-04   109.892097 2018-07-04     3635664   109.892097   \n",
       "35158      2018-01-19   761.232300 2018-02-19     2047861   761.232300   \n",
       "1436834    2018-12-07   111.036797 2019-01-07     5066742   111.036797   \n",
       "47262      2018-10-11   394.689301 2018-11-11     4630947   394.689301   \n",
       "9068       2018-04-01   258.704498 2018-05-01     2847931   258.704498   \n",
       "753398     2018-10-02   544.616272 2018-11-02     4574631   544.616272   \n",
       "1067851    2018-03-11   571.438721 2018-04-11     2591047   571.438721   \n",
       "\n",
       "        repay_date  user_id  term  rate  principal  order_id  \n",
       "15450   2018-08-28   133894     6   8.3    12950.0       NaN  \n",
       "600202  2080-01-01   763062     9   7.2     7200.0       NaN  \n",
       "1470579 2018-03-05   151596     6   7.2      890.0       4.0  \n",
       "190856  2018-06-15   383232     9   7.2      960.0       NaN  \n",
       "35158   2018-02-19   331376     9   7.2     6650.0       6.0  \n",
       "1436834 2018-12-23   253190     9   7.2      970.0       NaN  \n",
       "47262   2018-10-12   910954     3   7.2     1170.0       NaN  \n",
       "9068    2018-05-01   533099     9   7.2     2260.0       NaN  \n",
       "753398  2018-10-08   239575     6   8.3     3190.0       NaN  \n",
       "1067851 2018-04-11   437155     6   8.0     3350.0       2.0  "
      ]
     },
     "execution_count": 120,
     "metadata": {
      "tags": []
     },
     "output_type": "execute_result"
    }
   ],
   "source": [
    "train.sample(10)"
   ]
  },
  {
   "cell_type": "code",
   "execution_count": 38,
   "metadata": {
    "colab": {
     "base_uri": "https://localhost:8080/",
     "height": 161
    },
    "colab_type": "code",
    "executionInfo": {
     "elapsed": 1871,
     "status": "ok",
     "timestamp": 1562001214210,
     "user": {
      "displayName": "陶士来",
      "photoUrl": "",
      "userId": "08104502188577818611"
     },
     "user_tz": -480
    },
    "id": "bPcsdvTQZVBO",
    "outputId": "ae948a3a-6c06-4e9e-c0cc-70db24a51d66"
   },
   "outputs": [
    {
     "name": "stderr",
     "output_type": "stream",
     "text": [
      "/usr/local/lib/python3.6/dist-packages/pandas/core/frame.py:6692: FutureWarning: Sorting because non-concatenation axis is not aligned. A future version\n",
      "of pandas will change to not sort by default.\n",
      "\n",
      "To accept the future behavior, pass 'sort=False'.\n",
      "\n",
      "To retain the current behavior and silence the warning, pass 'sort=True'.\n",
      "\n",
      "  sort=sort)\n"
     ]
    }
   ],
   "source": [
    "train=train.append(sy_listing_repay)"
   ]
  },
  {
   "cell_type": "code",
   "execution_count": 39,
   "metadata": {
    "colab": {
     "base_uri": "https://localhost:8080/",
     "height": 669
    },
    "colab_type": "code",
    "executionInfo": {
     "elapsed": 2796,
     "status": "ok",
     "timestamp": 1562001219113,
     "user": {
      "displayName": "陶士来",
      "photoUrl": "",
      "userId": "08104502188577818611"
     },
     "user_tz": -480
    },
    "id": "Ir1ps6CsZU-c",
    "outputId": "984afc4d-1141-4437-c8f8-a09276acf9a6"
   },
   "outputs": [
    {
     "data": {
      "text/html": [
       "<div>\n",
       "<style scoped>\n",
       "    .dataframe tbody tr th:only-of-type {\n",
       "        vertical-align: middle;\n",
       "    }\n",
       "\n",
       "    .dataframe tbody tr th {\n",
       "        vertical-align: top;\n",
       "    }\n",
       "\n",
       "    .dataframe thead th {\n",
       "        text-align: right;\n",
       "    }\n",
       "</style>\n",
       "<table border=\"1\" class=\"dataframe\">\n",
       "  <thead>\n",
       "    <tr style=\"text-align: right;\">\n",
       "      <th></th>\n",
       "      <th>auditing_date</th>\n",
       "      <th>due_amt</th>\n",
       "      <th>due_date</th>\n",
       "      <th>listing_id</th>\n",
       "      <th>order_id</th>\n",
       "      <th>principal</th>\n",
       "      <th>rate</th>\n",
       "      <th>repay_amt</th>\n",
       "      <th>repay_date</th>\n",
       "      <th>term</th>\n",
       "      <th>user_id</th>\n",
       "    </tr>\n",
       "  </thead>\n",
       "  <tbody>\n",
       "    <tr>\n",
       "      <th>17076912</th>\n",
       "      <td>2018-01-28</td>\n",
       "      <td>97.300301</td>\n",
       "      <td>2018-04-28</td>\n",
       "      <td>2151682</td>\n",
       "      <td>3.0</td>\n",
       "      <td>850.0</td>\n",
       "      <td>7.2</td>\n",
       "      <td>97.300301</td>\n",
       "      <td>2018-04-16</td>\n",
       "      <td>9</td>\n",
       "      <td>415844</td>\n",
       "    </tr>\n",
       "    <tr>\n",
       "      <th>2816111</th>\n",
       "      <td>2017-07-12</td>\n",
       "      <td>293.428711</td>\n",
       "      <td>2018-03-12</td>\n",
       "      <td>562426</td>\n",
       "      <td>8.0</td>\n",
       "      <td>3350.0</td>\n",
       "      <td>9.3</td>\n",
       "      <td>293.428711</td>\n",
       "      <td>2018-03-12</td>\n",
       "      <td>12</td>\n",
       "      <td>211721</td>\n",
       "    </tr>\n",
       "    <tr>\n",
       "      <th>11071559</th>\n",
       "      <td>2018-03-07</td>\n",
       "      <td>237.104202</td>\n",
       "      <td>2018-07-07</td>\n",
       "      <td>2551792</td>\n",
       "      <td>4.0</td>\n",
       "      <td>1390.0</td>\n",
       "      <td>8.0</td>\n",
       "      <td>237.104202</td>\n",
       "      <td>2018-07-06</td>\n",
       "      <td>6</td>\n",
       "      <td>463670</td>\n",
       "    </tr>\n",
       "    <tr>\n",
       "      <th>8154079</th>\n",
       "      <td>2018-06-05</td>\n",
       "      <td>237.514206</td>\n",
       "      <td>2018-11-05</td>\n",
       "      <td>3644243</td>\n",
       "      <td>5.0</td>\n",
       "      <td>1390.0</td>\n",
       "      <td>8.6</td>\n",
       "      <td>237.514206</td>\n",
       "      <td>2018-11-05</td>\n",
       "      <td>6</td>\n",
       "      <td>469693</td>\n",
       "    </tr>\n",
       "    <tr>\n",
       "      <th>10942304</th>\n",
       "      <td>2018-09-05</td>\n",
       "      <td>124.629898</td>\n",
       "      <td>2018-11-05</td>\n",
       "      <td>4370583</td>\n",
       "      <td>2.0</td>\n",
       "      <td>730.0</td>\n",
       "      <td>8.3</td>\n",
       "      <td>124.629898</td>\n",
       "      <td>2200-01-01</td>\n",
       "      <td>6</td>\n",
       "      <td>786531</td>\n",
       "    </tr>\n",
       "    <tr>\n",
       "      <th>16881987</th>\n",
       "      <td>2017-08-04</td>\n",
       "      <td>510.912109</td>\n",
       "      <td>2017-09-04</td>\n",
       "      <td>700179</td>\n",
       "      <td>1.0</td>\n",
       "      <td>2990.0</td>\n",
       "      <td>8.6</td>\n",
       "      <td>510.912109</td>\n",
       "      <td>2017-09-01</td>\n",
       "      <td>6</td>\n",
       "      <td>419755</td>\n",
       "    </tr>\n",
       "    <tr>\n",
       "      <th>806138</th>\n",
       "      <td>2018-10-01</td>\n",
       "      <td>102.102203</td>\n",
       "      <td>2018-12-01</td>\n",
       "      <td>4567164</td>\n",
       "      <td>2.0</td>\n",
       "      <td>1170.0</td>\n",
       "      <td>8.6</td>\n",
       "      <td>102.102203</td>\n",
       "      <td>2018-12-01</td>\n",
       "      <td>12</td>\n",
       "      <td>356934</td>\n",
       "    </tr>\n",
       "    <tr>\n",
       "      <th>11834073</th>\n",
       "      <td>2017-08-15</td>\n",
       "      <td>1008.154419</td>\n",
       "      <td>2018-02-15</td>\n",
       "      <td>771409</td>\n",
       "      <td>6.0</td>\n",
       "      <td>5900.0</td>\n",
       "      <td>8.6</td>\n",
       "      <td>1008.154419</td>\n",
       "      <td>2018-02-09</td>\n",
       "      <td>6</td>\n",
       "      <td>51315</td>\n",
       "    </tr>\n",
       "    <tr>\n",
       "      <th>6385309</th>\n",
       "      <td>2018-08-23</td>\n",
       "      <td>73.304100</td>\n",
       "      <td>2019-01-23</td>\n",
       "      <td>4262283</td>\n",
       "      <td>5.0</td>\n",
       "      <td>840.0</td>\n",
       "      <td>8.6</td>\n",
       "      <td>73.304100</td>\n",
       "      <td>2019-01-21</td>\n",
       "      <td>12</td>\n",
       "      <td>269253</td>\n",
       "    </tr>\n",
       "    <tr>\n",
       "      <th>2699368</th>\n",
       "      <td>2017-07-18</td>\n",
       "      <td>446.712311</td>\n",
       "      <td>2018-07-18</td>\n",
       "      <td>592709</td>\n",
       "      <td>12.0</td>\n",
       "      <td>5100.0</td>\n",
       "      <td>9.3</td>\n",
       "      <td>446.712311</td>\n",
       "      <td>2018-07-18</td>\n",
       "      <td>12</td>\n",
       "      <td>581365</td>\n",
       "    </tr>\n",
       "    <tr>\n",
       "      <th>12278100</th>\n",
       "      <td>2017-07-22</td>\n",
       "      <td>404.668793</td>\n",
       "      <td>2018-05-22</td>\n",
       "      <td>619548</td>\n",
       "      <td>10.0</td>\n",
       "      <td>4620.0</td>\n",
       "      <td>9.3</td>\n",
       "      <td>404.668793</td>\n",
       "      <td>2018-05-02</td>\n",
       "      <td>12</td>\n",
       "      <td>156089</td>\n",
       "    </tr>\n",
       "    <tr>\n",
       "      <th>16426245</th>\n",
       "      <td>2018-02-16</td>\n",
       "      <td>184.298294</td>\n",
       "      <td>2018-03-16</td>\n",
       "      <td>2345482</td>\n",
       "      <td>1.0</td>\n",
       "      <td>1610.0</td>\n",
       "      <td>7.2</td>\n",
       "      <td>184.298294</td>\n",
       "      <td>2018-03-07</td>\n",
       "      <td>9</td>\n",
       "      <td>540360</td>\n",
       "    </tr>\n",
       "    <tr>\n",
       "      <th>18303114</th>\n",
       "      <td>2017-12-22</td>\n",
       "      <td>97.300301</td>\n",
       "      <td>2018-03-22</td>\n",
       "      <td>1799445</td>\n",
       "      <td>3.0</td>\n",
       "      <td>850.0</td>\n",
       "      <td>7.2</td>\n",
       "      <td>97.300301</td>\n",
       "      <td>2018-02-12</td>\n",
       "      <td>9</td>\n",
       "      <td>122086</td>\n",
       "    </tr>\n",
       "    <tr>\n",
       "      <th>3643839</th>\n",
       "      <td>2017-12-28</td>\n",
       "      <td>1798.339844</td>\n",
       "      <td>2018-03-28</td>\n",
       "      <td>1848503</td>\n",
       "      <td>3.0</td>\n",
       "      <td>15710.0</td>\n",
       "      <td>7.2</td>\n",
       "      <td>1798.339844</td>\n",
       "      <td>2018-03-27</td>\n",
       "      <td>9</td>\n",
       "      <td>128286</td>\n",
       "    </tr>\n",
       "    <tr>\n",
       "      <th>4672195</th>\n",
       "      <td>2018-10-16</td>\n",
       "      <td>495.105804</td>\n",
       "      <td>2018-12-16</td>\n",
       "      <td>4663614</td>\n",
       "      <td>2.0</td>\n",
       "      <td>2900.0</td>\n",
       "      <td>8.3</td>\n",
       "      <td>495.105804</td>\n",
       "      <td>2018-12-16</td>\n",
       "      <td>6</td>\n",
       "      <td>57647</td>\n",
       "    </tr>\n",
       "    <tr>\n",
       "      <th>2823498</th>\n",
       "      <td>2017-07-12</td>\n",
       "      <td>169.925797</td>\n",
       "      <td>2018-02-12</td>\n",
       "      <td>558346</td>\n",
       "      <td>7.0</td>\n",
       "      <td>1940.0</td>\n",
       "      <td>9.3</td>\n",
       "      <td>169.925797</td>\n",
       "      <td>2018-02-11</td>\n",
       "      <td>12</td>\n",
       "      <td>125145</td>\n",
       "    </tr>\n",
       "    <tr>\n",
       "      <th>4326095</th>\n",
       "      <td>2017-12-07</td>\n",
       "      <td>1473.794434</td>\n",
       "      <td>2018-05-07</td>\n",
       "      <td>1664879</td>\n",
       "      <td>5.0</td>\n",
       "      <td>8660.0</td>\n",
       "      <td>7.2</td>\n",
       "      <td>1473.794434</td>\n",
       "      <td>2018-05-07</td>\n",
       "      <td>6</td>\n",
       "      <td>19050</td>\n",
       "    </tr>\n",
       "    <tr>\n",
       "      <th>15077902</th>\n",
       "      <td>2018-04-06</td>\n",
       "      <td>501.501495</td>\n",
       "      <td>2018-05-06</td>\n",
       "      <td>2915063</td>\n",
       "      <td>1.0</td>\n",
       "      <td>2940.0</td>\n",
       "      <td>8.0</td>\n",
       "      <td>501.501495</td>\n",
       "      <td>2018-05-06</td>\n",
       "      <td>6</td>\n",
       "      <td>186158</td>\n",
       "    </tr>\n",
       "    <tr>\n",
       "      <th>5576366</th>\n",
       "      <td>2017-10-21</td>\n",
       "      <td>388.200897</td>\n",
       "      <td>2017-11-21</td>\n",
       "      <td>1238576</td>\n",
       "      <td>1.0</td>\n",
       "      <td>1150.0</td>\n",
       "      <td>7.6</td>\n",
       "      <td>388.200897</td>\n",
       "      <td>2017-11-21</td>\n",
       "      <td>3</td>\n",
       "      <td>27965</td>\n",
       "    </tr>\n",
       "    <tr>\n",
       "      <th>16574372</th>\n",
       "      <td>2018-02-13</td>\n",
       "      <td>480.894196</td>\n",
       "      <td>2018-11-13</td>\n",
       "      <td>2306404</td>\n",
       "      <td>9.0</td>\n",
       "      <td>5540.0</td>\n",
       "      <td>7.6</td>\n",
       "      <td>480.894196</td>\n",
       "      <td>2018-11-13</td>\n",
       "      <td>12</td>\n",
       "      <td>721966</td>\n",
       "    </tr>\n",
       "  </tbody>\n",
       "</table>\n",
       "</div>"
      ],
      "text/plain": [
       "         auditing_date      due_amt   due_date  listing_id  order_id  \\\n",
       "17076912    2018-01-28    97.300301 2018-04-28     2151682       3.0   \n",
       "2816111     2017-07-12   293.428711 2018-03-12      562426       8.0   \n",
       "11071559    2018-03-07   237.104202 2018-07-07     2551792       4.0   \n",
       "8154079     2018-06-05   237.514206 2018-11-05     3644243       5.0   \n",
       "10942304    2018-09-05   124.629898 2018-11-05     4370583       2.0   \n",
       "16881987    2017-08-04   510.912109 2017-09-04      700179       1.0   \n",
       "806138      2018-10-01   102.102203 2018-12-01     4567164       2.0   \n",
       "11834073    2017-08-15  1008.154419 2018-02-15      771409       6.0   \n",
       "6385309     2018-08-23    73.304100 2019-01-23     4262283       5.0   \n",
       "2699368     2017-07-18   446.712311 2018-07-18      592709      12.0   \n",
       "12278100    2017-07-22   404.668793 2018-05-22      619548      10.0   \n",
       "16426245    2018-02-16   184.298294 2018-03-16     2345482       1.0   \n",
       "18303114    2017-12-22    97.300301 2018-03-22     1799445       3.0   \n",
       "3643839     2017-12-28  1798.339844 2018-03-28     1848503       3.0   \n",
       "4672195     2018-10-16   495.105804 2018-12-16     4663614       2.0   \n",
       "2823498     2017-07-12   169.925797 2018-02-12      558346       7.0   \n",
       "4326095     2017-12-07  1473.794434 2018-05-07     1664879       5.0   \n",
       "15077902    2018-04-06   501.501495 2018-05-06     2915063       1.0   \n",
       "5576366     2017-10-21   388.200897 2017-11-21     1238576       1.0   \n",
       "16574372    2018-02-13   480.894196 2018-11-13     2306404       9.0   \n",
       "\n",
       "          principal  rate    repay_amt repay_date  term  user_id  \n",
       "17076912      850.0   7.2    97.300301 2018-04-16     9   415844  \n",
       "2816111      3350.0   9.3   293.428711 2018-03-12    12   211721  \n",
       "11071559     1390.0   8.0   237.104202 2018-07-06     6   463670  \n",
       "8154079      1390.0   8.6   237.514206 2018-11-05     6   469693  \n",
       "10942304      730.0   8.3   124.629898 2200-01-01     6   786531  \n",
       "16881987     2990.0   8.6   510.912109 2017-09-01     6   419755  \n",
       "806138       1170.0   8.6   102.102203 2018-12-01    12   356934  \n",
       "11834073     5900.0   8.6  1008.154419 2018-02-09     6    51315  \n",
       "6385309       840.0   8.6    73.304100 2019-01-21    12   269253  \n",
       "2699368      5100.0   9.3   446.712311 2018-07-18    12   581365  \n",
       "12278100     4620.0   9.3   404.668793 2018-05-02    12   156089  \n",
       "16426245     1610.0   7.2   184.298294 2018-03-07     9   540360  \n",
       "18303114      850.0   7.2    97.300301 2018-02-12     9   122086  \n",
       "3643839     15710.0   7.2  1798.339844 2018-03-27     9   128286  \n",
       "4672195      2900.0   8.3   495.105804 2018-12-16     6    57647  \n",
       "2823498      1940.0   9.3   169.925797 2018-02-11    12   125145  \n",
       "4326095      8660.0   7.2  1473.794434 2018-05-07     6    19050  \n",
       "15077902     2940.0   8.0   501.501495 2018-05-06     6   186158  \n",
       "5576366      1150.0   7.6   388.200897 2017-11-21     3    27965  \n",
       "16574372     5540.0   7.6   480.894196 2018-11-13    12   721966  "
      ]
     },
     "execution_count": 39,
     "metadata": {
      "tags": []
     },
     "output_type": "execute_result"
    }
   ],
   "source": [
    "train.sample(20)"
   ]
  },
  {
   "cell_type": "code",
   "execution_count": 0,
   "metadata": {
    "colab": {},
    "colab_type": "code",
    "id": "fx6M_98yZU7z"
   },
   "outputs": [],
   "source": [
    "train=pd.merge(train,user_info,on=['user_id'],how='left')"
   ]
  },
  {
   "cell_type": "code",
   "execution_count": 41,
   "metadata": {
    "colab": {
     "base_uri": "https://localhost:8080/",
     "height": 35
    },
    "colab_type": "code",
    "executionInfo": {
     "elapsed": 739,
     "status": "ok",
     "timestamp": 1562001238768,
     "user": {
      "displayName": "陶士来",
      "photoUrl": "",
      "userId": "08104502188577818611"
     },
     "user_tz": -480
    },
    "id": "LcJCTRw3ZU4J",
    "outputId": "9e2f89b5-d605-4f05-8ba1-45c2f6c09ace"
   },
   "outputs": [
    {
     "data": {
      "text/plain": [
       "45"
      ]
     },
     "execution_count": 41,
     "metadata": {
      "tags": []
     },
     "output_type": "execute_result"
    }
   ],
   "source": [
    "del user_info\n",
    "gc.collect()"
   ]
  },
  {
   "cell_type": "code",
   "execution_count": 0,
   "metadata": {
    "colab": {},
    "colab_type": "code",
    "id": "Z-Iub_EqY8Wu"
   },
   "outputs": [],
   "source": [
    "train['order_id']=train['order_id'].astype(np.float32)"
   ]
  },
  {
   "cell_type": "code",
   "execution_count": 127,
   "metadata": {
    "colab": {
     "base_uri": "https://localhost:8080/",
     "height": 789
    },
    "colab_type": "code",
    "executionInfo": {
     "elapsed": 1956,
     "status": "ok",
     "timestamp": 1561998784701,
     "user": {
      "displayName": "陶士来",
      "photoUrl": "",
      "userId": "08104502188577818611"
     },
     "user_tz": -480
    },
    "id": "_gFAT2ndZU1q",
    "outputId": "984ebb42-30b5-4142-ac91-824294bc012e"
   },
   "outputs": [
    {
     "data": {
      "text/html": [
       "<div>\n",
       "<style scoped>\n",
       "    .dataframe tbody tr th:only-of-type {\n",
       "        vertical-align: middle;\n",
       "    }\n",
       "\n",
       "    .dataframe tbody tr th {\n",
       "        vertical-align: top;\n",
       "    }\n",
       "\n",
       "    .dataframe thead th {\n",
       "        text-align: right;\n",
       "    }\n",
       "</style>\n",
       "<table border=\"1\" class=\"dataframe\">\n",
       "  <thead>\n",
       "    <tr style=\"text-align: right;\">\n",
       "      <th></th>\n",
       "      <th>auditing_date</th>\n",
       "      <th>due_amt</th>\n",
       "      <th>due_date</th>\n",
       "      <th>listing_id</th>\n",
       "      <th>order_id</th>\n",
       "      <th>principal</th>\n",
       "      <th>rate</th>\n",
       "      <th>repay_amt</th>\n",
       "      <th>repay_date</th>\n",
       "      <th>term</th>\n",
       "      <th>user_id</th>\n",
       "      <th>reg_mon</th>\n",
       "      <th>gender</th>\n",
       "      <th>age</th>\n",
       "      <th>cell_province</th>\n",
       "      <th>id_province</th>\n",
       "      <th>id_city</th>\n",
       "      <th>insertdate</th>\n",
       "    </tr>\n",
       "  </thead>\n",
       "  <tbody>\n",
       "    <tr>\n",
       "      <th>16000905</th>\n",
       "      <td>2018-04-22</td>\n",
       "      <td>578.761719</td>\n",
       "      <td>2018-08-22</td>\n",
       "      <td>3124854</td>\n",
       "      <td>4.0</td>\n",
       "      <td>3390.0</td>\n",
       "      <td>8.3</td>\n",
       "      <td>578.761719</td>\n",
       "      <td>2200-01-01</td>\n",
       "      <td>6</td>\n",
       "      <td>623092</td>\n",
       "      <td>2017-08-01</td>\n",
       "      <td>1</td>\n",
       "      <td>31</td>\n",
       "      <td>4</td>\n",
       "      <td>11</td>\n",
       "      <td>11077</td>\n",
       "      <td>2018-11-02</td>\n",
       "    </tr>\n",
       "    <tr>\n",
       "      <th>15350828</th>\n",
       "      <td>2017-12-13</td>\n",
       "      <td>205.725494</td>\n",
       "      <td>2018-04-13</td>\n",
       "      <td>1720097</td>\n",
       "      <td>4.0</td>\n",
       "      <td>2370.0</td>\n",
       "      <td>7.6</td>\n",
       "      <td>205.725494</td>\n",
       "      <td>2018-03-15</td>\n",
       "      <td>12</td>\n",
       "      <td>469341</td>\n",
       "      <td>2017-04-01</td>\n",
       "      <td>0</td>\n",
       "      <td>38</td>\n",
       "      <td>4</td>\n",
       "      <td>4</td>\n",
       "      <td>4206</td>\n",
       "      <td>2018-03-15</td>\n",
       "    </tr>\n",
       "    <tr>\n",
       "      <th>16659530</th>\n",
       "      <td>2018-10-08</td>\n",
       "      <td>155.360596</td>\n",
       "      <td>2018-12-08</td>\n",
       "      <td>4610306</td>\n",
       "      <td>2.0</td>\n",
       "      <td>910.0</td>\n",
       "      <td>8.3</td>\n",
       "      <td>155.360596</td>\n",
       "      <td>2018-12-08</td>\n",
       "      <td>6</td>\n",
       "      <td>819229</td>\n",
       "      <td>2018-03-01</td>\n",
       "      <td>0</td>\n",
       "      <td>31</td>\n",
       "      <td>12</td>\n",
       "      <td>4</td>\n",
       "      <td>4348</td>\n",
       "      <td>2019-03-03</td>\n",
       "    </tr>\n",
       "    <tr>\n",
       "      <th>3339821</th>\n",
       "      <td>2018-03-05</td>\n",
       "      <td>963.635620</td>\n",
       "      <td>2018-05-05</td>\n",
       "      <td>2520263</td>\n",
       "      <td>2.0</td>\n",
       "      <td>11060.0</td>\n",
       "      <td>8.3</td>\n",
       "      <td>963.635620</td>\n",
       "      <td>2018-05-05</td>\n",
       "      <td>12</td>\n",
       "      <td>150093</td>\n",
       "      <td>2016-04-01</td>\n",
       "      <td>1</td>\n",
       "      <td>32</td>\n",
       "      <td>8</td>\n",
       "      <td>8</td>\n",
       "      <td>8256</td>\n",
       "      <td>2018-06-05</td>\n",
       "    </tr>\n",
       "    <tr>\n",
       "      <th>10707829</th>\n",
       "      <td>2017-12-11</td>\n",
       "      <td>252.599701</td>\n",
       "      <td>2018-01-11</td>\n",
       "      <td>1699279</td>\n",
       "      <td>1.0</td>\n",
       "      <td>2910.0</td>\n",
       "      <td>7.6</td>\n",
       "      <td>252.599701</td>\n",
       "      <td>2018-01-05</td>\n",
       "      <td>12</td>\n",
       "      <td>714026</td>\n",
       "      <td>2017-11-01</td>\n",
       "      <td>1</td>\n",
       "      <td>27</td>\n",
       "      <td>22</td>\n",
       "      <td>12</td>\n",
       "      <td>12190</td>\n",
       "      <td>2018-06-14</td>\n",
       "    </tr>\n",
       "    <tr>\n",
       "      <th>11293297</th>\n",
       "      <td>2017-11-25</td>\n",
       "      <td>660.440613</td>\n",
       "      <td>2018-02-25</td>\n",
       "      <td>1555619</td>\n",
       "      <td>3.0</td>\n",
       "      <td>5760.0</td>\n",
       "      <td>7.6</td>\n",
       "      <td>660.440613</td>\n",
       "      <td>2018-02-21</td>\n",
       "      <td>9</td>\n",
       "      <td>142981</td>\n",
       "      <td>2016-04-01</td>\n",
       "      <td>1</td>\n",
       "      <td>31</td>\n",
       "      <td>25</td>\n",
       "      <td>25</td>\n",
       "      <td>25140</td>\n",
       "      <td>2018-05-27</td>\n",
       "    </tr>\n",
       "    <tr>\n",
       "      <th>10539521</th>\n",
       "      <td>2017-12-17</td>\n",
       "      <td>141.944000</td>\n",
       "      <td>2018-07-17</td>\n",
       "      <td>1744515</td>\n",
       "      <td>7.0</td>\n",
       "      <td>1240.0</td>\n",
       "      <td>7.2</td>\n",
       "      <td>141.944000</td>\n",
       "      <td>2018-07-17</td>\n",
       "      <td>9</td>\n",
       "      <td>309117</td>\n",
       "      <td>2016-11-01</td>\n",
       "      <td>1</td>\n",
       "      <td>29</td>\n",
       "      <td>8</td>\n",
       "      <td>31</td>\n",
       "      <td>31067</td>\n",
       "      <td>2018-07-23</td>\n",
       "    </tr>\n",
       "    <tr>\n",
       "      <th>12131758</th>\n",
       "      <td>2017-10-18</td>\n",
       "      <td>852.893616</td>\n",
       "      <td>2018-02-18</td>\n",
       "      <td>1215351</td>\n",
       "      <td>4.0</td>\n",
       "      <td>5000.0</td>\n",
       "      <td>8.0</td>\n",
       "      <td>852.893616</td>\n",
       "      <td>2018-02-18</td>\n",
       "      <td>6</td>\n",
       "      <td>234150</td>\n",
       "      <td>2016-08-01</td>\n",
       "      <td>0</td>\n",
       "      <td>32</td>\n",
       "      <td>8</td>\n",
       "      <td>8</td>\n",
       "      <td>8343</td>\n",
       "      <td>2018-07-09</td>\n",
       "    </tr>\n",
       "    <tr>\n",
       "      <th>8995849</th>\n",
       "      <td>2018-07-05</td>\n",
       "      <td>249.260101</td>\n",
       "      <td>2018-12-05</td>\n",
       "      <td>3919361</td>\n",
       "      <td>5.0</td>\n",
       "      <td>1460.0</td>\n",
       "      <td>8.3</td>\n",
       "      <td>249.260101</td>\n",
       "      <td>2018-12-05</td>\n",
       "      <td>6</td>\n",
       "      <td>623933</td>\n",
       "      <td>2017-08-01</td>\n",
       "      <td>1</td>\n",
       "      <td>33</td>\n",
       "      <td>26</td>\n",
       "      <td>4</td>\n",
       "      <td>4155</td>\n",
       "      <td>2019-02-27</td>\n",
       "    </tr>\n",
       "    <tr>\n",
       "      <th>3554193</th>\n",
       "      <td>2017-09-06</td>\n",
       "      <td>946.639893</td>\n",
       "      <td>2018-03-06</td>\n",
       "      <td>915087</td>\n",
       "      <td>6.0</td>\n",
       "      <td>5540.0</td>\n",
       "      <td>8.6</td>\n",
       "      <td>946.639893</td>\n",
       "      <td>2018-03-06</td>\n",
       "      <td>6</td>\n",
       "      <td>102853</td>\n",
       "      <td>2016-01-01</td>\n",
       "      <td>1</td>\n",
       "      <td>27</td>\n",
       "      <td>2</td>\n",
       "      <td>17</td>\n",
       "      <td>17096</td>\n",
       "      <td>2018-03-19</td>\n",
       "    </tr>\n",
       "    <tr>\n",
       "      <th>16448845</th>\n",
       "      <td>2018-04-18</td>\n",
       "      <td>264.428009</td>\n",
       "      <td>2018-11-18</td>\n",
       "      <td>3068010</td>\n",
       "      <td>7.0</td>\n",
       "      <td>2310.0</td>\n",
       "      <td>7.2</td>\n",
       "      <td>264.428009</td>\n",
       "      <td>2018-11-18</td>\n",
       "      <td>9</td>\n",
       "      <td>778711</td>\n",
       "      <td>2018-01-01</td>\n",
       "      <td>0</td>\n",
       "      <td>27</td>\n",
       "      <td>11</td>\n",
       "      <td>11</td>\n",
       "      <td>11159</td>\n",
       "      <td>2018-12-16</td>\n",
       "    </tr>\n",
       "    <tr>\n",
       "      <th>1594044</th>\n",
       "      <td>2018-06-01</td>\n",
       "      <td>425.475311</td>\n",
       "      <td>2018-07-01</td>\n",
       "      <td>3607104</td>\n",
       "      <td>NaN</td>\n",
       "      <td>2490.0</td>\n",
       "      <td>8.6</td>\n",
       "      <td>425.475311</td>\n",
       "      <td>2018-07-01</td>\n",
       "      <td>6</td>\n",
       "      <td>421811</td>\n",
       "      <td>2017-03-01</td>\n",
       "      <td>0</td>\n",
       "      <td>29</td>\n",
       "      <td>15</td>\n",
       "      <td>15</td>\n",
       "      <td>15278</td>\n",
       "      <td>2018-05-31</td>\n",
       "    </tr>\n",
       "    <tr>\n",
       "      <th>3156431</th>\n",
       "      <td>2017-09-26</td>\n",
       "      <td>1131.599487</td>\n",
       "      <td>2017-11-26</td>\n",
       "      <td>1047826</td>\n",
       "      <td>2.0</td>\n",
       "      <td>3350.0</td>\n",
       "      <td>8.0</td>\n",
       "      <td>1131.599487</td>\n",
       "      <td>2017-09-30</td>\n",
       "      <td>3</td>\n",
       "      <td>669745</td>\n",
       "      <td>2017-09-01</td>\n",
       "      <td>1</td>\n",
       "      <td>25</td>\n",
       "      <td>25</td>\n",
       "      <td>25</td>\n",
       "      <td>25049</td>\n",
       "      <td>2018-02-11</td>\n",
       "    </tr>\n",
       "    <tr>\n",
       "      <th>9605211</th>\n",
       "      <td>2017-06-26</td>\n",
       "      <td>264.523712</td>\n",
       "      <td>2018-03-26</td>\n",
       "      <td>469653</td>\n",
       "      <td>9.0</td>\n",
       "      <td>3020.0</td>\n",
       "      <td>9.3</td>\n",
       "      <td>264.523712</td>\n",
       "      <td>2200-01-01</td>\n",
       "      <td>12</td>\n",
       "      <td>268218</td>\n",
       "      <td>2016-09-01</td>\n",
       "      <td>1</td>\n",
       "      <td>27</td>\n",
       "      <td>17</td>\n",
       "      <td>17</td>\n",
       "      <td>17284</td>\n",
       "      <td>2018-05-24</td>\n",
       "    </tr>\n",
       "    <tr>\n",
       "      <th>15387923</th>\n",
       "      <td>2017-12-12</td>\n",
       "      <td>177.080200</td>\n",
       "      <td>2018-05-12</td>\n",
       "      <td>1710497</td>\n",
       "      <td>5.0</td>\n",
       "      <td>2040.0</td>\n",
       "      <td>7.6</td>\n",
       "      <td>177.080200</td>\n",
       "      <td>2018-03-13</td>\n",
       "      <td>12</td>\n",
       "      <td>361499</td>\n",
       "      <td>2017-01-01</td>\n",
       "      <td>0</td>\n",
       "      <td>28</td>\n",
       "      <td>19</td>\n",
       "      <td>19</td>\n",
       "      <td>19335</td>\n",
       "      <td>2018-03-12</td>\n",
       "    </tr>\n",
       "  </tbody>\n",
       "</table>\n",
       "</div>"
      ],
      "text/plain": [
       "         auditing_date      due_amt   due_date  listing_id  order_id  \\\n",
       "16000905    2018-04-22   578.761719 2018-08-22     3124854       4.0   \n",
       "15350828    2017-12-13   205.725494 2018-04-13     1720097       4.0   \n",
       "16659530    2018-10-08   155.360596 2018-12-08     4610306       2.0   \n",
       "3339821     2018-03-05   963.635620 2018-05-05     2520263       2.0   \n",
       "10707829    2017-12-11   252.599701 2018-01-11     1699279       1.0   \n",
       "11293297    2017-11-25   660.440613 2018-02-25     1555619       3.0   \n",
       "10539521    2017-12-17   141.944000 2018-07-17     1744515       7.0   \n",
       "12131758    2017-10-18   852.893616 2018-02-18     1215351       4.0   \n",
       "8995849     2018-07-05   249.260101 2018-12-05     3919361       5.0   \n",
       "3554193     2017-09-06   946.639893 2018-03-06      915087       6.0   \n",
       "16448845    2018-04-18   264.428009 2018-11-18     3068010       7.0   \n",
       "1594044     2018-06-01   425.475311 2018-07-01     3607104       NaN   \n",
       "3156431     2017-09-26  1131.599487 2017-11-26     1047826       2.0   \n",
       "9605211     2017-06-26   264.523712 2018-03-26      469653       9.0   \n",
       "15387923    2017-12-12   177.080200 2018-05-12     1710497       5.0   \n",
       "\n",
       "          principal  rate    repay_amt repay_date  term  user_id    reg_mon  \\\n",
       "16000905     3390.0   8.3   578.761719 2200-01-01     6   623092 2017-08-01   \n",
       "15350828     2370.0   7.6   205.725494 2018-03-15    12   469341 2017-04-01   \n",
       "16659530      910.0   8.3   155.360596 2018-12-08     6   819229 2018-03-01   \n",
       "3339821     11060.0   8.3   963.635620 2018-05-05    12   150093 2016-04-01   \n",
       "10707829     2910.0   7.6   252.599701 2018-01-05    12   714026 2017-11-01   \n",
       "11293297     5760.0   7.6   660.440613 2018-02-21     9   142981 2016-04-01   \n",
       "10539521     1240.0   7.2   141.944000 2018-07-17     9   309117 2016-11-01   \n",
       "12131758     5000.0   8.0   852.893616 2018-02-18     6   234150 2016-08-01   \n",
       "8995849      1460.0   8.3   249.260101 2018-12-05     6   623933 2017-08-01   \n",
       "3554193      5540.0   8.6   946.639893 2018-03-06     6   102853 2016-01-01   \n",
       "16448845     2310.0   7.2   264.428009 2018-11-18     9   778711 2018-01-01   \n",
       "1594044      2490.0   8.6   425.475311 2018-07-01     6   421811 2017-03-01   \n",
       "3156431      3350.0   8.0  1131.599487 2017-09-30     3   669745 2017-09-01   \n",
       "9605211      3020.0   9.3   264.523712 2200-01-01    12   268218 2016-09-01   \n",
       "15387923     2040.0   7.6   177.080200 2018-03-13    12   361499 2017-01-01   \n",
       "\n",
       "          gender  age  cell_province  id_province  id_city insertdate  \n",
       "16000905       1   31              4           11    11077 2018-11-02  \n",
       "15350828       0   38              4            4     4206 2018-03-15  \n",
       "16659530       0   31             12            4     4348 2019-03-03  \n",
       "3339821        1   32              8            8     8256 2018-06-05  \n",
       "10707829       1   27             22           12    12190 2018-06-14  \n",
       "11293297       1   31             25           25    25140 2018-05-27  \n",
       "10539521       1   29              8           31    31067 2018-07-23  \n",
       "12131758       0   32              8            8     8343 2018-07-09  \n",
       "8995849        1   33             26            4     4155 2019-02-27  \n",
       "3554193        1   27              2           17    17096 2018-03-19  \n",
       "16448845       0   27             11           11    11159 2018-12-16  \n",
       "1594044        0   29             15           15    15278 2018-05-31  \n",
       "3156431        1   25             25           25    25049 2018-02-11  \n",
       "9605211        1   27             17           17    17284 2018-05-24  \n",
       "15387923       0   28             19           19    19335 2018-03-12  "
      ]
     },
     "execution_count": 127,
     "metadata": {
      "tags": []
     },
     "output_type": "execute_result"
    }
   ],
   "source": [
    "train.sample(15)"
   ]
  },
  {
   "cell_type": "code",
   "execution_count": 129,
   "metadata": {
    "colab": {
     "base_uri": "https://localhost:8080/",
     "height": 431
    },
    "colab_type": "code",
    "executionInfo": {
     "elapsed": 897,
     "status": "ok",
     "timestamp": 1561998942408,
     "user": {
      "displayName": "陶士来",
      "photoUrl": "",
      "userId": "08104502188577818611"
     },
     "user_tz": -480
    },
    "id": "sJf3cVTQZUzJ",
    "outputId": "cb0a0891-97f4-4b0d-ab9b-e95677c3f596"
   },
   "outputs": [
    {
     "name": "stdout",
     "output_type": "stream",
     "text": [
      "<class 'pandas.core.frame.DataFrame'>\n",
      "Int64Index: 20711267 entries, 0 to 20711266\n",
      "Data columns (total 18 columns):\n",
      "auditing_date    datetime64[ns]\n",
      "due_amt          float32\n",
      "due_date         datetime64[ns]\n",
      "listing_id       uint32\n",
      "order_id         float32\n",
      "principal        float32\n",
      "rate             float32\n",
      "repay_amt        float32\n",
      "repay_date       datetime64[ns]\n",
      "term             uint32\n",
      "user_id          uint32\n",
      "reg_mon          datetime64[ns]\n",
      "gender           uint32\n",
      "age              uint32\n",
      "cell_province    uint32\n",
      "id_province      uint32\n",
      "id_city          uint32\n",
      "insertdate       datetime64[ns]\n",
      "dtypes: datetime64[ns](5), float32(5), uint32(8)\n",
      "memory usage: 1.9 GB\n"
     ]
    }
   ],
   "source": [
    "train.info(memory_usage='deep')"
   ]
  },
  {
   "cell_type": "code",
   "execution_count": 0,
   "metadata": {
    "colab": {},
    "colab_type": "code",
    "id": "oL_8Bf06ZUvp"
   },
   "outputs": [],
   "source": [
    "\n",
    "user_taglist.rename(columns={'insertdate': 'tag_insert_date'}, inplace=True)\n",
    "user_taglist = user_taglist.sort_values(by='tag_insert_date', ascending=False).drop_duplicates('user_id').reset_index(drop=True)\n"
   ]
  },
  {
   "cell_type": "code",
   "execution_count": 0,
   "metadata": {
    "colab": {},
    "colab_type": "code",
    "id": "gjHuyC5eZUs3"
   },
   "outputs": [],
   "source": [
    "train=pd.merge(train,user_taglist,on=['user_id'],how='left')"
   ]
  },
  {
   "cell_type": "code",
   "execution_count": 45,
   "metadata": {
    "colab": {
     "base_uri": "https://localhost:8080/",
     "height": 35
    },
    "colab_type": "code",
    "executionInfo": {
     "elapsed": 864,
     "status": "ok",
     "timestamp": 1562001266864,
     "user": {
      "displayName": "陶士来",
      "photoUrl": "",
      "userId": "08104502188577818611"
     },
     "user_tz": -480
    },
    "id": "DbjAPDr1ZUqU",
    "outputId": "4f1d4ed7-9ee4-4e8c-c04d-c1d30bff638a"
   },
   "outputs": [
    {
     "data": {
      "text/plain": [
       "42"
      ]
     },
     "execution_count": 45,
     "metadata": {
      "tags": []
     },
     "output_type": "execute_result"
    }
   ],
   "source": [
    "del user_taglist\n",
    "gc.collect()"
   ]
  },
  {
   "cell_type": "code",
   "execution_count": 0,
   "metadata": {
    "colab": {},
    "colab_type": "code",
    "id": "hLHPLvjOiCgF"
   },
   "outputs": [],
   "source": [
    "train.to_csv('train_new.csv',index=False)"
   ]
  },
  {
   "cell_type": "code",
   "execution_count": 133,
   "metadata": {
    "colab": {
     "base_uri": "https://localhost:8080/",
     "height": 549
    },
    "colab_type": "code",
    "executionInfo": {
     "elapsed": 4454,
     "status": "ok",
     "timestamp": 1561999269831,
     "user": {
      "displayName": "陶士来",
      "photoUrl": "",
      "userId": "08104502188577818611"
     },
     "user_tz": -480
    },
    "id": "6MLFYXoAZUmG",
    "outputId": "948784a1-0a97-4f24-c454-07f6cbffa679"
   },
   "outputs": [
    {
     "data": {
      "text/html": [
       "<div>\n",
       "<style scoped>\n",
       "    .dataframe tbody tr th:only-of-type {\n",
       "        vertical-align: middle;\n",
       "    }\n",
       "\n",
       "    .dataframe tbody tr th {\n",
       "        vertical-align: top;\n",
       "    }\n",
       "\n",
       "    .dataframe thead th {\n",
       "        text-align: right;\n",
       "    }\n",
       "</style>\n",
       "<table border=\"1\" class=\"dataframe\">\n",
       "  <thead>\n",
       "    <tr style=\"text-align: right;\">\n",
       "      <th></th>\n",
       "      <th>auditing_date</th>\n",
       "      <th>due_amt</th>\n",
       "      <th>due_date</th>\n",
       "      <th>listing_id</th>\n",
       "      <th>order_id</th>\n",
       "      <th>principal</th>\n",
       "      <th>rate</th>\n",
       "      <th>repay_amt</th>\n",
       "      <th>repay_date</th>\n",
       "      <th>term</th>\n",
       "      <th>user_id</th>\n",
       "      <th>reg_mon</th>\n",
       "      <th>gender</th>\n",
       "      <th>age</th>\n",
       "      <th>cell_province</th>\n",
       "      <th>id_province</th>\n",
       "      <th>id_city</th>\n",
       "      <th>insertdate</th>\n",
       "      <th>tag_insert_date</th>\n",
       "      <th>top1</th>\n",
       "      <th>top2</th>\n",
       "      <th>top3</th>\n",
       "      <th>top4</th>\n",
       "      <th>top5</th>\n",
       "      <th>top10</th>\n",
       "    </tr>\n",
       "  </thead>\n",
       "  <tbody>\n",
       "    <tr>\n",
       "      <th>3679686</th>\n",
       "      <td>2018-02-22</td>\n",
       "      <td>155.226395</td>\n",
       "      <td>2018-03-22</td>\n",
       "      <td>2389688</td>\n",
       "      <td>1.0</td>\n",
       "      <td>910.0</td>\n",
       "      <td>8.0</td>\n",
       "      <td>155.226395</td>\n",
       "      <td>2018-03-22</td>\n",
       "      <td>6</td>\n",
       "      <td>700474</td>\n",
       "      <td>2017-10-01</td>\n",
       "      <td>1</td>\n",
       "      <td>27</td>\n",
       "      <td>29</td>\n",
       "      <td>29</td>\n",
       "      <td>29091</td>\n",
       "      <td>2018-05-12</td>\n",
       "      <td>2018-05-12</td>\n",
       "      <td>18.0</td>\n",
       "      <td>166.0</td>\n",
       "      <td>687.0</td>\n",
       "      <td>1898.0</td>\n",
       "      <td>4308.0</td>\n",
       "      <td>38533.0</td>\n",
       "    </tr>\n",
       "    <tr>\n",
       "      <th>14837843</th>\n",
       "      <td>2017-05-22</td>\n",
       "      <td>102.481003</td>\n",
       "      <td>2018-03-22</td>\n",
       "      <td>317364</td>\n",
       "      <td>10.0</td>\n",
       "      <td>1170.0</td>\n",
       "      <td>9.3</td>\n",
       "      <td>102.481003</td>\n",
       "      <td>2018-03-20</td>\n",
       "      <td>12</td>\n",
       "      <td>510335</td>\n",
       "      <td>2017-05-01</td>\n",
       "      <td>1</td>\n",
       "      <td>25</td>\n",
       "      <td>20</td>\n",
       "      <td>6</td>\n",
       "      <td>6281</td>\n",
       "      <td>2018-08-21</td>\n",
       "      <td>2018-08-21</td>\n",
       "      <td>18.0</td>\n",
       "      <td>166.0</td>\n",
       "      <td>687.0</td>\n",
       "      <td>1898.0</td>\n",
       "      <td>4308.0</td>\n",
       "      <td>37875.0</td>\n",
       "    </tr>\n",
       "    <tr>\n",
       "      <th>15142666</th>\n",
       "      <td>2017-12-20</td>\n",
       "      <td>114.471001</td>\n",
       "      <td>2018-01-20</td>\n",
       "      <td>1777977</td>\n",
       "      <td>1.0</td>\n",
       "      <td>1000.0</td>\n",
       "      <td>7.2</td>\n",
       "      <td>114.471001</td>\n",
       "      <td>2018-01-20</td>\n",
       "      <td>9</td>\n",
       "      <td>357423</td>\n",
       "      <td>2016-12-01</td>\n",
       "      <td>0</td>\n",
       "      <td>32</td>\n",
       "      <td>16</td>\n",
       "      <td>16</td>\n",
       "      <td>16146</td>\n",
       "      <td>2018-01-26</td>\n",
       "      <td>2018-09-24</td>\n",
       "      <td>18.0</td>\n",
       "      <td>166.0</td>\n",
       "      <td>687.0</td>\n",
       "      <td>1898.0</td>\n",
       "      <td>4308.0</td>\n",
       "      <td>38443.0</td>\n",
       "    </tr>\n",
       "    <tr>\n",
       "      <th>15960368</th>\n",
       "      <td>2018-04-26</td>\n",
       "      <td>102.102203</td>\n",
       "      <td>2018-08-26</td>\n",
       "      <td>3178847</td>\n",
       "      <td>4.0</td>\n",
       "      <td>1170.0</td>\n",
       "      <td>8.6</td>\n",
       "      <td>102.102203</td>\n",
       "      <td>2018-08-14</td>\n",
       "      <td>12</td>\n",
       "      <td>739837</td>\n",
       "      <td>2017-11-01</td>\n",
       "      <td>1</td>\n",
       "      <td>25</td>\n",
       "      <td>26</td>\n",
       "      <td>26</td>\n",
       "      <td>26057</td>\n",
       "      <td>2019-02-01</td>\n",
       "      <td>2019-02-01</td>\n",
       "      <td>18.0</td>\n",
       "      <td>166.0</td>\n",
       "      <td>687.0</td>\n",
       "      <td>1898.0</td>\n",
       "      <td>4308.0</td>\n",
       "      <td>38443.0</td>\n",
       "    </tr>\n",
       "    <tr>\n",
       "      <th>15670494</th>\n",
       "      <td>2017-12-03</td>\n",
       "      <td>190.335205</td>\n",
       "      <td>2018-06-03</td>\n",
       "      <td>1628798</td>\n",
       "      <td>6.0</td>\n",
       "      <td>1660.0</td>\n",
       "      <td>7.6</td>\n",
       "      <td>190.335205</td>\n",
       "      <td>2018-04-27</td>\n",
       "      <td>9</td>\n",
       "      <td>413297</td>\n",
       "      <td>2017-02-01</td>\n",
       "      <td>1</td>\n",
       "      <td>32</td>\n",
       "      <td>28</td>\n",
       "      <td>28</td>\n",
       "      <td>28340</td>\n",
       "      <td>2018-07-31</td>\n",
       "      <td>NaT</td>\n",
       "      <td>NaN</td>\n",
       "      <td>NaN</td>\n",
       "      <td>NaN</td>\n",
       "      <td>NaN</td>\n",
       "      <td>NaN</td>\n",
       "      <td>NaN</td>\n",
       "    </tr>\n",
       "    <tr>\n",
       "      <th>8347123</th>\n",
       "      <td>2018-02-23</td>\n",
       "      <td>327.511200</td>\n",
       "      <td>2018-03-23</td>\n",
       "      <td>2395975</td>\n",
       "      <td>1.0</td>\n",
       "      <td>1920.0</td>\n",
       "      <td>8.0</td>\n",
       "      <td>327.511200</td>\n",
       "      <td>2018-03-15</td>\n",
       "      <td>6</td>\n",
       "      <td>718909</td>\n",
       "      <td>2017-11-01</td>\n",
       "      <td>1</td>\n",
       "      <td>28</td>\n",
       "      <td>4</td>\n",
       "      <td>4</td>\n",
       "      <td>4152</td>\n",
       "      <td>2018-06-06</td>\n",
       "      <td>NaT</td>\n",
       "      <td>NaN</td>\n",
       "      <td>NaN</td>\n",
       "      <td>NaN</td>\n",
       "      <td>NaN</td>\n",
       "      <td>NaN</td>\n",
       "      <td>NaN</td>\n",
       "    </tr>\n",
       "    <tr>\n",
       "      <th>5181382</th>\n",
       "      <td>2018-01-05</td>\n",
       "      <td>144.656403</td>\n",
       "      <td>2018-02-05</td>\n",
       "      <td>1914562</td>\n",
       "      <td>1.0</td>\n",
       "      <td>850.0</td>\n",
       "      <td>7.2</td>\n",
       "      <td>144.656403</td>\n",
       "      <td>2018-01-06</td>\n",
       "      <td>6</td>\n",
       "      <td>525053</td>\n",
       "      <td>2017-05-01</td>\n",
       "      <td>1</td>\n",
       "      <td>25</td>\n",
       "      <td>17</td>\n",
       "      <td>17</td>\n",
       "      <td>17242</td>\n",
       "      <td>2018-03-15</td>\n",
       "      <td>2018-10-08</td>\n",
       "      <td>18.0</td>\n",
       "      <td>166.0</td>\n",
       "      <td>687.0</td>\n",
       "      <td>1898.0</td>\n",
       "      <td>4308.0</td>\n",
       "      <td>43781.0</td>\n",
       "    </tr>\n",
       "    <tr>\n",
       "      <th>14591</th>\n",
       "      <td>2018-12-15</td>\n",
       "      <td>942.004089</td>\n",
       "      <td>2019-01-15</td>\n",
       "      <td>5127209</td>\n",
       "      <td>NaN</td>\n",
       "      <td>5540.0</td>\n",
       "      <td>6.9</td>\n",
       "      <td>942.004089</td>\n",
       "      <td>2019-01-15</td>\n",
       "      <td>6</td>\n",
       "      <td>9099</td>\n",
       "      <td>2014-08-01</td>\n",
       "      <td>1</td>\n",
       "      <td>28</td>\n",
       "      <td>26</td>\n",
       "      <td>26</td>\n",
       "      <td>26131</td>\n",
       "      <td>2018-12-14</td>\n",
       "      <td>2018-12-14</td>\n",
       "      <td>18.0</td>\n",
       "      <td>166.0</td>\n",
       "      <td>687.0</td>\n",
       "      <td>1894.0</td>\n",
       "      <td>4238.0</td>\n",
       "      <td>22312.0</td>\n",
       "    </tr>\n",
       "    <tr>\n",
       "      <th>20259857</th>\n",
       "      <td>2017-12-07</td>\n",
       "      <td>97.300301</td>\n",
       "      <td>2018-05-07</td>\n",
       "      <td>1663522</td>\n",
       "      <td>5.0</td>\n",
       "      <td>850.0</td>\n",
       "      <td>7.2</td>\n",
       "      <td>97.300301</td>\n",
       "      <td>2018-01-11</td>\n",
       "      <td>9</td>\n",
       "      <td>418130</td>\n",
       "      <td>2017-03-01</td>\n",
       "      <td>1</td>\n",
       "      <td>25</td>\n",
       "      <td>5</td>\n",
       "      <td>5</td>\n",
       "      <td>5021</td>\n",
       "      <td>2018-06-27</td>\n",
       "      <td>2018-08-16</td>\n",
       "      <td>18.0</td>\n",
       "      <td>166.0</td>\n",
       "      <td>687.0</td>\n",
       "      <td>1898.0</td>\n",
       "      <td>4308.0</td>\n",
       "      <td>41759.0</td>\n",
       "    </tr>\n",
       "    <tr>\n",
       "      <th>14039543</th>\n",
       "      <td>2018-01-23</td>\n",
       "      <td>884.957275</td>\n",
       "      <td>2018-06-23</td>\n",
       "      <td>2088522</td>\n",
       "      <td>5.0</td>\n",
       "      <td>5200.0</td>\n",
       "      <td>7.2</td>\n",
       "      <td>884.957275</td>\n",
       "      <td>2018-06-16</td>\n",
       "      <td>6</td>\n",
       "      <td>473343</td>\n",
       "      <td>2017-04-01</td>\n",
       "      <td>1</td>\n",
       "      <td>48</td>\n",
       "      <td>17</td>\n",
       "      <td>17</td>\n",
       "      <td>17290</td>\n",
       "      <td>2018-08-29</td>\n",
       "      <td>NaT</td>\n",
       "      <td>NaN</td>\n",
       "      <td>NaN</td>\n",
       "      <td>NaN</td>\n",
       "      <td>NaN</td>\n",
       "      <td>NaN</td>\n",
       "      <td>NaN</td>\n",
       "    </tr>\n",
       "  </tbody>\n",
       "</table>\n",
       "</div>"
      ],
      "text/plain": [
       "         auditing_date     due_amt   due_date  listing_id  order_id  \\\n",
       "3679686     2018-02-22  155.226395 2018-03-22     2389688       1.0   \n",
       "14837843    2017-05-22  102.481003 2018-03-22      317364      10.0   \n",
       "15142666    2017-12-20  114.471001 2018-01-20     1777977       1.0   \n",
       "15960368    2018-04-26  102.102203 2018-08-26     3178847       4.0   \n",
       "15670494    2017-12-03  190.335205 2018-06-03     1628798       6.0   \n",
       "8347123     2018-02-23  327.511200 2018-03-23     2395975       1.0   \n",
       "5181382     2018-01-05  144.656403 2018-02-05     1914562       1.0   \n",
       "14591       2018-12-15  942.004089 2019-01-15     5127209       NaN   \n",
       "20259857    2017-12-07   97.300301 2018-05-07     1663522       5.0   \n",
       "14039543    2018-01-23  884.957275 2018-06-23     2088522       5.0   \n",
       "\n",
       "          principal  rate   repay_amt repay_date  term  user_id    reg_mon  \\\n",
       "3679686       910.0   8.0  155.226395 2018-03-22     6   700474 2017-10-01   \n",
       "14837843     1170.0   9.3  102.481003 2018-03-20    12   510335 2017-05-01   \n",
       "15142666     1000.0   7.2  114.471001 2018-01-20     9   357423 2016-12-01   \n",
       "15960368     1170.0   8.6  102.102203 2018-08-14    12   739837 2017-11-01   \n",
       "15670494     1660.0   7.6  190.335205 2018-04-27     9   413297 2017-02-01   \n",
       "8347123      1920.0   8.0  327.511200 2018-03-15     6   718909 2017-11-01   \n",
       "5181382       850.0   7.2  144.656403 2018-01-06     6   525053 2017-05-01   \n",
       "14591        5540.0   6.9  942.004089 2019-01-15     6     9099 2014-08-01   \n",
       "20259857      850.0   7.2   97.300301 2018-01-11     9   418130 2017-03-01   \n",
       "14039543     5200.0   7.2  884.957275 2018-06-16     6   473343 2017-04-01   \n",
       "\n",
       "          gender  age  cell_province  id_province  id_city insertdate  \\\n",
       "3679686        1   27             29           29    29091 2018-05-12   \n",
       "14837843       1   25             20            6     6281 2018-08-21   \n",
       "15142666       0   32             16           16    16146 2018-01-26   \n",
       "15960368       1   25             26           26    26057 2019-02-01   \n",
       "15670494       1   32             28           28    28340 2018-07-31   \n",
       "8347123        1   28              4            4     4152 2018-06-06   \n",
       "5181382        1   25             17           17    17242 2018-03-15   \n",
       "14591          1   28             26           26    26131 2018-12-14   \n",
       "20259857       1   25              5            5     5021 2018-06-27   \n",
       "14039543       1   48             17           17    17290 2018-08-29   \n",
       "\n",
       "         tag_insert_date  top1   top2   top3    top4    top5    top10  \n",
       "3679686       2018-05-12  18.0  166.0  687.0  1898.0  4308.0  38533.0  \n",
       "14837843      2018-08-21  18.0  166.0  687.0  1898.0  4308.0  37875.0  \n",
       "15142666      2018-09-24  18.0  166.0  687.0  1898.0  4308.0  38443.0  \n",
       "15960368      2019-02-01  18.0  166.0  687.0  1898.0  4308.0  38443.0  \n",
       "15670494             NaT   NaN    NaN    NaN     NaN     NaN      NaN  \n",
       "8347123              NaT   NaN    NaN    NaN     NaN     NaN      NaN  \n",
       "5181382       2018-10-08  18.0  166.0  687.0  1898.0  4308.0  43781.0  \n",
       "14591         2018-12-14  18.0  166.0  687.0  1894.0  4238.0  22312.0  \n",
       "20259857      2018-08-16  18.0  166.0  687.0  1898.0  4308.0  41759.0  \n",
       "14039543             NaT   NaN    NaN    NaN     NaN     NaN      NaN  "
      ]
     },
     "execution_count": 133,
     "metadata": {
      "tags": []
     },
     "output_type": "execute_result"
    }
   ],
   "source": [
    "train.sample(10)"
   ]
  },
  {
   "cell_type": "code",
   "execution_count": 0,
   "metadata": {
    "colab": {},
    "colab_type": "code",
    "id": "9PpYJUkDZUjg"
   },
   "outputs": [],
   "source": [
    "# user_taglist.rename(columns={'insertdate': 'tag_insert_date'}, inplace=True)\n",
    "# user_taglist = user_taglist.sort_values(by='tag_insert_date', ascending=False).drop_duplicates('user_id').reset_index(drop=True)\n"
   ]
  },
  {
   "cell_type": "code",
   "execution_count": 137,
   "metadata": {
    "colab": {
     "base_uri": "https://localhost:8080/",
     "height": 359
    },
    "colab_type": "code",
    "executionInfo": {
     "elapsed": 4861,
     "status": "ok",
     "timestamp": 1561999826388,
     "user": {
      "displayName": "陶士来",
      "photoUrl": "",
      "userId": "08104502188577818611"
     },
     "user_tz": -480
    },
    "id": "PiRLslboZUgl",
    "outputId": "f9e65672-da26-4e69-ae7f-683addc622c3"
   },
   "outputs": [
    {
     "data": {
      "text/html": [
       "<div>\n",
       "<style scoped>\n",
       "    .dataframe tbody tr th:only-of-type {\n",
       "        vertical-align: middle;\n",
       "    }\n",
       "\n",
       "    .dataframe tbody tr th {\n",
       "        vertical-align: top;\n",
       "    }\n",
       "\n",
       "    .dataframe thead th {\n",
       "        text-align: right;\n",
       "    }\n",
       "</style>\n",
       "<table border=\"1\" class=\"dataframe\">\n",
       "  <thead>\n",
       "    <tr style=\"text-align: right;\">\n",
       "      <th></th>\n",
       "      <th>user_id</th>\n",
       "      <th>behavior_time</th>\n",
       "      <th>behavior_type</th>\n",
       "    </tr>\n",
       "  </thead>\n",
       "  <tbody>\n",
       "    <tr>\n",
       "      <th>5550251</th>\n",
       "      <td>142601</td>\n",
       "      <td>2018-02-05 17:41:52</td>\n",
       "      <td>1</td>\n",
       "    </tr>\n",
       "    <tr>\n",
       "      <th>41413923</th>\n",
       "      <td>868500</td>\n",
       "      <td>2018-10-21 21:02:45</td>\n",
       "      <td>1</td>\n",
       "    </tr>\n",
       "    <tr>\n",
       "      <th>28869041</th>\n",
       "      <td>165760</td>\n",
       "      <td>2018-11-25 16:04:36</td>\n",
       "      <td>1</td>\n",
       "    </tr>\n",
       "    <tr>\n",
       "      <th>28530411</th>\n",
       "      <td>8611</td>\n",
       "      <td>2017-10-20 18:14:33</td>\n",
       "      <td>3</td>\n",
       "    </tr>\n",
       "    <tr>\n",
       "      <th>14039644</th>\n",
       "      <td>462882</td>\n",
       "      <td>2018-07-14 13:25:55</td>\n",
       "      <td>1</td>\n",
       "    </tr>\n",
       "    <tr>\n",
       "      <th>47894960</th>\n",
       "      <td>647816</td>\n",
       "      <td>2018-07-15 13:57:11</td>\n",
       "      <td>1</td>\n",
       "    </tr>\n",
       "    <tr>\n",
       "      <th>18546483</th>\n",
       "      <td>531671</td>\n",
       "      <td>2017-11-29 18:29:31</td>\n",
       "      <td>1</td>\n",
       "    </tr>\n",
       "    <tr>\n",
       "      <th>17664087</th>\n",
       "      <td>628204</td>\n",
       "      <td>2018-03-17 11:13:21</td>\n",
       "      <td>1</td>\n",
       "    </tr>\n",
       "    <tr>\n",
       "      <th>11757713</th>\n",
       "      <td>869755</td>\n",
       "      <td>2018-06-15 20:01:04</td>\n",
       "      <td>3</td>\n",
       "    </tr>\n",
       "    <tr>\n",
       "      <th>26668441</th>\n",
       "      <td>695878</td>\n",
       "      <td>2018-08-20 18:28:46</td>\n",
       "      <td>3</td>\n",
       "    </tr>\n",
       "  </tbody>\n",
       "</table>\n",
       "</div>"
      ],
      "text/plain": [
       "          user_id       behavior_time  behavior_type\n",
       "5550251    142601 2018-02-05 17:41:52              1\n",
       "41413923   868500 2018-10-21 21:02:45              1\n",
       "28869041   165760 2018-11-25 16:04:36              1\n",
       "28530411     8611 2017-10-20 18:14:33              3\n",
       "14039644   462882 2018-07-14 13:25:55              1\n",
       "47894960   647816 2018-07-15 13:57:11              1\n",
       "18546483   531671 2017-11-29 18:29:31              1\n",
       "17664087   628204 2018-03-17 11:13:21              1\n",
       "11757713   869755 2018-06-15 20:01:04              3\n",
       "26668441   695878 2018-08-20 18:28:46              3"
      ]
     },
     "execution_count": 137,
     "metadata": {
      "tags": []
     },
     "output_type": "execute_result"
    }
   ],
   "source": [
    "user_behavior_logs.sample(10)"
   ]
  },
  {
   "cell_type": "code",
   "execution_count": 0,
   "metadata": {
    "colab": {},
    "colab_type": "code",
    "id": "w5cprQqpZUca"
   },
   "outputs": [],
   "source": [
    "user_behavior_logs_times=user_behavior_logs.groupby('behavior_time').count()"
   ]
  },
  {
   "cell_type": "code",
   "execution_count": 0,
   "metadata": {
    "colab": {},
    "colab_type": "code",
    "id": "HtmxKsKuZUYe"
   },
   "outputs": [],
   "source": [
    "\n",
    "user_behavior_logs_times.reset_index().rename({'user_id':'user_id_times'}).sample(10)\n"
   ]
  },
  {
   "cell_type": "code",
   "execution_count": 0,
   "metadata": {
    "colab": {},
    "colab_type": "code",
    "id": "sgTSeoCiZUU9"
   },
   "outputs": [],
   "source": []
  },
  {
   "cell_type": "code",
   "execution_count": 0,
   "metadata": {
    "colab": {},
    "colab_type": "code",
    "id": "h7WgIcdkZURA"
   },
   "outputs": [],
   "source": [
    "#################################################################################"
   ]
  },
  {
   "cell_type": "code",
   "execution_count": 0,
   "metadata": {
    "colab": {},
    "colab_type": "code",
    "id": "Tau3hANXBur2"
   },
   "outputs": [],
   "source": []
  },
  {
   "cell_type": "code",
   "execution_count": 0,
   "metadata": {
    "colab": {
     "base_uri": "https://localhost:8080/",
     "height": 35
    },
    "colab_type": "code",
    "executionInfo": {
     "elapsed": 1179,
     "status": "ok",
     "timestamp": 1561708101867,
     "user": {
      "displayName": "陶士来",
      "photoUrl": "",
      "userId": "08104502188577818611"
     },
     "user_tz": -480
    },
    "id": "L8VuWkGMDJVI",
    "outputId": "5f44cd36-0bec-42e5-83ec-1dfb09e96852"
   },
   "outputs": [
    {
     "data": {
      "text/plain": [
       "(130000, 7)"
      ]
     },
     "execution_count": 39,
     "metadata": {
      "tags": []
     },
     "output_type": "execute_result"
    }
   ],
   "source": [
    "all_data[all_data['repay_amt'].isnull()].shape"
   ]
  },
  {
   "cell_type": "code",
   "execution_count": 0,
   "metadata": {
    "colab": {
     "base_uri": "https://localhost:8080/",
     "height": 204
    },
    "colab_type": "code",
    "executionInfo": {
     "elapsed": 1068,
     "status": "ok",
     "timestamp": 1561708139087,
     "user": {
      "displayName": "陶士来",
      "photoUrl": "",
      "userId": "08104502188577818611"
     },
     "user_tz": -480
    },
    "id": "ZKw6jHLXDJTL",
    "outputId": "d9bcf2ca-d9f1-4462-d3e6-979fa96b08fe"
   },
   "outputs": [
    {
     "data": {
      "text/html": [
       "<div>\n",
       "<style scoped>\n",
       "    .dataframe tbody tr th:only-of-type {\n",
       "        vertical-align: middle;\n",
       "    }\n",
       "\n",
       "    .dataframe tbody tr th {\n",
       "        vertical-align: top;\n",
       "    }\n",
       "\n",
       "    .dataframe thead th {\n",
       "        text-align: right;\n",
       "    }\n",
       "</style>\n",
       "<table border=\"1\" class=\"dataframe\">\n",
       "  <thead>\n",
       "    <tr style=\"text-align: right;\">\n",
       "      <th></th>\n",
       "      <th>auditing_date</th>\n",
       "      <th>due_amt</th>\n",
       "      <th>due_date</th>\n",
       "      <th>listing_id</th>\n",
       "      <th>repay_amt</th>\n",
       "      <th>repay_date</th>\n",
       "      <th>user_id</th>\n",
       "    </tr>\n",
       "  </thead>\n",
       "  <tbody>\n",
       "    <tr>\n",
       "      <th>0</th>\n",
       "      <td>2018-04-25</td>\n",
       "      <td>72.1167</td>\n",
       "      <td>2018-05-25</td>\n",
       "      <td>3163926</td>\n",
       "      <td>72.1167</td>\n",
       "      <td>2018-05-25</td>\n",
       "      <td>748147</td>\n",
       "    </tr>\n",
       "    <tr>\n",
       "      <th>1</th>\n",
       "      <td>2018-06-09</td>\n",
       "      <td>258.7045</td>\n",
       "      <td>2018-07-09</td>\n",
       "      <td>3698760</td>\n",
       "      <td>258.7045</td>\n",
       "      <td>2018-07-08</td>\n",
       "      <td>672952</td>\n",
       "    </tr>\n",
       "    <tr>\n",
       "      <th>2</th>\n",
       "      <td>2018-02-18</td>\n",
       "      <td>307.9270</td>\n",
       "      <td>2018-03-18</td>\n",
       "      <td>2355665</td>\n",
       "      <td>\\N</td>\n",
       "      <td>\\N</td>\n",
       "      <td>404196</td>\n",
       "    </tr>\n",
       "    <tr>\n",
       "      <th>3</th>\n",
       "      <td>2018-01-13</td>\n",
       "      <td>252.9809</td>\n",
       "      <td>2018-02-13</td>\n",
       "      <td>1994522</td>\n",
       "      <td>252.9809</td>\n",
       "      <td>2018-02-13</td>\n",
       "      <td>342769</td>\n",
       "    </tr>\n",
       "    <tr>\n",
       "      <th>4</th>\n",
       "      <td>2018-06-01</td>\n",
       "      <td>107.6503</td>\n",
       "      <td>2018-07-01</td>\n",
       "      <td>3602352</td>\n",
       "      <td>107.6503</td>\n",
       "      <td>2018-06-25</td>\n",
       "      <td>828139</td>\n",
       "    </tr>\n",
       "  </tbody>\n",
       "</table>\n",
       "</div>"
      ],
      "text/plain": [
       "  auditing_date   due_amt   due_date  listing_id repay_amt  repay_date  \\\n",
       "0    2018-04-25   72.1167 2018-05-25     3163926   72.1167  2018-05-25   \n",
       "1    2018-06-09  258.7045 2018-07-09     3698760  258.7045  2018-07-08   \n",
       "2    2018-02-18  307.9270 2018-03-18     2355665        \\N          \\N   \n",
       "3    2018-01-13  252.9809 2018-02-13     1994522  252.9809  2018-02-13   \n",
       "4    2018-06-01  107.6503 2018-07-01     3602352  107.6503  2018-06-25   \n",
       "\n",
       "   user_id  \n",
       "0   748147  \n",
       "1   672952  \n",
       "2   404196  \n",
       "3   342769  \n",
       "4   828139  "
      ]
     },
     "execution_count": 40,
     "metadata": {
      "tags": []
     },
     "output_type": "execute_result"
    }
   ],
   "source": [
    "all_data.head()"
   ]
  },
  {
   "cell_type": "code",
   "execution_count": 0,
   "metadata": {
    "colab": {
     "base_uri": "https://localhost:8080/",
     "height": 35
    },
    "colab_type": "code",
    "executionInfo": {
     "elapsed": 1045,
     "status": "ok",
     "timestamp": 1561712182279,
     "user": {
      "displayName": "陶士来",
      "photoUrl": "",
      "userId": "08104502188577818611"
     },
     "user_tz": -480
    },
    "id": "Vn04GGY-ESE8",
    "outputId": "fffa7ac3-84dc-4ea2-d8bf-24347f925fa3"
   },
   "outputs": [
    {
     "data": {
      "text/plain": [
       "14"
      ]
     },
     "execution_count": 14,
     "metadata": {
      "tags": []
     },
     "output_type": "execute_result"
    }
   ],
   "source": [
    "import gc\n",
    "del listing_info['user_id'], listing_info['auditing_date']\n",
    "gc.collect()"
   ]
  },
  {
   "cell_type": "code",
   "execution_count": 0,
   "metadata": {
    "colab": {},
    "colab_type": "code",
    "id": "mnMmzpOJESC6"
   },
   "outputs": [],
   "source": []
  },
  {
   "cell_type": "code",
   "execution_count": 0,
   "metadata": {
    "colab": {},
    "colab_type": "code",
    "id": "4IehTlgsD0O4"
   },
   "outputs": [],
   "source": [
    "all_data=pd.merge(all_data,listing_info,on=['listing_id'],how='left')##只将all_data中的listing_id添加了一些维度，对于新增的listing_id并没有添加"
   ]
  },
  {
   "cell_type": "code",
   "execution_count": 0,
   "metadata": {
    "colab": {
     "base_uri": "https://localhost:8080/",
     "height": 669
    },
    "colab_type": "code",
    "executionInfo": {
     "elapsed": 2033,
     "status": "ok",
     "timestamp": 1561712243769,
     "user": {
      "displayName": "陶士来",
      "photoUrl": "",
      "userId": "08104502188577818611"
     },
     "user_tz": -480
    },
    "id": "2IdYN6qtD0MI",
    "outputId": "fbc5960d-d5b8-42d8-8ce5-67146b28d92d"
   },
   "outputs": [
    {
     "data": {
      "text/html": [
       "<div>\n",
       "<style scoped>\n",
       "    .dataframe tbody tr th:only-of-type {\n",
       "        vertical-align: middle;\n",
       "    }\n",
       "\n",
       "    .dataframe tbody tr th {\n",
       "        vertical-align: top;\n",
       "    }\n",
       "\n",
       "    .dataframe thead th {\n",
       "        text-align: right;\n",
       "    }\n",
       "</style>\n",
       "<table border=\"1\" class=\"dataframe\">\n",
       "  <thead>\n",
       "    <tr style=\"text-align: right;\">\n",
       "      <th></th>\n",
       "      <th>auditing_date</th>\n",
       "      <th>due_amt</th>\n",
       "      <th>due_date</th>\n",
       "      <th>listing_id</th>\n",
       "      <th>repay_amt</th>\n",
       "      <th>repay_date</th>\n",
       "      <th>user_id</th>\n",
       "      <th>term</th>\n",
       "      <th>rate</th>\n",
       "      <th>principal</th>\n",
       "    </tr>\n",
       "  </thead>\n",
       "  <tbody>\n",
       "    <tr>\n",
       "      <th>112683</th>\n",
       "      <td>2018-11-19</td>\n",
       "      <td>121.3008</td>\n",
       "      <td>2018-12-19</td>\n",
       "      <td>4943841</td>\n",
       "      <td>121.3008</td>\n",
       "      <td>2018-12-18</td>\n",
       "      <td>833995</td>\n",
       "      <td>12</td>\n",
       "      <td>8.6</td>\n",
       "      <td>1390</td>\n",
       "    </tr>\n",
       "    <tr>\n",
       "      <th>769391</th>\n",
       "      <td>2018-11-21</td>\n",
       "      <td>326.3780</td>\n",
       "      <td>2018-12-21</td>\n",
       "      <td>4957486</td>\n",
       "      <td>326.378</td>\n",
       "      <td>2018-12-21</td>\n",
       "      <td>80274</td>\n",
       "      <td>12</td>\n",
       "      <td>8.6</td>\n",
       "      <td>3740</td>\n",
       "    </tr>\n",
       "    <tr>\n",
       "      <th>843706</th>\n",
       "      <td>2018-05-17</td>\n",
       "      <td>302.4463</td>\n",
       "      <td>2018-06-17</td>\n",
       "      <td>3427903</td>\n",
       "      <td>302.4463</td>\n",
       "      <td>2018-06-15</td>\n",
       "      <td>342946</td>\n",
       "      <td>6</td>\n",
       "      <td>8.6</td>\n",
       "      <td>1770</td>\n",
       "    </tr>\n",
       "    <tr>\n",
       "      <th>147577</th>\n",
       "      <td>2018-11-13</td>\n",
       "      <td>299.3252</td>\n",
       "      <td>2018-12-13</td>\n",
       "      <td>4904765</td>\n",
       "      <td>299.3252</td>\n",
       "      <td>2018-12-13</td>\n",
       "      <td>11206</td>\n",
       "      <td>12</td>\n",
       "      <td>8.6</td>\n",
       "      <td>3430</td>\n",
       "    </tr>\n",
       "    <tr>\n",
       "      <th>737902</th>\n",
       "      <td>2018-08-15</td>\n",
       "      <td>245.8456</td>\n",
       "      <td>2018-09-15</td>\n",
       "      <td>4209031</td>\n",
       "      <td>245.8456</td>\n",
       "      <td>2018-09-14</td>\n",
       "      <td>806539</td>\n",
       "      <td>6</td>\n",
       "      <td>8.3</td>\n",
       "      <td>1440</td>\n",
       "    </tr>\n",
       "    <tr>\n",
       "      <th>1066681</th>\n",
       "      <td>2019-03-09</td>\n",
       "      <td>383.0054</td>\n",
       "      <td>2019-04-09</td>\n",
       "      <td>5425226</td>\n",
       "      <td>NaN</td>\n",
       "      <td>NaN</td>\n",
       "      <td>564547</td>\n",
       "      <td>9</td>\n",
       "      <td>6.9</td>\n",
       "      <td>3350</td>\n",
       "    </tr>\n",
       "    <tr>\n",
       "      <th>534145</th>\n",
       "      <td>2018-03-19</td>\n",
       "      <td>1277.4966</td>\n",
       "      <td>2018-04-19</td>\n",
       "      <td>2688511</td>\n",
       "      <td>1277.4966</td>\n",
       "      <td>2018-03-26</td>\n",
       "      <td>234760</td>\n",
       "      <td>9</td>\n",
       "      <td>7.2</td>\n",
       "      <td>11160</td>\n",
       "    </tr>\n",
       "    <tr>\n",
       "      <th>962549</th>\n",
       "      <td>2018-09-25</td>\n",
       "      <td>478.0331</td>\n",
       "      <td>2018-10-25</td>\n",
       "      <td>4526515</td>\n",
       "      <td>478.0331</td>\n",
       "      <td>2018-10-25</td>\n",
       "      <td>139634</td>\n",
       "      <td>6</td>\n",
       "      <td>8.3</td>\n",
       "      <td>2800</td>\n",
       "    </tr>\n",
       "    <tr>\n",
       "      <th>719183</th>\n",
       "      <td>2018-02-25</td>\n",
       "      <td>394.0369</td>\n",
       "      <td>2018-03-25</td>\n",
       "      <td>2415975</td>\n",
       "      <td>394.0369</td>\n",
       "      <td>2018-03-19</td>\n",
       "      <td>627467</td>\n",
       "      <td>6</td>\n",
       "      <td>8.0</td>\n",
       "      <td>2310</td>\n",
       "    </tr>\n",
       "    <tr>\n",
       "      <th>139997</th>\n",
       "      <td>2018-04-26</td>\n",
       "      <td>1891.6457</td>\n",
       "      <td>2018-05-26</td>\n",
       "      <td>3179597</td>\n",
       "      <td>1891.6457</td>\n",
       "      <td>2018-05-26</td>\n",
       "      <td>160883</td>\n",
       "      <td>6</td>\n",
       "      <td>8.3</td>\n",
       "      <td>11080</td>\n",
       "    </tr>\n",
       "    <tr>\n",
       "      <th>152937</th>\n",
       "      <td>2018-06-07</td>\n",
       "      <td>217.4949</td>\n",
       "      <td>2018-07-07</td>\n",
       "      <td>3669455</td>\n",
       "      <td>217.4949</td>\n",
       "      <td>2018-07-03</td>\n",
       "      <td>601745</td>\n",
       "      <td>9</td>\n",
       "      <td>7.2</td>\n",
       "      <td>1900</td>\n",
       "    </tr>\n",
       "    <tr>\n",
       "      <th>178926</th>\n",
       "      <td>2018-04-16</td>\n",
       "      <td>629.5906</td>\n",
       "      <td>2018-05-16</td>\n",
       "      <td>3052973</td>\n",
       "      <td>629.5906</td>\n",
       "      <td>2018-05-16</td>\n",
       "      <td>94939</td>\n",
       "      <td>9</td>\n",
       "      <td>7.2</td>\n",
       "      <td>5500</td>\n",
       "    </tr>\n",
       "    <tr>\n",
       "      <th>152459</th>\n",
       "      <td>2018-05-03</td>\n",
       "      <td>753.2193</td>\n",
       "      <td>2018-06-03</td>\n",
       "      <td>3258038</td>\n",
       "      <td>753.2193</td>\n",
       "      <td>2018-06-03</td>\n",
       "      <td>402781</td>\n",
       "      <td>9</td>\n",
       "      <td>7.2</td>\n",
       "      <td>6580</td>\n",
       "    </tr>\n",
       "    <tr>\n",
       "      <th>239431</th>\n",
       "      <td>2018-04-29</td>\n",
       "      <td>560.9080</td>\n",
       "      <td>2018-05-29</td>\n",
       "      <td>3210101</td>\n",
       "      <td>\\N</td>\n",
       "      <td>\\N</td>\n",
       "      <td>607076</td>\n",
       "      <td>9</td>\n",
       "      <td>7.2</td>\n",
       "      <td>4900</td>\n",
       "    </tr>\n",
       "    <tr>\n",
       "      <th>317494</th>\n",
       "      <td>2018-11-28</td>\n",
       "      <td>75.0494</td>\n",
       "      <td>2018-12-28</td>\n",
       "      <td>5004250</td>\n",
       "      <td>75.0494</td>\n",
       "      <td>2018-12-22</td>\n",
       "      <td>758594</td>\n",
       "      <td>12</td>\n",
       "      <td>8.6</td>\n",
       "      <td>860</td>\n",
       "    </tr>\n",
       "    <tr>\n",
       "      <th>350831</th>\n",
       "      <td>2018-11-26</td>\n",
       "      <td>3730.9948</td>\n",
       "      <td>2018-12-26</td>\n",
       "      <td>4989381</td>\n",
       "      <td>3730.9948</td>\n",
       "      <td>2018-12-26</td>\n",
       "      <td>549605</td>\n",
       "      <td>3</td>\n",
       "      <td>7.2</td>\n",
       "      <td>11060</td>\n",
       "    </tr>\n",
       "    <tr>\n",
       "      <th>163638</th>\n",
       "      <td>2018-06-04</td>\n",
       "      <td>763.4072</td>\n",
       "      <td>2018-07-04</td>\n",
       "      <td>3628059</td>\n",
       "      <td>763.4072</td>\n",
       "      <td>2018-07-02</td>\n",
       "      <td>457986</td>\n",
       "      <td>3</td>\n",
       "      <td>8.0</td>\n",
       "      <td>2260</td>\n",
       "    </tr>\n",
       "    <tr>\n",
       "      <th>488532</th>\n",
       "      <td>2018-04-30</td>\n",
       "      <td>121.2154</td>\n",
       "      <td>2018-05-30</td>\n",
       "      <td>3227689</td>\n",
       "      <td>121.2154</td>\n",
       "      <td>2018-05-30</td>\n",
       "      <td>743659</td>\n",
       "      <td>6</td>\n",
       "      <td>8.3</td>\n",
       "      <td>710</td>\n",
       "    </tr>\n",
       "    <tr>\n",
       "      <th>981283</th>\n",
       "      <td>2018-04-27</td>\n",
       "      <td>75.9221</td>\n",
       "      <td>2018-05-27</td>\n",
       "      <td>3191105</td>\n",
       "      <td>75.9221</td>\n",
       "      <td>2018-05-27</td>\n",
       "      <td>571090</td>\n",
       "      <td>12</td>\n",
       "      <td>8.6</td>\n",
       "      <td>870</td>\n",
       "    </tr>\n",
       "    <tr>\n",
       "      <th>687818</th>\n",
       "      <td>2018-04-07</td>\n",
       "      <td>402.5657</td>\n",
       "      <td>2018-05-07</td>\n",
       "      <td>2926828</td>\n",
       "      <td>402.5657</td>\n",
       "      <td>2018-05-06</td>\n",
       "      <td>176609</td>\n",
       "      <td>6</td>\n",
       "      <td>8.0</td>\n",
       "      <td>2360</td>\n",
       "    </tr>\n",
       "  </tbody>\n",
       "</table>\n",
       "</div>"
      ],
      "text/plain": [
       "        auditing_date    due_amt   due_date  listing_id  repay_amt  \\\n",
       "112683     2018-11-19   121.3008 2018-12-19     4943841   121.3008   \n",
       "769391     2018-11-21   326.3780 2018-12-21     4957486    326.378   \n",
       "843706     2018-05-17   302.4463 2018-06-17     3427903   302.4463   \n",
       "147577     2018-11-13   299.3252 2018-12-13     4904765   299.3252   \n",
       "737902     2018-08-15   245.8456 2018-09-15     4209031   245.8456   \n",
       "1066681    2019-03-09   383.0054 2019-04-09     5425226        NaN   \n",
       "534145     2018-03-19  1277.4966 2018-04-19     2688511  1277.4966   \n",
       "962549     2018-09-25   478.0331 2018-10-25     4526515   478.0331   \n",
       "719183     2018-02-25   394.0369 2018-03-25     2415975   394.0369   \n",
       "139997     2018-04-26  1891.6457 2018-05-26     3179597  1891.6457   \n",
       "152937     2018-06-07   217.4949 2018-07-07     3669455   217.4949   \n",
       "178926     2018-04-16   629.5906 2018-05-16     3052973   629.5906   \n",
       "152459     2018-05-03   753.2193 2018-06-03     3258038   753.2193   \n",
       "239431     2018-04-29   560.9080 2018-05-29     3210101         \\N   \n",
       "317494     2018-11-28    75.0494 2018-12-28     5004250    75.0494   \n",
       "350831     2018-11-26  3730.9948 2018-12-26     4989381  3730.9948   \n",
       "163638     2018-06-04   763.4072 2018-07-04     3628059   763.4072   \n",
       "488532     2018-04-30   121.2154 2018-05-30     3227689   121.2154   \n",
       "981283     2018-04-27    75.9221 2018-05-27     3191105    75.9221   \n",
       "687818     2018-04-07   402.5657 2018-05-07     2926828   402.5657   \n",
       "\n",
       "         repay_date  user_id  term  rate  principal  \n",
       "112683   2018-12-18   833995    12   8.6       1390  \n",
       "769391   2018-12-21    80274    12   8.6       3740  \n",
       "843706   2018-06-15   342946     6   8.6       1770  \n",
       "147577   2018-12-13    11206    12   8.6       3430  \n",
       "737902   2018-09-14   806539     6   8.3       1440  \n",
       "1066681         NaN   564547     9   6.9       3350  \n",
       "534145   2018-03-26   234760     9   7.2      11160  \n",
       "962549   2018-10-25   139634     6   8.3       2800  \n",
       "719183   2018-03-19   627467     6   8.0       2310  \n",
       "139997   2018-05-26   160883     6   8.3      11080  \n",
       "152937   2018-07-03   601745     9   7.2       1900  \n",
       "178926   2018-05-16    94939     9   7.2       5500  \n",
       "152459   2018-06-03   402781     9   7.2       6580  \n",
       "239431           \\N   607076     9   7.2       4900  \n",
       "317494   2018-12-22   758594    12   8.6        860  \n",
       "350831   2018-12-26   549605     3   7.2      11060  \n",
       "163638   2018-07-02   457986     3   8.0       2260  \n",
       "488532   2018-05-30   743659     6   8.3        710  \n",
       "981283   2018-05-27   571090    12   8.6        870  \n",
       "687818   2018-05-06   176609     6   8.0       2360  "
      ]
     },
     "execution_count": 16,
     "metadata": {
      "tags": []
     },
     "output_type": "execute_result"
    }
   ],
   "source": [
    "all_data.sample(20)"
   ]
  },
  {
   "cell_type": "code",
   "execution_count": 0,
   "metadata": {
    "colab": {
     "base_uri": "https://localhost:8080/",
     "height": 35
    },
    "colab_type": "code",
    "executionInfo": {
     "elapsed": 2723,
     "status": "ok",
     "timestamp": 1561712399704,
     "user": {
      "displayName": "陶士来",
      "photoUrl": "",
      "userId": "08104502188577818611"
     },
     "user_tz": -480
    },
    "id": "FNiYNHCsT_Hb",
    "outputId": "a2fcd6ed-0deb-46e2-c602-ea2d7b94002b"
   },
   "outputs": [
    {
     "data": {
      "text/plain": [
       "(1130000, 10)"
      ]
     },
     "execution_count": 17,
     "metadata": {
      "tags": []
     },
     "output_type": "execute_result"
    }
   ],
   "source": [
    "all_data.shape"
   ]
  },
  {
   "cell_type": "code",
   "execution_count": 0,
   "metadata": {
    "colab": {
     "base_uri": "https://localhost:8080/",
     "height": 204
    },
    "colab_type": "code",
    "executionInfo": {
     "elapsed": 1060,
     "status": "ok",
     "timestamp": 1561712621460,
     "user": {
      "displayName": "陶士来",
      "photoUrl": "",
      "userId": "08104502188577818611"
     },
     "user_tz": -480
    },
    "id": "KzZPZFEoU1CN",
    "outputId": "5dff037a-2908-41cd-b56c-272c733ac9b5"
   },
   "outputs": [
    {
     "data": {
      "text/html": [
       "<div>\n",
       "<style scoped>\n",
       "    .dataframe tbody tr th:only-of-type {\n",
       "        vertical-align: middle;\n",
       "    }\n",
       "\n",
       "    .dataframe tbody tr th {\n",
       "        vertical-align: top;\n",
       "    }\n",
       "\n",
       "    .dataframe thead th {\n",
       "        text-align: right;\n",
       "    }\n",
       "</style>\n",
       "<table border=\"1\" class=\"dataframe\">\n",
       "  <thead>\n",
       "    <tr style=\"text-align: right;\">\n",
       "      <th></th>\n",
       "      <th>user_id</th>\n",
       "      <th>reg_mon</th>\n",
       "      <th>gender</th>\n",
       "      <th>age</th>\n",
       "      <th>cell_province</th>\n",
       "      <th>id_province</th>\n",
       "      <th>id_city</th>\n",
       "      <th>insertdate</th>\n",
       "    </tr>\n",
       "  </thead>\n",
       "  <tbody>\n",
       "    <tr>\n",
       "      <th>0</th>\n",
       "      <td>483833</td>\n",
       "      <td>2017-04</td>\n",
       "      <td>男</td>\n",
       "      <td>19</td>\n",
       "      <td>c29</td>\n",
       "      <td>c26</td>\n",
       "      <td>c26241</td>\n",
       "      <td>2018-12-11</td>\n",
       "    </tr>\n",
       "    <tr>\n",
       "      <th>1</th>\n",
       "      <td>156772</td>\n",
       "      <td>2016-05</td>\n",
       "      <td>男</td>\n",
       "      <td>31</td>\n",
       "      <td>c11</td>\n",
       "      <td>c11</td>\n",
       "      <td>c11159</td>\n",
       "      <td>2018-02-13</td>\n",
       "    </tr>\n",
       "    <tr>\n",
       "      <th>2</th>\n",
       "      <td>173388</td>\n",
       "      <td>2016-05</td>\n",
       "      <td>男</td>\n",
       "      <td>34</td>\n",
       "      <td>c02</td>\n",
       "      <td>c02</td>\n",
       "      <td>c02182</td>\n",
       "      <td>2018-08-21</td>\n",
       "    </tr>\n",
       "    <tr>\n",
       "      <th>3</th>\n",
       "      <td>199107</td>\n",
       "      <td>2016-07</td>\n",
       "      <td>女</td>\n",
       "      <td>25</td>\n",
       "      <td>c09</td>\n",
       "      <td>c09</td>\n",
       "      <td>c09046</td>\n",
       "      <td>2018-06-05</td>\n",
       "    </tr>\n",
       "    <tr>\n",
       "      <th>4</th>\n",
       "      <td>122560</td>\n",
       "      <td>2016-03</td>\n",
       "      <td>男</td>\n",
       "      <td>23</td>\n",
       "      <td>c05</td>\n",
       "      <td>c05</td>\n",
       "      <td>c05193</td>\n",
       "      <td>2018-04-02</td>\n",
       "    </tr>\n",
       "  </tbody>\n",
       "</table>\n",
       "</div>"
      ],
      "text/plain": [
       "   user_id  reg_mon gender  age cell_province id_province id_city  insertdate\n",
       "0   483833  2017-04      男   19           c29         c26  c26241  2018-12-11\n",
       "1   156772  2016-05      男   31           c11         c11  c11159  2018-02-13\n",
       "2   173388  2016-05      男   34           c02         c02  c02182  2018-08-21\n",
       "3   199107  2016-07      女   25           c09         c09  c09046  2018-06-05\n",
       "4   122560  2016-03      男   23           c05         c05  c05193  2018-04-02"
      ]
     },
     "execution_count": 19,
     "metadata": {
      "tags": []
     },
     "output_type": "execute_result"
    }
   ],
   "source": [
    "user_info.head()"
   ]
  },
  {
   "cell_type": "code",
   "execution_count": 0,
   "metadata": {
    "colab": {},
    "colab_type": "code",
    "id": "rQvg0lnpT_Fa"
   },
   "outputs": [],
   "source": [
    "## 表中有少数user不止一条记录，因此按日期排序，去重，只保留最新的一条记录。\n",
    "user_info = user_info.sort_values(by='insertdate', ascending=False).drop_duplicates('user_id').reset_index(drop=True)"
   ]
  },
  {
   "cell_type": "code",
   "execution_count": 0,
   "metadata": {
    "colab": {},
    "colab_type": "code",
    "id": "EKRR_WBQVK47"
   },
   "outputs": [],
   "source": [
    "all_data=pd.merge(all_data,user_info,on=['user_id'],how='left')"
   ]
  },
  {
   "cell_type": "code",
   "execution_count": 0,
   "metadata": {
    "colab": {
     "base_uri": "https://localhost:8080/",
     "height": 549
    },
    "colab_type": "code",
    "executionInfo": {
     "elapsed": 1553,
     "status": "ok",
     "timestamp": 1561712782759,
     "user": {
      "displayName": "陶士来",
      "photoUrl": "",
      "userId": "08104502188577818611"
     },
     "user_tz": -480
    },
    "id": "E7GmdlXkVb1Q",
    "outputId": "c6b20588-e0b1-4e58-abc6-391cd78903e5"
   },
   "outputs": [
    {
     "data": {
      "text/html": [
       "<div>\n",
       "<style scoped>\n",
       "    .dataframe tbody tr th:only-of-type {\n",
       "        vertical-align: middle;\n",
       "    }\n",
       "\n",
       "    .dataframe tbody tr th {\n",
       "        vertical-align: top;\n",
       "    }\n",
       "\n",
       "    .dataframe thead th {\n",
       "        text-align: right;\n",
       "    }\n",
       "</style>\n",
       "<table border=\"1\" class=\"dataframe\">\n",
       "  <thead>\n",
       "    <tr style=\"text-align: right;\">\n",
       "      <th></th>\n",
       "      <th>auditing_date</th>\n",
       "      <th>due_amt</th>\n",
       "      <th>due_date</th>\n",
       "      <th>listing_id</th>\n",
       "      <th>repay_amt</th>\n",
       "      <th>repay_date</th>\n",
       "      <th>user_id</th>\n",
       "      <th>term</th>\n",
       "      <th>rate</th>\n",
       "      <th>principal</th>\n",
       "      <th>reg_mon</th>\n",
       "      <th>gender</th>\n",
       "      <th>age</th>\n",
       "      <th>cell_province</th>\n",
       "      <th>id_province</th>\n",
       "      <th>id_city</th>\n",
       "      <th>insertdate</th>\n",
       "    </tr>\n",
       "  </thead>\n",
       "  <tbody>\n",
       "    <tr>\n",
       "      <th>885066</th>\n",
       "      <td>2018-10-08</td>\n",
       "      <td>945.8228</td>\n",
       "      <td>2018-11-08</td>\n",
       "      <td>4612184</td>\n",
       "      <td>945.8228</td>\n",
       "      <td>2018-11-07</td>\n",
       "      <td>116374</td>\n",
       "      <td>6</td>\n",
       "      <td>8.3</td>\n",
       "      <td>5540</td>\n",
       "      <td>2016-02</td>\n",
       "      <td>女</td>\n",
       "      <td>24</td>\n",
       "      <td>c04</td>\n",
       "      <td>c21</td>\n",
       "      <td>c21299</td>\n",
       "      <td>2018-10-07</td>\n",
       "    </tr>\n",
       "    <tr>\n",
       "      <th>323</th>\n",
       "      <td>2018-06-21</td>\n",
       "      <td>131.6416</td>\n",
       "      <td>2018-07-21</td>\n",
       "      <td>3790584</td>\n",
       "      <td>131.6416</td>\n",
       "      <td>2018-07-21</td>\n",
       "      <td>719769</td>\n",
       "      <td>9</td>\n",
       "      <td>7.2</td>\n",
       "      <td>1150</td>\n",
       "      <td>2017-11</td>\n",
       "      <td>女</td>\n",
       "      <td>42</td>\n",
       "      <td>c24</td>\n",
       "      <td>c24</td>\n",
       "      <td>c24044</td>\n",
       "      <td>2018-06-20</td>\n",
       "    </tr>\n",
       "    <tr>\n",
       "      <th>393581</th>\n",
       "      <td>2018-09-08</td>\n",
       "      <td>72.4314</td>\n",
       "      <td>2018-10-08</td>\n",
       "      <td>4391798</td>\n",
       "      <td>72.4314</td>\n",
       "      <td>2018-09-21</td>\n",
       "      <td>268513</td>\n",
       "      <td>12</td>\n",
       "      <td>8.6</td>\n",
       "      <td>830</td>\n",
       "      <td>2016-09</td>\n",
       "      <td>女</td>\n",
       "      <td>34</td>\n",
       "      <td>c16</td>\n",
       "      <td>c16</td>\n",
       "      <td>c16146</td>\n",
       "      <td>2018-02-26</td>\n",
       "    </tr>\n",
       "    <tr>\n",
       "      <th>436420</th>\n",
       "      <td>2018-03-15</td>\n",
       "      <td>525.3824</td>\n",
       "      <td>2018-04-15</td>\n",
       "      <td>2641871</td>\n",
       "      <td>525.3824</td>\n",
       "      <td>2018-04-13</td>\n",
       "      <td>65580</td>\n",
       "      <td>6</td>\n",
       "      <td>8.0</td>\n",
       "      <td>3080</td>\n",
       "      <td>2015-10</td>\n",
       "      <td>男</td>\n",
       "      <td>27</td>\n",
       "      <td>c31</td>\n",
       "      <td>c31</td>\n",
       "      <td>c31114</td>\n",
       "      <td>2018-02-05</td>\n",
       "    </tr>\n",
       "    <tr>\n",
       "      <th>535421</th>\n",
       "      <td>2018-10-16</td>\n",
       "      <td>394.6893</td>\n",
       "      <td>2018-11-16</td>\n",
       "      <td>4668817</td>\n",
       "      <td>394.6893</td>\n",
       "      <td>2018-11-16</td>\n",
       "      <td>745574</td>\n",
       "      <td>3</td>\n",
       "      <td>7.2</td>\n",
       "      <td>1170</td>\n",
       "      <td>2017-12</td>\n",
       "      <td>女</td>\n",
       "      <td>25</td>\n",
       "      <td>c05</td>\n",
       "      <td>c05</td>\n",
       "      <td>c05021</td>\n",
       "      <td>2018-10-15</td>\n",
       "    </tr>\n",
       "    <tr>\n",
       "      <th>756932</th>\n",
       "      <td>2018-10-18</td>\n",
       "      <td>571.4387</td>\n",
       "      <td>2018-11-18</td>\n",
       "      <td>4683432</td>\n",
       "      <td>571.4387</td>\n",
       "      <td>2018-11-18</td>\n",
       "      <td>284529</td>\n",
       "      <td>6</td>\n",
       "      <td>8.0</td>\n",
       "      <td>3350</td>\n",
       "      <td>2016-10</td>\n",
       "      <td>男</td>\n",
       "      <td>25</td>\n",
       "      <td>c04</td>\n",
       "      <td>c04</td>\n",
       "      <td>c04331</td>\n",
       "      <td>2018-10-17</td>\n",
       "    </tr>\n",
       "    <tr>\n",
       "      <th>650945</th>\n",
       "      <td>2018-10-22</td>\n",
       "      <td>327.2507</td>\n",
       "      <td>2018-11-22</td>\n",
       "      <td>4714983</td>\n",
       "      <td>327.2507</td>\n",
       "      <td>2018-11-22</td>\n",
       "      <td>666661</td>\n",
       "      <td>12</td>\n",
       "      <td>8.6</td>\n",
       "      <td>3750</td>\n",
       "      <td>2017-09</td>\n",
       "      <td>男</td>\n",
       "      <td>26</td>\n",
       "      <td>c04</td>\n",
       "      <td>c04</td>\n",
       "      <td>c04264</td>\n",
       "      <td>2018-10-21</td>\n",
       "    </tr>\n",
       "    <tr>\n",
       "      <th>469354</th>\n",
       "      <td>2018-03-11</td>\n",
       "      <td>133.9311</td>\n",
       "      <td>2018-04-11</td>\n",
       "      <td>2593135</td>\n",
       "      <td>133.9311</td>\n",
       "      <td>2018-04-11</td>\n",
       "      <td>209081</td>\n",
       "      <td>9</td>\n",
       "      <td>7.2</td>\n",
       "      <td>1170</td>\n",
       "      <td>2016-07</td>\n",
       "      <td>男</td>\n",
       "      <td>26</td>\n",
       "      <td>c09</td>\n",
       "      <td>c09</td>\n",
       "      <td>c09167</td>\n",
       "      <td>2018-03-10</td>\n",
       "    </tr>\n",
       "    <tr>\n",
       "      <th>169179</th>\n",
       "      <td>2018-05-01</td>\n",
       "      <td>452.1605</td>\n",
       "      <td>2018-06-01</td>\n",
       "      <td>3233494</td>\n",
       "      <td>\\N</td>\n",
       "      <td>\\N</td>\n",
       "      <td>323739</td>\n",
       "      <td>9</td>\n",
       "      <td>7.2</td>\n",
       "      <td>3950</td>\n",
       "      <td>2016-11</td>\n",
       "      <td>男</td>\n",
       "      <td>32</td>\n",
       "      <td>c22</td>\n",
       "      <td>c22</td>\n",
       "      <td>c22308</td>\n",
       "      <td>2018-04-30</td>\n",
       "    </tr>\n",
       "    <tr>\n",
       "      <th>796803</th>\n",
       "      <td>2018-04-14</td>\n",
       "      <td>766.5604</td>\n",
       "      <td>2018-05-14</td>\n",
       "      <td>3029515</td>\n",
       "      <td>766.5604</td>\n",
       "      <td>2018-05-13</td>\n",
       "      <td>482494</td>\n",
       "      <td>6</td>\n",
       "      <td>8.3</td>\n",
       "      <td>4490</td>\n",
       "      <td>2017-04</td>\n",
       "      <td>男</td>\n",
       "      <td>27</td>\n",
       "      <td>c05</td>\n",
       "      <td>c05</td>\n",
       "      <td>c05296</td>\n",
       "      <td>2018-04-13</td>\n",
       "    </tr>\n",
       "  </tbody>\n",
       "</table>\n",
       "</div>"
      ],
      "text/plain": [
       "       auditing_date   due_amt   due_date  listing_id repay_amt  repay_date  \\\n",
       "885066    2018-10-08  945.8228 2018-11-08     4612184  945.8228  2018-11-07   \n",
       "323       2018-06-21  131.6416 2018-07-21     3790584  131.6416  2018-07-21   \n",
       "393581    2018-09-08   72.4314 2018-10-08     4391798   72.4314  2018-09-21   \n",
       "436420    2018-03-15  525.3824 2018-04-15     2641871  525.3824  2018-04-13   \n",
       "535421    2018-10-16  394.6893 2018-11-16     4668817  394.6893  2018-11-16   \n",
       "756932    2018-10-18  571.4387 2018-11-18     4683432  571.4387  2018-11-18   \n",
       "650945    2018-10-22  327.2507 2018-11-22     4714983  327.2507  2018-11-22   \n",
       "469354    2018-03-11  133.9311 2018-04-11     2593135  133.9311  2018-04-11   \n",
       "169179    2018-05-01  452.1605 2018-06-01     3233494        \\N          \\N   \n",
       "796803    2018-04-14  766.5604 2018-05-14     3029515  766.5604  2018-05-13   \n",
       "\n",
       "        user_id  term  rate  principal  reg_mon gender  age cell_province  \\\n",
       "885066   116374     6   8.3       5540  2016-02      女   24           c04   \n",
       "323      719769     9   7.2       1150  2017-11      女   42           c24   \n",
       "393581   268513    12   8.6        830  2016-09      女   34           c16   \n",
       "436420    65580     6   8.0       3080  2015-10      男   27           c31   \n",
       "535421   745574     3   7.2       1170  2017-12      女   25           c05   \n",
       "756932   284529     6   8.0       3350  2016-10      男   25           c04   \n",
       "650945   666661    12   8.6       3750  2017-09      男   26           c04   \n",
       "469354   209081     9   7.2       1170  2016-07      男   26           c09   \n",
       "169179   323739     9   7.2       3950  2016-11      男   32           c22   \n",
       "796803   482494     6   8.3       4490  2017-04      男   27           c05   \n",
       "\n",
       "       id_province id_city  insertdate  \n",
       "885066         c21  c21299  2018-10-07  \n",
       "323            c24  c24044  2018-06-20  \n",
       "393581         c16  c16146  2018-02-26  \n",
       "436420         c31  c31114  2018-02-05  \n",
       "535421         c05  c05021  2018-10-15  \n",
       "756932         c04  c04331  2018-10-17  \n",
       "650945         c04  c04264  2018-10-21  \n",
       "469354         c09  c09167  2018-03-10  \n",
       "169179         c22  c22308  2018-04-30  \n",
       "796803         c05  c05296  2018-04-13  "
      ]
     },
     "execution_count": 22,
     "metadata": {
      "tags": []
     },
     "output_type": "execute_result"
    }
   ],
   "source": [
    "all_data.sample(10)"
   ]
  },
  {
   "cell_type": "code",
   "execution_count": 0,
   "metadata": {
    "colab": {},
    "colab_type": "code",
    "id": "AO5qq3W2WYNT"
   },
   "outputs": [],
   "source": [
    "user_taglist.rename(columns={'insertdate': 'tag_insert_date'}, inplace=True)\n",
    "user_taglist = user_taglist.sort_values(by='tag_insert_date', ascending=False).drop_duplicates('user_id').reset_index(drop=True)\n"
   ]
  },
  {
   "cell_type": "code",
   "execution_count": 0,
   "metadata": {
    "colab": {},
    "colab_type": "code",
    "id": "T1FMMrLuWYTZ"
   },
   "outputs": [],
   "source": [
    "all_data=pd.merge(all_data,user_taglist,on=['user_id'],how='left')"
   ]
  },
  {
   "cell_type": "code",
   "execution_count": 0,
   "metadata": {
    "colab": {
     "base_uri": "https://localhost:8080/",
     "height": 549
    },
    "colab_type": "code",
    "executionInfo": {
     "elapsed": 2116,
     "status": "ok",
     "timestamp": 1561713099606,
     "user": {
      "displayName": "陶士来",
      "photoUrl": "",
      "userId": "08104502188577818611"
     },
     "user_tz": -480
    },
    "id": "vf5kqQGzWYZb",
    "outputId": "3eb9b681-e4bd-49ab-9a01-66d7c55fd76c"
   },
   "outputs": [
    {
     "data": {
      "text/html": [
       "<div>\n",
       "<style scoped>\n",
       "    .dataframe tbody tr th:only-of-type {\n",
       "        vertical-align: middle;\n",
       "    }\n",
       "\n",
       "    .dataframe tbody tr th {\n",
       "        vertical-align: top;\n",
       "    }\n",
       "\n",
       "    .dataframe thead th {\n",
       "        text-align: right;\n",
       "    }\n",
       "</style>\n",
       "<table border=\"1\" class=\"dataframe\">\n",
       "  <thead>\n",
       "    <tr style=\"text-align: right;\">\n",
       "      <th></th>\n",
       "      <th>auditing_date</th>\n",
       "      <th>due_amt</th>\n",
       "      <th>due_date</th>\n",
       "      <th>listing_id</th>\n",
       "      <th>repay_amt</th>\n",
       "      <th>repay_date</th>\n",
       "      <th>user_id</th>\n",
       "      <th>term</th>\n",
       "      <th>rate</th>\n",
       "      <th>principal</th>\n",
       "      <th>reg_mon</th>\n",
       "      <th>gender</th>\n",
       "      <th>age</th>\n",
       "      <th>cell_province</th>\n",
       "      <th>id_province</th>\n",
       "      <th>id_city</th>\n",
       "      <th>insertdate</th>\n",
       "      <th>taglist</th>\n",
       "      <th>tag_insert_date</th>\n",
       "    </tr>\n",
       "  </thead>\n",
       "  <tbody>\n",
       "    <tr>\n",
       "      <th>1022751</th>\n",
       "      <td>2019-02-15</td>\n",
       "      <td>202.6137</td>\n",
       "      <td>2019-03-15</td>\n",
       "      <td>5336367</td>\n",
       "      <td>NaN</td>\n",
       "      <td>NaN</td>\n",
       "      <td>88883</td>\n",
       "      <td>9</td>\n",
       "      <td>7.2</td>\n",
       "      <td>1770</td>\n",
       "      <td>2015-12</td>\n",
       "      <td>男</td>\n",
       "      <td>31</td>\n",
       "      <td>c31</td>\n",
       "      <td>c31</td>\n",
       "      <td>c31255</td>\n",
       "      <td>2019-02-14</td>\n",
       "      <td>5906|719|5865|3369|4453|3006|70|4524|5723|4787...</td>\n",
       "      <td>2019-02-14</td>\n",
       "    </tr>\n",
       "    <tr>\n",
       "      <th>353326</th>\n",
       "      <td>2018-12-12</td>\n",
       "      <td>384.2833</td>\n",
       "      <td>2019-01-12</td>\n",
       "      <td>5107265</td>\n",
       "      <td>384.2833</td>\n",
       "      <td>2019-01-12</td>\n",
       "      <td>54469</td>\n",
       "      <td>6</td>\n",
       "      <td>6.9</td>\n",
       "      <td>2260</td>\n",
       "      <td>2015-09</td>\n",
       "      <td>女</td>\n",
       "      <td>34</td>\n",
       "      <td>c20</td>\n",
       "      <td>c19</td>\n",
       "      <td>c19239</td>\n",
       "      <td>2018-12-11</td>\n",
       "      <td>NaN</td>\n",
       "      <td>NaN</td>\n",
       "    </tr>\n",
       "    <tr>\n",
       "      <th>140123</th>\n",
       "      <td>2018-03-25</td>\n",
       "      <td>161.4041</td>\n",
       "      <td>2018-04-25</td>\n",
       "      <td>2757432</td>\n",
       "      <td>161.4041</td>\n",
       "      <td>2018-04-24</td>\n",
       "      <td>482680</td>\n",
       "      <td>9</td>\n",
       "      <td>7.2</td>\n",
       "      <td>1410</td>\n",
       "      <td>2017-04</td>\n",
       "      <td>男</td>\n",
       "      <td>37</td>\n",
       "      <td>c19</td>\n",
       "      <td>c19</td>\n",
       "      <td>c19104</td>\n",
       "      <td>2018-03-24</td>\n",
       "      <td>2710|1228|1541|2901|1402|2500|877|4592|1804|84...</td>\n",
       "      <td>2018-03-24</td>\n",
       "    </tr>\n",
       "    <tr>\n",
       "      <th>316259</th>\n",
       "      <td>2018-03-06</td>\n",
       "      <td>171.7065</td>\n",
       "      <td>2018-04-06</td>\n",
       "      <td>2536224</td>\n",
       "      <td>171.7065</td>\n",
       "      <td>2018-04-03</td>\n",
       "      <td>545759</td>\n",
       "      <td>9</td>\n",
       "      <td>7.2</td>\n",
       "      <td>1500</td>\n",
       "      <td>2017-06</td>\n",
       "      <td>女</td>\n",
       "      <td>35</td>\n",
       "      <td>c04</td>\n",
       "      <td>c04</td>\n",
       "      <td>c04344</td>\n",
       "      <td>2018-03-05</td>\n",
       "      <td>3017|1832|1204|1368|354|3695|3691|2648|1911|27...</td>\n",
       "      <td>2018-03-05</td>\n",
       "    </tr>\n",
       "    <tr>\n",
       "      <th>832785</th>\n",
       "      <td>2018-04-01</td>\n",
       "      <td>371.8615</td>\n",
       "      <td>2018-05-01</td>\n",
       "      <td>2848283</td>\n",
       "      <td>371.8615</td>\n",
       "      <td>2018-04-19</td>\n",
       "      <td>539922</td>\n",
       "      <td>6</td>\n",
       "      <td>8.0</td>\n",
       "      <td>2180</td>\n",
       "      <td>2017-06</td>\n",
       "      <td>男</td>\n",
       "      <td>24</td>\n",
       "      <td>c05</td>\n",
       "      <td>c05</td>\n",
       "      <td>c05296</td>\n",
       "      <td>2018-03-31</td>\n",
       "      <td>230|2242|1478|2164|2250|3324|1876|3781|1059|83...</td>\n",
       "      <td>2018-03-31</td>\n",
       "    </tr>\n",
       "    <tr>\n",
       "      <th>278046</th>\n",
       "      <td>2018-04-01</td>\n",
       "      <td>136.2205</td>\n",
       "      <td>2018-05-01</td>\n",
       "      <td>2845894</td>\n",
       "      <td>136.2205</td>\n",
       "      <td>2018-04-28</td>\n",
       "      <td>316148</td>\n",
       "      <td>9</td>\n",
       "      <td>7.2</td>\n",
       "      <td>1190</td>\n",
       "      <td>2016-11</td>\n",
       "      <td>男</td>\n",
       "      <td>22</td>\n",
       "      <td>c26</td>\n",
       "      <td>c26</td>\n",
       "      <td>c26241</td>\n",
       "      <td>2018-03-31</td>\n",
       "      <td>NaN</td>\n",
       "      <td>NaN</td>\n",
       "    </tr>\n",
       "    <tr>\n",
       "      <th>619391</th>\n",
       "      <td>2018-02-07</td>\n",
       "      <td>352.5707</td>\n",
       "      <td>2018-03-07</td>\n",
       "      <td>2242111</td>\n",
       "      <td>352.5707</td>\n",
       "      <td>2018-03-06</td>\n",
       "      <td>693139</td>\n",
       "      <td>9</td>\n",
       "      <td>7.2</td>\n",
       "      <td>3080</td>\n",
       "      <td>2017-10</td>\n",
       "      <td>男</td>\n",
       "      <td>20</td>\n",
       "      <td>c12</td>\n",
       "      <td>c12</td>\n",
       "      <td>c12007</td>\n",
       "      <td>2018-02-06</td>\n",
       "      <td>2134|3088|2253|4864|4749|1541|5320|719|2017|20...</td>\n",
       "      <td>2018-02-06</td>\n",
       "    </tr>\n",
       "    <tr>\n",
       "      <th>1070322</th>\n",
       "      <td>2019-03-20</td>\n",
       "      <td>198.7159</td>\n",
       "      <td>2019-04-20</td>\n",
       "      <td>5457877</td>\n",
       "      <td>NaN</td>\n",
       "      <td>NaN</td>\n",
       "      <td>686712</td>\n",
       "      <td>6</td>\n",
       "      <td>6.5</td>\n",
       "      <td>1170</td>\n",
       "      <td>2017-10</td>\n",
       "      <td>男</td>\n",
       "      <td>22</td>\n",
       "      <td>c23</td>\n",
       "      <td>c26</td>\n",
       "      <td>c26047</td>\n",
       "      <td>2019-03-19</td>\n",
       "      <td>60|2580|127|2710|3151|4219|2642|155|1911|4563|...</td>\n",
       "      <td>2019-03-19</td>\n",
       "    </tr>\n",
       "    <tr>\n",
       "      <th>1114162</th>\n",
       "      <td>2019-02-08</td>\n",
       "      <td>176.8383</td>\n",
       "      <td>2019-03-08</td>\n",
       "      <td>5311810</td>\n",
       "      <td>NaN</td>\n",
       "      <td>NaN</td>\n",
       "      <td>484890</td>\n",
       "      <td>6</td>\n",
       "      <td>6.9</td>\n",
       "      <td>1040</td>\n",
       "      <td>2017-04</td>\n",
       "      <td>女</td>\n",
       "      <td>27</td>\n",
       "      <td>c04</td>\n",
       "      <td>c04</td>\n",
       "      <td>c04251</td>\n",
       "      <td>2019-02-07</td>\n",
       "      <td>NaN</td>\n",
       "      <td>NaN</td>\n",
       "    </tr>\n",
       "    <tr>\n",
       "      <th>827317</th>\n",
       "      <td>2018-03-29</td>\n",
       "      <td>144.9917</td>\n",
       "      <td>2018-04-29</td>\n",
       "      <td>2814899</td>\n",
       "      <td>\\N</td>\n",
       "      <td>\\N</td>\n",
       "      <td>479372</td>\n",
       "      <td>6</td>\n",
       "      <td>8.0</td>\n",
       "      <td>850</td>\n",
       "      <td>2017-04</td>\n",
       "      <td>男</td>\n",
       "      <td>22</td>\n",
       "      <td>c21</td>\n",
       "      <td>c21</td>\n",
       "      <td>c21240</td>\n",
       "      <td>2018-03-28</td>\n",
       "      <td>2245|2431|943|1285|2649|1964|3580|124|1567|620...</td>\n",
       "      <td>2018-03-28</td>\n",
       "    </tr>\n",
       "  </tbody>\n",
       "</table>\n",
       "</div>"
      ],
      "text/plain": [
       "        auditing_date   due_amt   due_date  listing_id repay_amt  repay_date  \\\n",
       "1022751    2019-02-15  202.6137 2019-03-15     5336367       NaN         NaN   \n",
       "353326     2018-12-12  384.2833 2019-01-12     5107265  384.2833  2019-01-12   \n",
       "140123     2018-03-25  161.4041 2018-04-25     2757432  161.4041  2018-04-24   \n",
       "316259     2018-03-06  171.7065 2018-04-06     2536224  171.7065  2018-04-03   \n",
       "832785     2018-04-01  371.8615 2018-05-01     2848283  371.8615  2018-04-19   \n",
       "278046     2018-04-01  136.2205 2018-05-01     2845894  136.2205  2018-04-28   \n",
       "619391     2018-02-07  352.5707 2018-03-07     2242111  352.5707  2018-03-06   \n",
       "1070322    2019-03-20  198.7159 2019-04-20     5457877       NaN         NaN   \n",
       "1114162    2019-02-08  176.8383 2019-03-08     5311810       NaN         NaN   \n",
       "827317     2018-03-29  144.9917 2018-04-29     2814899        \\N          \\N   \n",
       "\n",
       "         user_id  term  rate  principal  reg_mon gender  age cell_province  \\\n",
       "1022751    88883     9   7.2       1770  2015-12      男   31           c31   \n",
       "353326     54469     6   6.9       2260  2015-09      女   34           c20   \n",
       "140123    482680     9   7.2       1410  2017-04      男   37           c19   \n",
       "316259    545759     9   7.2       1500  2017-06      女   35           c04   \n",
       "832785    539922     6   8.0       2180  2017-06      男   24           c05   \n",
       "278046    316148     9   7.2       1190  2016-11      男   22           c26   \n",
       "619391    693139     9   7.2       3080  2017-10      男   20           c12   \n",
       "1070322   686712     6   6.5       1170  2017-10      男   22           c23   \n",
       "1114162   484890     6   6.9       1040  2017-04      女   27           c04   \n",
       "827317    479372     6   8.0        850  2017-04      男   22           c21   \n",
       "\n",
       "        id_province id_city  insertdate  \\\n",
       "1022751         c31  c31255  2019-02-14   \n",
       "353326          c19  c19239  2018-12-11   \n",
       "140123          c19  c19104  2018-03-24   \n",
       "316259          c04  c04344  2018-03-05   \n",
       "832785          c05  c05296  2018-03-31   \n",
       "278046          c26  c26241  2018-03-31   \n",
       "619391          c12  c12007  2018-02-06   \n",
       "1070322         c26  c26047  2019-03-19   \n",
       "1114162         c04  c04251  2019-02-07   \n",
       "827317          c21  c21240  2018-03-28   \n",
       "\n",
       "                                                   taglist tag_insert_date  \n",
       "1022751  5906|719|5865|3369|4453|3006|70|4524|5723|4787...      2019-02-14  \n",
       "353326                                                 NaN             NaN  \n",
       "140123   2710|1228|1541|2901|1402|2500|877|4592|1804|84...      2018-03-24  \n",
       "316259   3017|1832|1204|1368|354|3695|3691|2648|1911|27...      2018-03-05  \n",
       "832785   230|2242|1478|2164|2250|3324|1876|3781|1059|83...      2018-03-31  \n",
       "278046                                                 NaN             NaN  \n",
       "619391   2134|3088|2253|4864|4749|1541|5320|719|2017|20...      2018-02-06  \n",
       "1070322  60|2580|127|2710|3151|4219|2642|155|1911|4563|...      2019-03-19  \n",
       "1114162                                                NaN             NaN  \n",
       "827317   2245|2431|943|1285|2649|1964|3580|124|1567|620...      2018-03-28  "
      ]
     },
     "execution_count": 25,
     "metadata": {
      "tags": []
     },
     "output_type": "execute_result"
    }
   ],
   "source": [
    "all_data.sample(10)"
   ]
  },
  {
   "cell_type": "code",
   "execution_count": 0,
   "metadata": {
    "colab": {},
    "colab_type": "code",
    "id": "XaSNphQyWYfe"
   },
   "outputs": [],
   "source": [
    "all_data=pd.merge(all_data,user_repay_logs[['listing_id','order_id']],on=['listing_id'],how='left')"
   ]
  },
  {
   "cell_type": "code",
   "execution_count": 0,
   "metadata": {
    "colab": {
     "base_uri": "https://localhost:8080/",
     "height": 309
    },
    "colab_type": "code",
    "executionInfo": {
     "elapsed": 1108,
     "status": "ok",
     "timestamp": 1561713660020,
     "user": {
      "displayName": "陶士来",
      "photoUrl": "",
      "userId": "08104502188577818611"
     },
     "user_tz": -480
    },
    "id": "pQ0L9MlGWYlX",
    "outputId": "e11bee9b-9aec-42ba-b11f-11206b4b2056"
   },
   "outputs": [
    {
     "data": {
      "text/html": [
       "<div>\n",
       "<style scoped>\n",
       "    .dataframe tbody tr th:only-of-type {\n",
       "        vertical-align: middle;\n",
       "    }\n",
       "\n",
       "    .dataframe tbody tr th {\n",
       "        vertical-align: top;\n",
       "    }\n",
       "\n",
       "    .dataframe thead th {\n",
       "        text-align: right;\n",
       "    }\n",
       "</style>\n",
       "<table border=\"1\" class=\"dataframe\">\n",
       "  <thead>\n",
       "    <tr style=\"text-align: right;\">\n",
       "      <th></th>\n",
       "      <th>auditing_date</th>\n",
       "      <th>due_amt</th>\n",
       "      <th>due_date</th>\n",
       "      <th>listing_id</th>\n",
       "      <th>repay_amt</th>\n",
       "      <th>repay_date</th>\n",
       "      <th>user_id</th>\n",
       "      <th>term</th>\n",
       "      <th>rate</th>\n",
       "      <th>principal</th>\n",
       "      <th>reg_mon</th>\n",
       "      <th>gender</th>\n",
       "      <th>age</th>\n",
       "      <th>cell_province</th>\n",
       "      <th>id_province</th>\n",
       "      <th>id_city</th>\n",
       "      <th>insertdate</th>\n",
       "      <th>taglist</th>\n",
       "      <th>tag_insert_date</th>\n",
       "      <th>order_id</th>\n",
       "    </tr>\n",
       "  </thead>\n",
       "  <tbody>\n",
       "    <tr>\n",
       "      <th>791713</th>\n",
       "      <td>2018-03-07</td>\n",
       "      <td>97.3003</td>\n",
       "      <td>2018-04-07</td>\n",
       "      <td>2546932</td>\n",
       "      <td>\\N</td>\n",
       "      <td>\\N</td>\n",
       "      <td>609863</td>\n",
       "      <td>9</td>\n",
       "      <td>7.2</td>\n",
       "      <td>850</td>\n",
       "      <td>2017-08</td>\n",
       "      <td>男</td>\n",
       "      <td>21</td>\n",
       "      <td>c29</td>\n",
       "      <td>c29</td>\n",
       "      <td>c29091</td>\n",
       "      <td>2018-03-06</td>\n",
       "      <td>3527|1826|2739|121|620|2431|1950|1823|676|1876...</td>\n",
       "      <td>2018-03-06</td>\n",
       "      <td>NaN</td>\n",
       "    </tr>\n",
       "    <tr>\n",
       "      <th>263385</th>\n",
       "      <td>2018-04-19</td>\n",
       "      <td>861.9668</td>\n",
       "      <td>2018-05-19</td>\n",
       "      <td>3090846</td>\n",
       "      <td>861.9668</td>\n",
       "      <td>2018-05-17</td>\n",
       "      <td>624811</td>\n",
       "      <td>9</td>\n",
       "      <td>7.2</td>\n",
       "      <td>7530</td>\n",
       "      <td>2017-08</td>\n",
       "      <td>男</td>\n",
       "      <td>26</td>\n",
       "      <td>c19</td>\n",
       "      <td>c19</td>\n",
       "      <td>c19335</td>\n",
       "      <td>2018-04-18</td>\n",
       "      <td>NaN</td>\n",
       "      <td>NaN</td>\n",
       "      <td>5.0</td>\n",
       "    </tr>\n",
       "    <tr>\n",
       "      <th>1449235</th>\n",
       "      <td>2018-04-23</td>\n",
       "      <td>2029.5713</td>\n",
       "      <td>2018-05-23</td>\n",
       "      <td>3144913</td>\n",
       "      <td>\\N</td>\n",
       "      <td>\\N</td>\n",
       "      <td>216253</td>\n",
       "      <td>9</td>\n",
       "      <td>7.2</td>\n",
       "      <td>17730</td>\n",
       "      <td>2016-07</td>\n",
       "      <td>男</td>\n",
       "      <td>31</td>\n",
       "      <td>c01</td>\n",
       "      <td>c29</td>\n",
       "      <td>c29128</td>\n",
       "      <td>2018-04-22</td>\n",
       "      <td>943|2794|645|449|445|2132|675|4224|3508|3972|4...</td>\n",
       "      <td>2018-11-25</td>\n",
       "      <td>2.0</td>\n",
       "    </tr>\n",
       "    <tr>\n",
       "      <th>109036</th>\n",
       "      <td>2018-11-03</td>\n",
       "      <td>124.7915</td>\n",
       "      <td>2018-12-03</td>\n",
       "      <td>4829996</td>\n",
       "      <td>124.7915</td>\n",
       "      <td>2018-12-01</td>\n",
       "      <td>655643</td>\n",
       "      <td>12</td>\n",
       "      <td>8.6</td>\n",
       "      <td>1430</td>\n",
       "      <td>2017-09</td>\n",
       "      <td>男</td>\n",
       "      <td>28</td>\n",
       "      <td>c02</td>\n",
       "      <td>c02</td>\n",
       "      <td>c02163</td>\n",
       "      <td>2018-03-04</td>\n",
       "      <td>1803|2580|1402|1029|5071|4770|1259|1787|2631|1...</td>\n",
       "      <td>2018-11-02</td>\n",
       "      <td>NaN</td>\n",
       "    </tr>\n",
       "    <tr>\n",
       "      <th>778126</th>\n",
       "      <td>2018-03-17</td>\n",
       "      <td>227.4265</td>\n",
       "      <td>2018-04-17</td>\n",
       "      <td>2662575</td>\n",
       "      <td>227.4265</td>\n",
       "      <td>2018-04-17</td>\n",
       "      <td>191284</td>\n",
       "      <td>12</td>\n",
       "      <td>7.6</td>\n",
       "      <td>2620</td>\n",
       "      <td>2016-06</td>\n",
       "      <td>女</td>\n",
       "      <td>25</td>\n",
       "      <td>c23</td>\n",
       "      <td>c23</td>\n",
       "      <td>c23141</td>\n",
       "      <td>2018-03-16</td>\n",
       "      <td>NaN</td>\n",
       "      <td>NaN</td>\n",
       "      <td>5.0</td>\n",
       "    </tr>\n",
       "  </tbody>\n",
       "</table>\n",
       "</div>"
      ],
      "text/plain": [
       "        auditing_date    due_amt   due_date  listing_id repay_amt  repay_date  \\\n",
       "791713     2018-03-07    97.3003 2018-04-07     2546932        \\N          \\N   \n",
       "263385     2018-04-19   861.9668 2018-05-19     3090846  861.9668  2018-05-17   \n",
       "1449235    2018-04-23  2029.5713 2018-05-23     3144913        \\N          \\N   \n",
       "109036     2018-11-03   124.7915 2018-12-03     4829996  124.7915  2018-12-01   \n",
       "778126     2018-03-17   227.4265 2018-04-17     2662575  227.4265  2018-04-17   \n",
       "\n",
       "         user_id  term  rate  principal  reg_mon gender  age cell_province  \\\n",
       "791713    609863     9   7.2        850  2017-08      男   21           c29   \n",
       "263385    624811     9   7.2       7530  2017-08      男   26           c19   \n",
       "1449235   216253     9   7.2      17730  2016-07      男   31           c01   \n",
       "109036    655643    12   8.6       1430  2017-09      男   28           c02   \n",
       "778126    191284    12   7.6       2620  2016-06      女   25           c23   \n",
       "\n",
       "        id_province id_city  insertdate  \\\n",
       "791713          c29  c29091  2018-03-06   \n",
       "263385          c19  c19335  2018-04-18   \n",
       "1449235         c29  c29128  2018-04-22   \n",
       "109036          c02  c02163  2018-03-04   \n",
       "778126          c23  c23141  2018-03-16   \n",
       "\n",
       "                                                   taglist tag_insert_date  \\\n",
       "791713   3527|1826|2739|121|620|2431|1950|1823|676|1876...      2018-03-06   \n",
       "263385                                                 NaN             NaN   \n",
       "1449235  943|2794|645|449|445|2132|675|4224|3508|3972|4...      2018-11-25   \n",
       "109036   1803|2580|1402|1029|5071|4770|1259|1787|2631|1...      2018-11-02   \n",
       "778126                                                 NaN             NaN   \n",
       "\n",
       "         order_id  \n",
       "791713        NaN  \n",
       "263385        5.0  \n",
       "1449235       2.0  \n",
       "109036        NaN  \n",
       "778126        5.0  "
      ]
     },
     "execution_count": 27,
     "metadata": {
      "tags": []
     },
     "output_type": "execute_result"
    }
   ],
   "source": [
    "all_data.sample(5)"
   ]
  },
  {
   "cell_type": "code",
   "execution_count": 0,
   "metadata": {
    "colab": {},
    "colab_type": "code",
    "id": "Xy24537-WYrC"
   },
   "outputs": [],
   "source": [
    "all_data.to_csv('all_data.csv',index=False)"
   ]
  },
  {
   "cell_type": "code",
   "execution_count": 0,
   "metadata": {
    "colab": {},
    "colab_type": "code",
    "id": "H6eXcuwzWYww"
   },
   "outputs": [],
   "source": []
  },
  {
   "cell_type": "code",
   "execution_count": 0,
   "metadata": {
    "colab": {},
    "colab_type": "code",
    "id": "9SY0JBZbWY3F"
   },
   "outputs": [],
   "source": []
  },
  {
   "cell_type": "code",
   "execution_count": 0,
   "metadata": {
    "colab": {},
    "colab_type": "code",
    "id": "7lGr6lM5WY9E"
   },
   "outputs": [],
   "source": []
  },
  {
   "cell_type": "code",
   "execution_count": 0,
   "metadata": {
    "colab": {},
    "colab_type": "code",
    "id": "PnkAHrk1WZDU"
   },
   "outputs": [],
   "source": []
  },
  {
   "cell_type": "code",
   "execution_count": 0,
   "metadata": {
    "colab": {},
    "colab_type": "code",
    "id": "XVAiYDRbWZBU"
   },
   "outputs": [],
   "source": []
  },
  {
   "cell_type": "code",
   "execution_count": 0,
   "metadata": {
    "colab": {},
    "colab_type": "code",
    "id": "5NdpdILWWY7F"
   },
   "outputs": [],
   "source": []
  },
  {
   "cell_type": "code",
   "execution_count": 0,
   "metadata": {
    "colab": {},
    "colab_type": "code",
    "id": "WKsex50sWY1G"
   },
   "outputs": [],
   "source": []
  },
  {
   "cell_type": "code",
   "execution_count": 0,
   "metadata": {
    "colab": {},
    "colab_type": "code",
    "id": "ixOs1nrVWYu1"
   },
   "outputs": [],
   "source": []
  },
  {
   "cell_type": "code",
   "execution_count": 0,
   "metadata": {
    "colab": {},
    "colab_type": "code",
    "id": "BafqDYkTWYpG"
   },
   "outputs": [],
   "source": []
  },
  {
   "cell_type": "code",
   "execution_count": 0,
   "metadata": {
    "colab": {},
    "colab_type": "code",
    "id": "prYhiRM9WYje"
   },
   "outputs": [],
   "source": []
  },
  {
   "cell_type": "code",
   "execution_count": 0,
   "metadata": {
    "colab": {},
    "colab_type": "code",
    "id": "dBijA1ZVWYdl"
   },
   "outputs": [],
   "source": []
  },
  {
   "cell_type": "code",
   "execution_count": 0,
   "metadata": {
    "colab": {},
    "colab_type": "code",
    "id": "HnK1p8BuWYXl"
   },
   "outputs": [],
   "source": []
  },
  {
   "cell_type": "code",
   "execution_count": 0,
   "metadata": {
    "colab": {},
    "colab_type": "code",
    "id": "opoOS5J-WYRX"
   },
   "outputs": [],
   "source": []
  },
  {
   "cell_type": "code",
   "execution_count": 0,
   "metadata": {
    "colab": {},
    "colab_type": "code",
    "id": "pTzHCt0VWYLU"
   },
   "outputs": [],
   "source": []
  },
  {
   "cell_type": "code",
   "execution_count": 0,
   "metadata": {
    "colab": {
     "base_uri": "https://localhost:8080/",
     "height": 204
    },
    "colab_type": "code",
    "executionInfo": {
     "elapsed": 1242,
     "status": "ok",
     "timestamp": 1561696530846,
     "user": {
      "displayName": "陶士来",
      "photoUrl": "",
      "userId": "08104502188577818611"
     },
     "user_tz": -480
    },
    "id": "XCPmpL12HDF-",
    "outputId": "cce23afc-bf80-43e6-db39-159404fb8c4f"
   },
   "outputs": [
    {
     "data": {
      "text/html": [
       "<div>\n",
       "<style scoped>\n",
       "    .dataframe tbody tr th:only-of-type {\n",
       "        vertical-align: middle;\n",
       "    }\n",
       "\n",
       "    .dataframe tbody tr th {\n",
       "        vertical-align: top;\n",
       "    }\n",
       "\n",
       "    .dataframe thead th {\n",
       "        text-align: right;\n",
       "    }\n",
       "</style>\n",
       "<table border=\"1\" class=\"dataframe\">\n",
       "  <thead>\n",
       "    <tr style=\"text-align: right;\">\n",
       "      <th></th>\n",
       "      <th>user_id</th>\n",
       "      <th>listing_id</th>\n",
       "      <th>auditing_date</th>\n",
       "      <th>due_date</th>\n",
       "      <th>due_amt</th>\n",
       "      <th>repay_date</th>\n",
       "      <th>repay_amt</th>\n",
       "    </tr>\n",
       "  </thead>\n",
       "  <tbody>\n",
       "    <tr>\n",
       "      <th>0</th>\n",
       "      <td>748147</td>\n",
       "      <td>3163926</td>\n",
       "      <td>2018-04-25</td>\n",
       "      <td>2018-05-25</td>\n",
       "      <td>72.1167</td>\n",
       "      <td>2018-05-25</td>\n",
       "      <td>72.1167</td>\n",
       "    </tr>\n",
       "    <tr>\n",
       "      <th>1</th>\n",
       "      <td>672952</td>\n",
       "      <td>3698760</td>\n",
       "      <td>2018-06-09</td>\n",
       "      <td>2018-07-09</td>\n",
       "      <td>258.7045</td>\n",
       "      <td>2018-07-08</td>\n",
       "      <td>258.7045</td>\n",
       "    </tr>\n",
       "    <tr>\n",
       "      <th>2</th>\n",
       "      <td>404196</td>\n",
       "      <td>2355665</td>\n",
       "      <td>2018-02-18</td>\n",
       "      <td>2018-03-18</td>\n",
       "      <td>307.9270</td>\n",
       "      <td>\\N</td>\n",
       "      <td>\\N</td>\n",
       "    </tr>\n",
       "    <tr>\n",
       "      <th>3</th>\n",
       "      <td>342769</td>\n",
       "      <td>1994522</td>\n",
       "      <td>2018-01-13</td>\n",
       "      <td>2018-02-13</td>\n",
       "      <td>252.9809</td>\n",
       "      <td>2018-02-13</td>\n",
       "      <td>252.9809</td>\n",
       "    </tr>\n",
       "    <tr>\n",
       "      <th>4</th>\n",
       "      <td>828139</td>\n",
       "      <td>3602352</td>\n",
       "      <td>2018-06-01</td>\n",
       "      <td>2018-07-01</td>\n",
       "      <td>107.6503</td>\n",
       "      <td>2018-06-25</td>\n",
       "      <td>107.6503</td>\n",
       "    </tr>\n",
       "  </tbody>\n",
       "</table>\n",
       "</div>"
      ],
      "text/plain": [
       "   user_id  listing_id auditing_date   due_date   due_amt  repay_date  \\\n",
       "0   748147     3163926    2018-04-25 2018-05-25   72.1167  2018-05-25   \n",
       "1   672952     3698760    2018-06-09 2018-07-09  258.7045  2018-07-08   \n",
       "2   404196     2355665    2018-02-18 2018-03-18  307.9270          \\N   \n",
       "3   342769     1994522    2018-01-13 2018-02-13  252.9809  2018-02-13   \n",
       "4   828139     3602352    2018-06-01 2018-07-01  107.6503  2018-06-25   \n",
       "\n",
       "  repay_amt  \n",
       "0   72.1167  \n",
       "1  258.7045  \n",
       "2        \\N  \n",
       "3  252.9809  \n",
       "4  107.6503  "
      ]
     },
     "execution_count": 34,
     "metadata": {
      "tags": []
     },
     "output_type": "execute_result"
    }
   ],
   "source": [
    "train.loc[(train['auditing_date']>=pd.to_datetime('2018-01-05'))&(train['auditing_date']<=pd.to_datetime('2018-08-05'))].head()"
   ]
  },
  {
   "cell_type": "code",
   "execution_count": 0,
   "metadata": {
    "colab": {},
    "colab_type": "code",
    "id": "qqnicVSNHDDy"
   },
   "outputs": [],
   "source": []
  },
  {
   "cell_type": "code",
   "execution_count": 0,
   "metadata": {
    "colab": {
     "base_uri": "https://localhost:8080/",
     "height": 179
    },
    "colab_type": "code",
    "executionInfo": {
     "elapsed": 1233,
     "status": "ok",
     "timestamp": 1561683667249,
     "user": {
      "displayName": "陶士来",
      "photoUrl": "",
      "userId": "08104502188577818611"
     },
     "user_tz": -480
    },
    "id": "sdK28IPpmR9L",
    "outputId": "a2ee65df-7345-42f1-bddb-5dc5c36c7d3c"
   },
   "outputs": [
    {
     "name": "stdout",
     "output_type": "stream",
     "text": [
      "              user_id    listing_id         due_amt\n",
      "count  1000000.000000  1.000000e+06  1000000.000000\n",
      "mean    446177.855141  3.797037e+06      452.026625\n",
      "std     257534.686801  9.424460e+05      514.202155\n",
      "min          1.000000  1.873193e+06       17.453300\n",
      "25%     225120.750000  3.046201e+06      160.482400\n",
      "50%     444321.000000  3.832456e+06      286.740100\n",
      "75%     664508.250000  4.657050e+06      546.026800\n",
      "max     924400.000000  5.207722e+06    18827.018400\n"
     ]
    }
   ],
   "source": [
    "print(train.describe())"
   ]
  },
  {
   "cell_type": "code",
   "execution_count": 0,
   "metadata": {
    "colab": {
     "base_uri": "https://localhost:8080/",
     "height": 35
    },
    "colab_type": "code",
    "executionInfo": {
     "elapsed": 897,
     "status": "ok",
     "timestamp": 1561640731173,
     "user": {
      "displayName": "陶士来",
      "photoUrl": "",
      "userId": "08104502188577818611"
     },
     "user_tz": -480
    },
    "id": "MgY7QBdrClDH",
    "outputId": "8a9bb473-2fa6-44fa-ee0a-850feff8f8d1"
   },
   "outputs": [
    {
     "name": "stdout",
     "output_type": "stream",
     "text": [
      "(5484891, 6)\n"
     ]
    }
   ],
   "source": [
    "print(listing_info.shape)"
   ]
  },
  {
   "cell_type": "code",
   "execution_count": 0,
   "metadata": {
    "colab": {
     "base_uri": "https://localhost:8080/",
     "height": 35
    },
    "colab_type": "code",
    "executionInfo": {
     "elapsed": 1264,
     "status": "ok",
     "timestamp": 1561641823713,
     "user": {
      "displayName": "陶士来",
      "photoUrl": "",
      "userId": "08104502188577818611"
     },
     "user_tz": -480
    },
    "id": "zqw3Z3AlGqkk",
    "outputId": "d6bc2fa6-c707-4fc2-e476-daff54cfea86"
   },
   "outputs": [
    {
     "name": "stdout",
     "output_type": "stream",
     "text": [
      "5484891\n"
     ]
    }
   ],
   "source": [
    "print(listing_info['listing_id'].nunique())"
   ]
  },
  {
   "cell_type": "code",
   "execution_count": 0,
   "metadata": {
    "colab": {
     "base_uri": "https://localhost:8080/",
     "height": 35
    },
    "colab_type": "code",
    "executionInfo": {
     "elapsed": 2884,
     "status": "ok",
     "timestamp": 1561684835276,
     "user": {
      "displayName": "陶士来",
      "photoUrl": "",
      "userId": "08104502188577818611"
     },
     "user_tz": -480
    },
    "id": "crCO7OGoqBeu",
    "outputId": "242a1462-3707-4e61-baf3-e5dfc6b1f4ab"
   },
   "outputs": [
    {
     "data": {
      "text/plain": [
       "set()"
      ]
     },
     "execution_count": 23,
     "metadata": {
      "tags": []
     },
     "output_type": "execute_result"
    }
   ],
   "source": [
    "# print(listing_info['user_id'].nunique())\n",
    "# print((train['user_id'].append(test['user_id']).nunique())\n",
    "\n",
    "set(listing_info['user_id'])-set(train['user_id'])-set(test['user_id'])"
   ]
  },
  {
   "cell_type": "code",
   "execution_count": 0,
   "metadata": {
    "colab": {
     "base_uri": "https://localhost:8080/",
     "height": 80
    },
    "colab_type": "code",
    "executionInfo": {
     "elapsed": 1064,
     "status": "ok",
     "timestamp": 1561684991521,
     "user": {
      "displayName": "陶士来",
      "photoUrl": "",
      "userId": "08104502188577818611"
     },
     "user_tz": -480
    },
    "id": "AYvTn6hUrUae",
    "outputId": "73aff6fb-0134-4f4a-e1c1-d5934081fb26"
   },
   "outputs": [
    {
     "data": {
      "text/html": [
       "<div>\n",
       "<style scoped>\n",
       "    .dataframe tbody tr th:only-of-type {\n",
       "        vertical-align: middle;\n",
       "    }\n",
       "\n",
       "    .dataframe tbody tr th {\n",
       "        vertical-align: top;\n",
       "    }\n",
       "\n",
       "    .dataframe thead th {\n",
       "        text-align: right;\n",
       "    }\n",
       "</style>\n",
       "<table border=\"1\" class=\"dataframe\">\n",
       "  <thead>\n",
       "    <tr style=\"text-align: right;\">\n",
       "      <th></th>\n",
       "      <th>user_id</th>\n",
       "      <th>listing_id</th>\n",
       "      <th>auditing_date</th>\n",
       "      <th>due_date</th>\n",
       "      <th>due_amt</th>\n",
       "      <th>repay_date</th>\n",
       "      <th>repay_amt</th>\n",
       "    </tr>\n",
       "  </thead>\n",
       "  <tbody>\n",
       "    <tr>\n",
       "      <th>84998</th>\n",
       "      <td>65747</td>\n",
       "      <td>1879801</td>\n",
       "      <td>2018-01-01</td>\n",
       "      <td>2018-02-01</td>\n",
       "      <td>437.2793</td>\n",
       "      <td>2018-01-23</td>\n",
       "      <td>437.2793</td>\n",
       "    </tr>\n",
       "  </tbody>\n",
       "</table>\n",
       "</div>"
      ],
      "text/plain": [
       "       user_id  listing_id auditing_date   due_date   due_amt  repay_date  \\\n",
       "84998    65747     1879801    2018-01-01 2018-02-01  437.2793  2018-01-23   \n",
       "\n",
       "      repay_amt  \n",
       "84998  437.2793  "
      ]
     },
     "execution_count": 25,
     "metadata": {
      "tags": []
     },
     "output_type": "execute_result"
    }
   ],
   "source": [
    "train[train['user_id']==65747]\t##train中的标的只是用户的部分标的情况，还有一些标的没有给出因为是抽样的把，但是listing_info中的标的有更多，包括不在train中的"
   ]
  },
  {
   "cell_type": "code",
   "execution_count": 0,
   "metadata": {
    "colab": {
     "base_uri": "https://localhost:8080/",
     "height": 35
    },
    "colab_type": "code",
    "executionInfo": {
     "elapsed": 3499,
     "status": "ok",
     "timestamp": 1561685204589,
     "user": {
      "displayName": "陶士来",
      "photoUrl": "",
      "userId": "08104502188577818611"
     },
     "user_tz": -480
    },
    "id": "euI7h-_UlqQr",
    "outputId": "b038fa86-06f3-4f03-a276-eada2c6e773b"
   },
   "outputs": [
    {
     "data": {
      "text/plain": [
       "4354891"
      ]
     },
     "execution_count": 27,
     "metadata": {
      "tags": []
     },
     "output_type": "execute_result"
    }
   ],
   "source": [
    "len(set(listing_info['listing_id'])-set(train['listing_id'])-set(test['listing_id']))\n",
    "##4354891这么多的标的既不在train中也不在test中，但是若统计一段时间内用户的借款次数要把这些加上；预测的用户部分标的的还款时间\n",
    "##也就是统计用户信息，以user_id为键，（或者user_id listing_id）"
   ]
  },
  {
   "cell_type": "code",
   "execution_count": 0,
   "metadata": {
    "colab": {
     "base_uri": "https://localhost:8080/",
     "height": 173
    },
    "colab_type": "code",
    "executionInfo": {
     "elapsed": 1076,
     "status": "ok",
     "timestamp": 1561684084303,
     "user": {
      "displayName": "陶士来",
      "photoUrl": "",
      "userId": "08104502188577818611"
     },
     "user_tz": -480
    },
    "id": "Mnokb1Xtn2-v",
    "outputId": "1ba9e8af-23c4-479b-dadd-bc374f5294e8"
   },
   "outputs": [
    {
     "data": {
      "text/html": [
       "<div>\n",
       "<style scoped>\n",
       "    .dataframe tbody tr th:only-of-type {\n",
       "        vertical-align: middle;\n",
       "    }\n",
       "\n",
       "    .dataframe tbody tr th {\n",
       "        vertical-align: top;\n",
       "    }\n",
       "\n",
       "    .dataframe thead th {\n",
       "        text-align: right;\n",
       "    }\n",
       "</style>\n",
       "<table border=\"1\" class=\"dataframe\">\n",
       "  <thead>\n",
       "    <tr style=\"text-align: right;\">\n",
       "      <th></th>\n",
       "      <th>user_id</th>\n",
       "      <th>listing_id</th>\n",
       "      <th>order_id</th>\n",
       "      <th>due_date</th>\n",
       "      <th>due_amt</th>\n",
       "      <th>repay_date</th>\n",
       "      <th>repay_amt</th>\n",
       "    </tr>\n",
       "  </thead>\n",
       "  <tbody>\n",
       "    <tr>\n",
       "      <th>234684</th>\n",
       "      <td>65747</td>\n",
       "      <td>2</td>\n",
       "      <td>12</td>\n",
       "      <td>2017-07-05</td>\n",
       "      <td>323.2095</td>\n",
       "      <td>2017-05-15</td>\n",
       "      <td>323.2095</td>\n",
       "    </tr>\n",
       "    <tr>\n",
       "      <th>2817251</th>\n",
       "      <td>133141</td>\n",
       "      <td>4</td>\n",
       "      <td>12</td>\n",
       "      <td>2017-07-06</td>\n",
       "      <td>55.1821</td>\n",
       "      <td>2017-01-13</td>\n",
       "      <td>55.1821</td>\n",
       "    </tr>\n",
       "    <tr>\n",
       "      <th>17182239</th>\n",
       "      <td>194014</td>\n",
       "      <td>1</td>\n",
       "      <td>12</td>\n",
       "      <td>2017-07-05</td>\n",
       "      <td>389.7784</td>\n",
       "      <td>2017-07-03</td>\n",
       "      <td>389.7784</td>\n",
       "    </tr>\n",
       "    <tr>\n",
       "      <th>17205590</th>\n",
       "      <td>4548</td>\n",
       "      <td>3</td>\n",
       "      <td>12</td>\n",
       "      <td>2017-07-06</td>\n",
       "      <td>973.1321</td>\n",
       "      <td>2017-07-06</td>\n",
       "      <td>973.1321</td>\n",
       "    </tr>\n",
       "  </tbody>\n",
       "</table>\n",
       "</div>"
      ],
      "text/plain": [
       "          user_id  listing_id  order_id    due_date   due_amt  repay_date  \\\n",
       "234684      65747           2        12  2017-07-05  323.2095  2017-05-15   \n",
       "2817251    133141           4        12  2017-07-06   55.1821  2017-01-13   \n",
       "17182239   194014           1        12  2017-07-05  389.7784  2017-07-03   \n",
       "17205590     4548           3        12  2017-07-06  973.1321  2017-07-06   \n",
       "\n",
       "          repay_amt  \n",
       "234684     323.2095  \n",
       "2817251     55.1821  \n",
       "17182239   389.7784  \n",
       "17205590   973.1321  "
      ]
     },
     "execution_count": 14,
     "metadata": {
      "tags": []
     },
     "output_type": "execute_result"
    }
   ],
   "source": [
    "user_repay_logs[user_repay_logs['listing_id'].isin([1,2,3,4])]"
   ]
  },
  {
   "cell_type": "code",
   "execution_count": 0,
   "metadata": {
    "colab": {
     "base_uri": "https://localhost:8080/",
     "height": 235
    },
    "colab_type": "code",
    "executionInfo": {
     "elapsed": 1097,
     "status": "ok",
     "timestamp": 1561684458254,
     "user": {
      "displayName": "陶士来",
      "photoUrl": "",
      "userId": "08104502188577818611"
     },
     "user_tz": -480
    },
    "id": "_-bpdNkZn29C",
    "outputId": "5e849ac5-6a98-437f-ebcf-c69352209a1d"
   },
   "outputs": [
    {
     "data": {
      "text/html": [
       "<div>\n",
       "<style scoped>\n",
       "    .dataframe tbody tr th:only-of-type {\n",
       "        vertical-align: middle;\n",
       "    }\n",
       "\n",
       "    .dataframe tbody tr th {\n",
       "        vertical-align: top;\n",
       "    }\n",
       "\n",
       "    .dataframe thead th {\n",
       "        text-align: right;\n",
       "    }\n",
       "</style>\n",
       "<table border=\"1\" class=\"dataframe\">\n",
       "  <thead>\n",
       "    <tr style=\"text-align: right;\">\n",
       "      <th></th>\n",
       "      <th>user_id</th>\n",
       "      <th>listing_id</th>\n",
       "      <th>order_id</th>\n",
       "      <th>due_date</th>\n",
       "      <th>due_amt</th>\n",
       "      <th>repay_date</th>\n",
       "      <th>repay_amt</th>\n",
       "    </tr>\n",
       "  </thead>\n",
       "  <tbody>\n",
       "    <tr>\n",
       "      <th>10188421</th>\n",
       "      <td>3</td>\n",
       "      <td>3661187</td>\n",
       "      <td>4</td>\n",
       "      <td>2018-10-06</td>\n",
       "      <td>509.396</td>\n",
       "      <td>2018-10-06</td>\n",
       "      <td>509.396</td>\n",
       "    </tr>\n",
       "    <tr>\n",
       "      <th>10188422</th>\n",
       "      <td>3</td>\n",
       "      <td>3661187</td>\n",
       "      <td>5</td>\n",
       "      <td>2018-11-06</td>\n",
       "      <td>509.396</td>\n",
       "      <td>2018-11-06</td>\n",
       "      <td>509.396</td>\n",
       "    </tr>\n",
       "    <tr>\n",
       "      <th>10188423</th>\n",
       "      <td>3</td>\n",
       "      <td>3661187</td>\n",
       "      <td>6</td>\n",
       "      <td>2018-12-06</td>\n",
       "      <td>509.396</td>\n",
       "      <td>2018-12-06</td>\n",
       "      <td>509.396</td>\n",
       "    </tr>\n",
       "    <tr>\n",
       "      <th>10188424</th>\n",
       "      <td>3</td>\n",
       "      <td>3661187</td>\n",
       "      <td>2</td>\n",
       "      <td>2018-08-06</td>\n",
       "      <td>509.396</td>\n",
       "      <td>2018-08-06</td>\n",
       "      <td>509.396</td>\n",
       "    </tr>\n",
       "    <tr>\n",
       "      <th>10188425</th>\n",
       "      <td>3</td>\n",
       "      <td>3661187</td>\n",
       "      <td>1</td>\n",
       "      <td>2018-07-06</td>\n",
       "      <td>509.396</td>\n",
       "      <td>2018-07-06</td>\n",
       "      <td>509.396</td>\n",
       "    </tr>\n",
       "    <tr>\n",
       "      <th>10188426</th>\n",
       "      <td>3</td>\n",
       "      <td>3661187</td>\n",
       "      <td>3</td>\n",
       "      <td>2018-09-06</td>\n",
       "      <td>509.396</td>\n",
       "      <td>2200-01-01</td>\n",
       "      <td>509.396</td>\n",
       "    </tr>\n",
       "  </tbody>\n",
       "</table>\n",
       "</div>"
      ],
      "text/plain": [
       "          user_id  listing_id  order_id    due_date  due_amt  repay_date  \\\n",
       "10188421        3     3661187         4  2018-10-06  509.396  2018-10-06   \n",
       "10188422        3     3661187         5  2018-11-06  509.396  2018-11-06   \n",
       "10188423        3     3661187         6  2018-12-06  509.396  2018-12-06   \n",
       "10188424        3     3661187         2  2018-08-06  509.396  2018-08-06   \n",
       "10188425        3     3661187         1  2018-07-06  509.396  2018-07-06   \n",
       "10188426        3     3661187         3  2018-09-06  509.396  2200-01-01   \n",
       "\n",
       "          repay_amt  \n",
       "10188421    509.396  \n",
       "10188422    509.396  \n",
       "10188423    509.396  \n",
       "10188424    509.396  \n",
       "10188425    509.396  \n",
       "10188426    509.396  "
      ]
     },
     "execution_count": 16,
     "metadata": {
      "tags": []
     },
     "output_type": "execute_result"
    }
   ],
   "source": [
    "user_repay_logs[user_repay_logs['listing_id'].isin([5138741,3661187])]"
   ]
  },
  {
   "cell_type": "code",
   "execution_count": 0,
   "metadata": {
    "colab": {},
    "colab_type": "code",
    "id": "lRwkgYSGn27Y"
   },
   "outputs": [],
   "source": []
  },
  {
   "cell_type": "markdown",
   "metadata": {
    "colab_type": "text",
    "id": "GqiecqGnn17V"
   },
   "source": []
  },
  {
   "cell_type": "code",
   "execution_count": 0,
   "metadata": {
    "colab": {
     "base_uri": "https://localhost:8080/",
     "height": 251
    },
    "colab_type": "code",
    "executionInfo": {
     "elapsed": 2666,
     "status": "ok",
     "timestamp": 1561635352495,
     "user": {
      "displayName": "陶士来",
      "photoUrl": "",
      "userId": "08104502188577818611"
     },
     "user_tz": -480
    },
    "id": "Mo9kFuQYOQ7O",
    "outputId": "1241db59-0ea8-44e2-d84e-8019b6ac92a1"
   },
   "outputs": [
    {
     "name": "stdout",
     "output_type": "stream",
     "text": [
      "<class 'pandas.core.frame.DataFrame'>\n",
      "RangeIndex: 1000000 entries, 0 to 999999\n",
      "Data columns (total 7 columns):\n",
      "user_id          1000000 non-null int64\n",
      "listing_id       1000000 non-null int64\n",
      "auditing_date    1000000 non-null datetime64[ns]\n",
      "due_date         1000000 non-null datetime64[ns]\n",
      "due_amt          1000000 non-null float64\n",
      "repay_date       1000000 non-null object\n",
      "repay_amt        1000000 non-null object\n",
      "dtypes: datetime64[ns](2), float64(1), int64(2), object(2)\n",
      "memory usage: 162.4 MB\n",
      "None\n"
     ]
    }
   ],
   "source": [
    "print(train.info(memory_usage='deep'))"
   ]
  },
  {
   "cell_type": "code",
   "execution_count": 0,
   "metadata": {
    "colab": {
     "base_uri": "https://localhost:8080/",
     "height": 173
    },
    "colab_type": "code",
    "executionInfo": {
     "elapsed": 1208,
     "status": "error",
     "timestamp": 1561679041460,
     "user": {
      "displayName": "陶士来",
      "photoUrl": "",
      "userId": "08104502188577818611"
     },
     "user_tz": -480
    },
    "id": "Did3skghqxYz",
    "outputId": "53464a7c-2c44-4de4-ede8-c30b3e433462"
   },
   "outputs": [
    {
     "ename": "NameError",
     "evalue": "ignored",
     "output_type": "error",
     "traceback": [
      "\u001b[0;31m---------------------------------------------------------------------------\u001b[0m",
      "\u001b[0;31mNameError\u001b[0m                                 Traceback (most recent call last)",
      "\u001b[0;32m<ipython-input-1-bef24d1c0afd>\u001b[0m in \u001b[0;36m<module>\u001b[0;34m()\u001b[0m\n\u001b[0;32m----> 1\u001b[0;31m \u001b[0mprint\u001b[0m\u001b[0;34m(\u001b[0m\u001b[0;34m(\u001b[0m\u001b[0mtrain\u001b[0m\u001b[0;34m[\u001b[0m\u001b[0;34m'due_date'\u001b[0m\u001b[0;34m]\u001b[0m\u001b[0;34m-\u001b[0m\u001b[0mtrain\u001b[0m\u001b[0;34m[\u001b[0m\u001b[0;34m'auditing_date'\u001b[0m\u001b[0;34m]\u001b[0m\u001b[0;34m)\u001b[0m\u001b[0;34m.\u001b[0m\u001b[0mdt\u001b[0m\u001b[0;34m.\u001b[0m\u001b[0mdays\u001b[0m\u001b[0;34m.\u001b[0m\u001b[0mhead\u001b[0m\u001b[0;34m(\u001b[0m\u001b[0;34m)\u001b[0m\u001b[0;34m)\u001b[0m\u001b[0;34m\u001b[0m\u001b[0;34m\u001b[0m\u001b[0m\n\u001b[0m",
      "\u001b[0;31mNameError\u001b[0m: name 'train' is not defined"
     ]
    }
   ],
   "source": [
    "print((train['due_date']-train['auditing_date']).dt.days.head())"
   ]
  },
  {
   "cell_type": "code",
   "execution_count": 0,
   "metadata": {
    "colab": {
     "base_uri": "https://localhost:8080/",
     "height": 35
    },
    "colab_type": "code",
    "executionInfo": {
     "elapsed": 1096,
     "status": "ok",
     "timestamp": 1561635559299,
     "user": {
      "displayName": "陶士来",
      "photoUrl": "",
      "userId": "08104502188577818611"
     },
     "user_tz": -480
    },
    "id": "bVU4JtHHulYu",
    "outputId": "6a26992f-ba9f-4371-abb0-8fc28e038f41"
   },
   "outputs": [
    {
     "data": {
      "text/plain": [
       "0.823732"
      ]
     },
     "execution_count": 11,
     "metadata": {
      "tags": []
     },
     "output_type": "execute_result"
    }
   ],
   "source": [
    "train['user_id'].nunique()/train['user_id'].shape[0]"
   ]
  },
  {
   "cell_type": "code",
   "execution_count": 0,
   "metadata": {
    "colab": {
     "base_uri": "https://localhost:8080/",
     "height": 53
    },
    "colab_type": "code",
    "executionInfo": {
     "elapsed": 1103,
     "status": "ok",
     "timestamp": 1561290155795,
     "user": {
      "displayName": "陶士来",
      "photoUrl": "",
      "userId": "08104502188577818611"
     },
     "user_tz": -480
    },
    "id": "LHUlPly92RYg",
    "outputId": "b876f822-6d9d-4e3d-c8fa-0aa1d3cd793f"
   },
   "outputs": [
    {
     "name": "stdout",
     "output_type": "stream",
     "text": [
      "(1000000, 7)\n",
      "(130000, 5)\n"
     ]
    }
   ],
   "source": [
    "print(train.shape)\n",
    "print(test.shape)"
   ]
  },
  {
   "cell_type": "code",
   "execution_count": 0,
   "metadata": {
    "colab": {
     "base_uri": "https://localhost:8080/",
     "height": 35
    },
    "colab_type": "code",
    "executionInfo": {
     "elapsed": 1065,
     "status": "ok",
     "timestamp": 1560655279538,
     "user": {
      "displayName": "陶士来",
      "photoUrl": "",
      "userId": "08104502188577818611"
     },
     "user_tz": -480
    },
    "id": "Kh_vzR7VGDOX",
    "outputId": "84a1b6c6-975f-4fd8-ebc0-cd0fa57ed90f"
   },
   "outputs": [
    {
     "name": "stdout",
     "output_type": "stream",
     "text": [
      "823732\n"
     ]
    }
   ],
   "source": [
    "print(train['user_id'].nunique())"
   ]
  },
  {
   "cell_type": "code",
   "execution_count": 0,
   "metadata": {
    "colab": {
     "base_uri": "https://localhost:8080/",
     "height": 35
    },
    "colab_type": "code",
    "executionInfo": {
     "elapsed": 1140,
     "status": "ok",
     "timestamp": 1561290648129,
     "user": {
      "displayName": "陶士来",
      "photoUrl": "",
      "userId": "08104502188577818611"
     },
     "user_tz": -480
    },
    "id": "czFaFzA7LHRI",
    "outputId": "f739a20d-ad28-4153-b2fe-11786e203597"
   },
   "outputs": [
    {
     "name": "stdout",
     "output_type": "stream",
     "text": [
      "1000000\n"
     ]
    }
   ],
   "source": [
    "print(train['listing_id'].nunique())##说明不同的用户，有相同的标的，"
   ]
  },
  {
   "cell_type": "code",
   "execution_count": 0,
   "metadata": {
    "colab": {
     "base_uri": "https://localhost:8080/",
     "height": 35
    },
    "colab_type": "code",
    "executionInfo": {
     "elapsed": 675,
     "status": "ok",
     "timestamp": 1561259566614,
     "user": {
      "displayName": "陶士来",
      "photoUrl": "",
      "userId": "08104502188577818611"
     },
     "user_tz": -480
    },
    "id": "d2uALzvHLhuU",
    "outputId": "1073b3ce-9f49-4ab2-c736-888d415ad597"
   },
   "outputs": [
    {
     "name": "stdout",
     "output_type": "stream",
     "text": [
      "130000\n"
     ]
    }
   ],
   "source": [
    "print(test['user_id'].nunique())\n"
   ]
  },
  {
   "cell_type": "code",
   "execution_count": 0,
   "metadata": {
    "colab": {},
    "colab_type": "code",
    "id": "AYnCRTDxeI-C"
   },
   "outputs": [],
   "source": [
    "sort_test=test.sort_values(by='user_id')"
   ]
  },
  {
   "cell_type": "code",
   "execution_count": 0,
   "metadata": {
    "colab": {
     "base_uri": "https://localhost:8080/",
     "height": 215
    },
    "colab_type": "code",
    "executionInfo": {
     "elapsed": 661,
     "status": "ok",
     "timestamp": 1561262281147,
     "user": {
      "displayName": "陶士来",
      "photoUrl": "",
      "userId": "08104502188577818611"
     },
     "user_tz": -480
    },
    "id": "rY04Y7QreQyK",
    "outputId": "d7f6c752-5397-44c4-ed23-5a07ac3c8c80"
   },
   "outputs": [
    {
     "name": "stdout",
     "output_type": "stream",
     "text": [
      "        user_id  listing_id auditing_date    due_date    due_amt\n",
      "26177         5     5348580    2019-02-18  2019-03-18   205.7445\n",
      "95146         8     5288930    2019-02-02  2019-03-02   521.9878\n",
      "7011         20     5335952    2019-02-15  2019-03-15    88.1426\n",
      "117274       22     5382105    2019-02-26  2019-03-26   125.7629\n",
      "55784        24     5433181    2019-03-12  2019-04-12   560.4247\n",
      "18638        29     5422932    2019-03-09  2019-04-09   467.6095\n",
      "84268        35     5414862    2019-03-07  2019-04-07   226.9417\n",
      "25043        41     5462399    2019-03-22  2019-04-22  1450.8678\n",
      "34878        46     5480102    2019-03-29  2019-04-29   220.6568\n",
      "35276        55     5424428    2019-03-09  2019-04-09   290.1735\n"
     ]
    }
   ],
   "source": [
    "print(sort_test.head(10))"
   ]
  },
  {
   "cell_type": "code",
   "execution_count": 0,
   "metadata": {
    "colab": {
     "base_uri": "https://localhost:8080/",
     "height": 35
    },
    "colab_type": "code",
    "executionInfo": {
     "elapsed": 867,
     "status": "ok",
     "timestamp": 1561262308608,
     "user": {
      "displayName": "陶士来",
      "photoUrl": "",
      "userId": "08104502188577818611"
     },
     "user_tz": -480
    },
    "id": "Bb4rINGZfBei",
    "outputId": "0fdeb508-9373-4fcf-ea55-638bf110fa76"
   },
   "outputs": [
    {
     "name": "stdout",
     "output_type": "stream",
     "text": [
      "(130000, 5)\n"
     ]
    }
   ],
   "source": [
    "print(sort_test.shape)"
   ]
  },
  {
   "cell_type": "code",
   "execution_count": 0,
   "metadata": {
    "colab": {
     "base_uri": "https://localhost:8080/",
     "height": 35
    },
    "colab_type": "code",
    "executionInfo": {
     "elapsed": 852,
     "status": "ok",
     "timestamp": 1561262348475,
     "user": {
      "displayName": "陶士来",
      "photoUrl": "",
      "userId": "08104502188577818611"
     },
     "user_tz": -480
    },
    "id": "yT3sVxiyfE5S",
    "outputId": "96886482-547c-47fa-ba86-a4abe8a00ccd"
   },
   "outputs": [
    {
     "name": "stdout",
     "output_type": "stream",
     "text": [
      "130000\n"
     ]
    }
   ],
   "source": [
    "print(sort_test['user_id'].nunique())"
   ]
  },
  {
   "cell_type": "code",
   "execution_count": 0,
   "metadata": {
    "colab": {},
    "colab_type": "code",
    "id": "_juEAWplGwV9"
   },
   "outputs": [],
   "source": [
    "sort_info=listing_info.sort_values(by='listing_id')"
   ]
  },
  {
   "cell_type": "code",
   "execution_count": 0,
   "metadata": {
    "colab": {
     "base_uri": "https://localhost:8080/",
     "height": 125
    },
    "colab_type": "code",
    "executionInfo": {
     "elapsed": 752,
     "status": "ok",
     "timestamp": 1561260126906,
     "user": {
      "displayName": "陶士来",
      "photoUrl": "",
      "userId": "08104502188577818611"
     },
     "user_tz": -480
    },
    "id": "ei4ItW2ctKgO",
    "outputId": "ec6188f5-60f3-4507-a4fb-564b027912de"
   },
   "outputs": [
    {
     "name": "stdout",
     "output_type": "stream",
     "text": [
      "         user_id  listing_id auditing_date  term  rate  principal\n",
      "1341641   194014           1    2016-07-05    12   9.3       4450\n",
      "1341640    65747           2    2016-07-05    12   9.3       3690\n",
      "2715804     4548           3    2016-07-06    12   9.3      11110\n",
      "1341639   133141           4    2016-07-06    12   9.3        630\n",
      "4089125   198392           5    2016-07-07    12   9.3       2800\n"
     ]
    }
   ],
   "source": [
    "print(sort_info.head())"
   ]
  },
  {
   "cell_type": "code",
   "execution_count": 0,
   "metadata": {
    "colab": {},
    "colab_type": "code",
    "id": "yVnaKitOZzX8"
   },
   "outputs": [],
   "source": [
    "sort_info_user=listing_info.sort_values(by='user_id')"
   ]
  },
  {
   "cell_type": "code",
   "execution_count": 0,
   "metadata": {
    "colab": {
     "base_uri": "https://localhost:8080/",
     "height": 215
    },
    "colab_type": "code",
    "executionInfo": {
     "elapsed": 820,
     "status": "ok",
     "timestamp": 1561261031912,
     "user": {
      "displayName": "陶士来",
      "photoUrl": "",
      "userId": "08104502188577818611"
     },
     "user_tz": -480
    },
    "id": "nCbJ8l7YZ78H",
    "outputId": "cd2904e0-aa9a-4fe7-d3a5-89f4d4d289f6"
   },
   "outputs": [
    {
     "name": "stdout",
     "output_type": "stream",
     "text": [
      "         user_id  listing_id auditing_date  term  rate  principal\n",
      "4307755        1     5138741    2018-12-17     9   7.2       5540\n",
      "5016150        1      445999    2017-06-21    12   9.3       1380\n",
      "2603034        2     1655550    2017-12-06    12   8.0       2800\n",
      "1610929        2     4593188    2018-10-05     6   8.3       5430\n",
      "623555         3      806012    2017-08-19    12   9.3       9740\n",
      "928897         3     3661187    2018-06-06     9   7.2       4450\n",
      "957421         3     1917365    2018-01-05    12   7.6       2800\n",
      "50605          3     1353129    2017-11-03    12   8.6       8350\n",
      "410070         3     4373926    2018-09-06     6   8.3       5320\n",
      "898715         3     5079125    2018-12-08     9   7.2       5540\n"
     ]
    }
   ],
   "source": [
    "print(sort_info_user.head(10))#同一个用户在不同时间有不同的成交标的"
   ]
  },
  {
   "cell_type": "code",
   "execution_count": 0,
   "metadata": {
    "colab": {},
    "colab_type": "code",
    "id": "iawCB9L3WyKX"
   },
   "outputs": [],
   "source": [
    "sort_train=train.sort_values(by='user_id')\n",
    "#同一个人在不同时间有不同的成交标的##用户的成交次数作为特征\n",
    "#借款用户可能有多个标的记录，但在测试集时间范围内每位用户只有一条记录。"
   ]
  },
  {
   "cell_type": "markdown",
   "metadata": {
    "colab_type": "text",
    "id": "aeBIRhoDGt59"
   },
   "source": []
  },
  {
   "cell_type": "code",
   "execution_count": 0,
   "metadata": {
    "colab": {
     "base_uri": "https://localhost:8080/",
     "height": 791
    },
    "colab_type": "code",
    "executionInfo": {
     "elapsed": 673,
     "status": "ok",
     "timestamp": 1561260862040,
     "user": {
      "displayName": "陶士来",
      "photoUrl": "",
      "userId": "08104502188577818611"
     },
     "user_tz": -480
    },
    "id": "MLWJMxN4YDda",
    "outputId": "ac61ce3c-6781-44d9-cb16-6c8592b72c64"
   },
   "outputs": [
    {
     "name": "stdout",
     "output_type": "stream",
     "text": [
      "        user_id  listing_id auditing_date    due_date    due_amt  repay_date  \\\n",
      "716258        1     5138741    2018-12-17  2019-01-17   634.1695  2019-01-11   \n",
      "699724        2     4593188    2018-10-05  2018-11-05   927.0431  2018-11-04   \n",
      "612838        3     3661187    2018-06-06  2018-07-06   509.3960  2018-07-06   \n",
      "723079        3     5079125    2018-12-08  2019-01-08   634.1695  2019-01-08   \n",
      "347041        4     1998686    2018-01-14  2018-02-14  1013.0686  2018-02-11   \n",
      "5856          6     2896524    2018-04-04  2018-05-04   412.8005  2018-05-01   \n",
      "81254         7     3737371    2018-06-13  2018-07-13  4036.6015  2018-07-13   \n",
      "753040        8     4036140    2018-07-19  2018-08-19   283.4052          \\N   \n",
      "726131        9     4853712    2018-11-06  2018-12-06  1269.3415  2018-12-05   \n",
      "887121        9     4777798    2018-10-28  2018-11-28   292.3439  2018-11-26   \n",
      "150732       10     3225231    2018-04-30  2018-05-30   626.5648  2018-05-30   \n",
      "946370       11     3380646    2018-05-13  2018-06-13   534.8343  2018-06-11   \n",
      "675075       12     2814164    2018-03-29  2018-04-29  1163.0256  2018-04-29   \n",
      "630819       13     2528256    2018-03-05  2018-04-05   534.5797  2018-04-04   \n",
      "919082       14     3288890    2018-05-05  2018-06-05   201.4567  2018-06-05   \n",
      "506399       15     2505522    2018-03-04  2018-04-04   331.9659  2018-04-04   \n",
      "831077       16     5144121    2018-12-18  2019-01-18  1937.9945  2019-01-16   \n",
      "812892       17     5004076    2018-11-28  2018-12-28   303.4565  2018-12-26   \n",
      "685133       18     3594835    2018-06-01  2018-07-01  1137.8420  2018-07-01   \n",
      "363199       19     3062286    2018-04-17  2018-05-17  1411.9053  2018-05-17   \n",
      "\n",
      "        repay_amt  \n",
      "716258   634.1695  \n",
      "699724   927.0431  \n",
      "612838    509.396  \n",
      "723079   634.1695  \n",
      "347041  1013.0686  \n",
      "5856     412.8005  \n",
      "81254   4036.6015  \n",
      "753040         \\N  \n",
      "726131  1269.3415  \n",
      "887121   292.3439  \n",
      "150732   626.5648  \n",
      "946370   534.8343  \n",
      "675075  1163.0256  \n",
      "630819   534.5797  \n",
      "919082   201.4567  \n",
      "506399   331.9659  \n",
      "831077  1937.9945  \n",
      "812892   303.4565  \n",
      "685133   1137.842  \n",
      "363199  1411.9053  \n"
     ]
    }
   ],
   "source": [
    "print(sort_train.head(20))"
   ]
  },
  {
   "cell_type": "code",
   "execution_count": 0,
   "metadata": {
    "colab": {},
    "colab_type": "code",
    "id": "mjgqqYquJf5f"
   },
   "outputs": [],
   "source": [
    "sort_train_by_listid=train.sort_values(by='listing_id')"
   ]
  },
  {
   "cell_type": "code",
   "execution_count": 0,
   "metadata": {
    "colab": {
     "base_uri": "https://localhost:8080/",
     "height": 791
    },
    "colab_type": "code",
    "executionInfo": {
     "elapsed": 1165,
     "status": "ok",
     "timestamp": 1561290264837,
     "user": {
      "displayName": "陶士来",
      "photoUrl": "",
      "userId": "08104502188577818611"
     },
     "user_tz": -480
    },
    "id": "SVdnCL3PJp6P",
    "outputId": "8a42c9f7-40f8-493a-8673-b497b8ee84cb"
   },
   "outputs": [
    {
     "name": "stdout",
     "output_type": "stream",
     "text": [
      "        user_id  listing_id auditing_date    due_date   due_amt  repay_date  \\\n",
      "395543   438081     1873193    2018-01-01  2018-02-01   97.3003  2018-01-28   \n",
      "864992   679097     1873199    2018-01-01  2018-02-01  200.8172  2018-01-04   \n",
      "404472   633241     1873200    2018-01-01  2018-02-01  127.0628          \\N   \n",
      "271760   498924     1873205    2018-01-01  2018-02-01  226.6526  2018-02-01   \n",
      "439912   342463     1873207    2018-01-01  2018-02-01  125.9181  2018-02-01   \n",
      "466469   297792     1873212    2018-01-01  2018-02-01  163.3767  2018-01-31   \n",
      "237865   711380     1873215    2018-01-01  2018-02-01  133.9311  2018-01-26   \n",
      "639101   276089     1873220    2018-01-01  2018-02-01  267.8622  2018-01-30   \n",
      "582993     8808     1873221    2018-01-01  2018-02-01  169.4171  2018-02-01   \n",
      "393029   137332     1873223    2018-01-01  2018-02-01  116.7604  2018-01-30   \n",
      "916595    84259     1873224    2018-01-01  2018-02-01  383.4779  2018-01-31   \n",
      "475342   499298     1873232    2018-01-01  2018-02-01  163.3767  2018-02-01   \n",
      "932263   617029     1873236    2018-01-01  2018-02-01  209.3264  2018-02-01   \n",
      "922248   730996     1873237    2018-01-01  2018-02-01  171.7065          \\N   \n",
      "706001   347681     1873249    2018-01-01  2018-02-01  146.5229          \\N   \n",
      "368651   305165     1873250    2018-01-01  2018-02-01  380.0438          \\N   \n",
      "520933   290552     1873257    2018-01-01  2018-02-01  122.4840  2018-01-29   \n",
      "530054   210137     1873259    2018-01-01  2018-02-01  144.6564  2018-01-26   \n",
      "243139   721102     1873262    2018-01-01  2018-02-01   92.0122  2018-02-01   \n",
      "395387   654495     1873266    2018-01-01  2018-02-01  195.7454  2018-01-21   \n",
      "\n",
      "       repay_amt  \n",
      "395543   97.3003  \n",
      "864992  200.8172  \n",
      "404472        \\N  \n",
      "271760  226.6526  \n",
      "439912  125.9181  \n",
      "466469  163.3767  \n",
      "237865  133.9311  \n",
      "639101  267.8622  \n",
      "582993  169.4171  \n",
      "393029  116.7604  \n",
      "916595  383.4779  \n",
      "475342  163.3767  \n",
      "932263  209.3264  \n",
      "922248        \\N  \n",
      "706001        \\N  \n",
      "368651        \\N  \n",
      "520933   122.484  \n",
      "530054  144.6564  \n",
      "243139   92.0122  \n",
      "395387  195.7454  \n"
     ]
    }
   ],
   "source": [
    "print(sort_train_by_listid.head(20))"
   ]
  },
  {
   "cell_type": "code",
   "execution_count": 0,
   "metadata": {
    "colab": {},
    "colab_type": "code",
    "id": "eqiuPD92YHFo"
   },
   "outputs": [],
   "source": [
    "sort_user_info=user_info.sort_values(by='user_id')"
   ]
  },
  {
   "cell_type": "code",
   "execution_count": 0,
   "metadata": {
    "colab": {
     "base_uri": "https://localhost:8080/",
     "height": 431
    },
    "colab_type": "code",
    "executionInfo": {
     "elapsed": 623,
     "status": "ok",
     "timestamp": 1561261123605,
     "user": {
      "displayName": "陶士来",
      "photoUrl": "",
      "userId": "08104502188577818611"
     },
     "user_tz": -480
    },
    "id": "QXsN3C0oaeAT",
    "outputId": "924d834e-af32-405c-b099-7f650341cef6"
   },
   "outputs": [
    {
     "name": "stdout",
     "output_type": "stream",
     "text": [
      "        user_id  reg_mon gender  age cell_province id_province id_city  \\\n",
      "423710        1  2008-03      男   35           c22         c31  c31067   \n",
      "468220        2  2008-03      男   46           c09         c09  c09205   \n",
      "245236        3  2008-03      男   35           c22         c05  c05126   \n",
      "233132        4  2008-04      男   36           c17         c17  c17246   \n",
      "953223        5  2008-04      男   45           c04         c27  c27120   \n",
      "611348        6  2008-04      男   36           c14         c14  c14027   \n",
      "783710        7  2008-04      男   38           c05         c05  c05021   \n",
      "241066        8  2008-04      男   36           c04         c04  c04152   \n",
      "243463        8  2008-04      男   35           c04         c04  c04152   \n",
      "815086        9  2008-04      男   34           c05         c05  c05169   \n",
      "\n",
      "        insertdate  \n",
      "423710  2018-12-16  \n",
      "468220  2018-10-04  \n",
      "245236  2018-06-05  \n",
      "233132  2018-01-13  \n",
      "953223  2019-02-17  \n",
      "611348  2018-04-03  \n",
      "783710  2018-06-12  \n",
      "241066  2019-02-01  \n",
      "243463  2018-07-18  \n",
      "815086  2018-10-27  \n"
     ]
    }
   ],
   "source": [
    "print(sort_user_info.head(10))#用户信息可能发生变更，表中同一用户可能存在多条数据  ##记录变更次数作为特征"
   ]
  },
  {
   "cell_type": "code",
   "execution_count": 0,
   "metadata": {
    "colab": {},
    "colab_type": "code",
    "id": "wAwTtyk4aiVs"
   },
   "outputs": [],
   "source": [
    "sort_user_taglist=user_taglist.sort_values(by='user_id')"
   ]
  },
  {
   "cell_type": "code",
   "execution_count": 0,
   "metadata": {
    "colab": {
     "base_uri": "https://localhost:8080/",
     "height": 395
    },
    "colab_type": "code",
    "executionInfo": {
     "elapsed": 835,
     "status": "ok",
     "timestamp": 1561261343202,
     "user": {
      "displayName": "陶士来",
      "photoUrl": "",
      "userId": "08104502188577818611"
     },
     "user_tz": -480
    },
    "id": "sBMTW9AcbRYs",
    "outputId": "42092133-b201-4903-ad48-8193c0fdc217"
   },
   "outputs": [
    {
     "name": "stdout",
     "output_type": "stream",
     "text": [
      "        user_id                                            taglist  insertdate\n",
      "88108         2  2017|4853|3345|1401|320|727|3703|554|1804|2139...  2018-10-04\n",
      "321635        4  323|683|2250|436|1288|1044|1876|181|357|50|365...  2018-01-13\n",
      "221336        5  1868|2580|483|1303|904|3604|4028|2049|196|3551...  2019-02-17\n",
      "133862        7  2005|271|2365|2216|933|1804|1788|719|2572|469|...  2018-06-12\n",
      "502184        9  2710|1911|3504|3574|864|4688|127|2642|2127|420...  2018-10-27\n",
      "501338        9  5852|3703|287|5762|5539|5465|4207|3574|3519|11...  2018-11-05\n",
      "386047       10  1183|2492|2049|472|176|592|4703|266|595|721|31...  2018-04-29\n",
      "429398       12  2017|1804|883|631|2365|552|1178|970|1952|2436|...  2018-03-28\n",
      "273693       13  2809|638|1820|550|20|271|4938|2026|1697|1395|1...  2018-03-04\n",
      "570753       15  2047|141|1863|325|4185|58|1127|4852|4766|620|4...  2018-03-03\n",
      "330097       17  411|1255|5539|287|3017|1280|127|305|418|3519|1...  2018-11-27\n",
      "116627       18  2018|1729|3844|2443|1979|3219|1769|1900|284|39...  2018-05-31\n",
      "165135       20  2642|1100|4703|2199|4207|686|3200|3461|1178|52...  2019-02-14\n",
      "44968        22  316|4317|3338|3336|5269|3461|1100|4834|4824|42...  2019-02-25\n",
      "614741       24  323|1703|2208|388|1919|715|1759|340|2164|1731|...  2018-06-09\n",
      "2816         24  2216|2017|5696|70|727|1178|634|193|283|1750|63...  2019-03-11\n",
      "158829       26  3498|50|1900|2755|1203|1720|4332|4759|683|4674...  2018-07-04\n",
      "74612        29  1387|1784|4488|2715|4874|449|2869|141|5848|273...  2019-03-08\n",
      "227880       31  621|2092|4193|436|245|1942|4706|4780|1458|802|...  2018-03-31\n",
      "158525       32  5151|320|2365|1178|2017|4792|1001|421|2313|180...  2018-08-12\n"
     ]
    }
   ],
   "source": [
    "print(sort_user_taglist.head(20))#用户标签可能发生变更，表中同一用户可能存在多条数据；若在表中无法查到用户标签信息，则表示该用户标签信息未知。"
   ]
  },
  {
   "cell_type": "code",
   "execution_count": 0,
   "metadata": {
    "colab": {},
    "colab_type": "code",
    "id": "rDTbkyrcbVKo"
   },
   "outputs": [],
   "source": [
    "sort_user_behavior_logs=user_behavior_logs.sort_values(by='user_id')"
   ]
  },
  {
   "cell_type": "code",
   "execution_count": 0,
   "metadata": {
    "colab": {
     "base_uri": "https://localhost:8080/",
     "height": 35
    },
    "colab_type": "code",
    "executionInfo": {
     "elapsed": 669,
     "status": "ok",
     "timestamp": 1561261673947,
     "user": {
      "displayName": "陶士来",
      "photoUrl": "",
      "userId": "08104502188577818611"
     },
     "user_tz": -480
    },
    "id": "elaV6-cRcllY",
    "outputId": "252b6bef-428a-4e38-aaef-eefb05fe49a5"
   },
   "outputs": [
    {
     "name": "stdout",
     "output_type": "stream",
     "text": [
      "(55781271, 3)\n"
     ]
    }
   ],
   "source": [
    "print(sort_user_behavior_logs.shape)"
   ]
  },
  {
   "cell_type": "code",
   "execution_count": 0,
   "metadata": {
    "colab": {
     "base_uri": "https://localhost:8080/",
     "height": 35
    },
    "colab_type": "code",
    "executionInfo": {
     "elapsed": 883,
     "status": "ok",
     "timestamp": 1561261911411,
     "user": {
      "displayName": "陶士来",
      "photoUrl": "",
      "userId": "08104502188577818611"
     },
     "user_tz": -480
    },
    "id": "s7iJgoOVdSvV",
    "outputId": "48ce6dc8-ae09-4e94-ea03-46cb089b6757"
   },
   "outputs": [
    {
     "name": "stdout",
     "output_type": "stream",
     "text": [
      "920161\n"
     ]
    }
   ],
   "source": [
    "print(sort_user_behavior_logs['user_id'].nunique())"
   ]
  },
  {
   "cell_type": "code",
   "execution_count": 0,
   "metadata": {
    "colab": {},
    "colab_type": "code",
    "id": "iiDdUtSPcqRp"
   },
   "outputs": [],
   "source": []
  },
  {
   "cell_type": "code",
   "execution_count": 0,
   "metadata": {
    "colab": {
     "base_uri": "https://localhost:8080/",
     "height": 395
    },
    "colab_type": "code",
    "executionInfo": {
     "elapsed": 1054,
     "status": "ok",
     "timestamp": 1561290516099,
     "user": {
      "displayName": "陶士来",
      "photoUrl": "",
      "userId": "08104502188577818611"
     },
     "user_tz": -480
    },
    "id": "N5PPIA1Kb6iN",
    "outputId": "64f9f8bc-8a78-402d-80be-a966bcd85f6a"
   },
   "outputs": [
    {
     "name": "stdout",
     "output_type": "stream",
     "text": [
      "          user_id        behavior_time  behavior_type\n",
      "36614258        1  2018-08-11 20:37:46              1\n",
      "36535106        1  2018-07-04 17:29:50              3\n",
      "36535100        1  2018-07-04 17:29:47              3\n",
      "36535096        1  2018-07-04 17:29:47              3\n",
      "36535094        1  2018-07-04 17:29:47              3\n",
      "36535093        1  2018-07-04 17:29:47              3\n",
      "36535092        1  2018-07-04 17:29:50              3\n",
      "36535088        1  2018-07-04 17:30:44              3\n",
      "36535085        1  2018-07-04 17:29:47              3\n",
      "36535083        1  2018-07-04 17:29:47              3\n",
      "36535107        1  2018-07-04 17:29:50              3\n",
      "36535082        1  2018-07-04 17:29:47              3\n",
      "36535075        1  2018-07-04 17:29:47              3\n",
      "36535074        1  2018-07-04 17:29:47              3\n",
      "36520284        1  2018-08-09 16:09:10              1\n",
      "36406585        1  2018-09-27 12:55:38              1\n",
      "36406838        1  2018-09-27 12:55:44              1\n",
      "36523169        1  2018-07-02 14:08:13              1\n",
      "36595049        1  2018-07-04 17:29:09              1\n",
      "36654271        1  2018-07-11 19:18:35              1\n"
     ]
    }
   ],
   "source": [
    "print(sort_user_behavior_logs.head(20))#相同用户的相同行为在同一秒内可能出现多条数据。###这样的数据要去重"
   ]
  },
  {
   "cell_type": "code",
   "execution_count": 0,
   "metadata": {
    "colab": {},
    "colab_type": "code",
    "id": "mtJXsgdtcEW5"
   },
   "outputs": [],
   "source": []
  },
  {
   "cell_type": "code",
   "execution_count": 0,
   "metadata": {
    "colab": {},
    "colab_type": "code",
    "id": "g7gB5zdPZCMg"
   },
   "outputs": [],
   "source": [
    "train_df = pd.read_csv(path+'train.csv', parse_dates=['auditing_date', 'due_date', 'repay_date'])\n",
    "\n"
   ]
  },
  {
   "cell_type": "code",
   "execution_count": 0,
   "metadata": {
    "colab": {},
    "colab_type": "code",
    "id": "g4hsK5CTZtnw"
   },
   "outputs": [],
   "source": [
    "train_df['repay_date'] = train_df[['due_date', 'repay_date']].apply(\n",
    "    lambda x: x['repay_date'] if x['repay_date'] != '\\\\N' else x['due_date'], axis=1\n",
    ")"
   ]
  },
  {
   "cell_type": "code",
   "execution_count": 0,
   "metadata": {
    "colab": {},
    "colab_type": "code",
    "id": "FSeorI0TZ_-L"
   },
   "outputs": [],
   "source": [
    "train_df['repay_amt'] = train_df['repay_amt'].apply(lambda x: x if x != '\\\\N' else 0).astype('float32')\n",
    "train_df['label'] = (train_df['repay_date'] - train_df['auditing_date']).dt.days\n"
   ]
  },
  {
   "cell_type": "code",
   "execution_count": 0,
   "metadata": {
    "colab": {
     "base_uri": "https://localhost:8080/",
     "height": 251
    },
    "colab_type": "code",
    "executionInfo": {
     "elapsed": 1138,
     "status": "ok",
     "timestamp": 1561294757827,
     "user": {
      "displayName": "陶士来",
      "photoUrl": "",
      "userId": "08104502188577818611"
     },
     "user_tz": -480
    },
    "id": "mpdOUznAaSie",
    "outputId": "abcaaa68-58a1-497d-90ff-5243da6ccb10"
   },
   "outputs": [
    {
     "name": "stdout",
     "output_type": "stream",
     "text": [
      "    user_id  listing_id auditing_date   due_date   due_amt repay_date  \\\n",
      "2    404196     2355665    2018-02-18 2018-03-18  307.9270 2018-03-18   \n",
      "9    757631     4509276    2018-09-23 2018-10-23  394.3774 2018-10-23   \n",
      "20   279960     3220453    2018-04-30 2018-05-30  320.5188 2018-05-30   \n",
      "27   175815     2602604    2018-03-12 2018-04-12  486.1024 2018-04-12   \n",
      "44   519357     4511127    2018-09-23 2018-10-23  199.7496 2018-10-23   \n",
      "\n",
      "    repay_amt  label  \n",
      "2         0.0     28  \n",
      "9         0.0     30  \n",
      "20        0.0     30  \n",
      "27        0.0     31  \n",
      "44        0.0     30  \n"
     ]
    }
   ],
   "source": [
    "print(train_df[train_df['repay_amt']==0].head())#此时就是刚才定义的，未还款时将应还款时间赋值成实际还款时间了"
   ]
  },
  {
   "cell_type": "code",
   "execution_count": 0,
   "metadata": {
    "colab": {},
    "colab_type": "code",
    "id": "sXIu4hcDaVbH"
   },
   "outputs": [],
   "source": [
    "train_df.loc[train_df['repay_amt'] == 0, 'label'] = 32"
   ]
  },
  {
   "cell_type": "code",
   "execution_count": 0,
   "metadata": {
    "colab": {
     "base_uri": "https://localhost:8080/",
     "height": 251
    },
    "colab_type": "code",
    "executionInfo": {
     "elapsed": 1079,
     "status": "ok",
     "timestamp": 1561294831518,
     "user": {
      "displayName": "陶士来",
      "photoUrl": "",
      "userId": "08104502188577818611"
     },
     "user_tz": -480
    },
    "id": "nY-f5wtha4z4",
    "outputId": "78549e12-3dea-4345-dfc5-28feb37a59bd"
   },
   "outputs": [
    {
     "name": "stdout",
     "output_type": "stream",
     "text": [
      "    user_id  listing_id auditing_date   due_date   due_amt repay_date  \\\n",
      "2    404196     2355665    2018-02-18 2018-03-18  307.9270 2018-03-18   \n",
      "9    757631     4509276    2018-09-23 2018-10-23  394.3774 2018-10-23   \n",
      "20   279960     3220453    2018-04-30 2018-05-30  320.5188 2018-05-30   \n",
      "27   175815     2602604    2018-03-12 2018-04-12  486.1024 2018-04-12   \n",
      "44   519357     4511127    2018-09-23 2018-10-23  199.7496 2018-10-23   \n",
      "\n",
      "    repay_amt  label  \n",
      "2         0.0     32  \n",
      "9         0.0     32  \n",
      "20        0.0     32  \n",
      "27        0.0     32  \n",
      "44        0.0     32  \n"
     ]
    }
   ],
   "source": [
    "print(train_df[train_df['label']==32].head())"
   ]
  },
  {
   "cell_type": "code",
   "execution_count": 0,
   "metadata": {
    "colab": {},
    "colab_type": "code",
    "id": "W9rPjmSkbHsn"
   },
   "outputs": [],
   "source": [
    "import gc\n",
    "clf_labels = train_df['label'].values\n",
    "amt_labels = train_df['repay_amt'].values\n",
    "del train_df['label'], train_df['repay_amt'], train_df['repay_date']\n",
    "gc.collect()\n",
    "train_due_amt_df = train_df[['due_amt']]\n",
    "train_num = train_df.shape[0]"
   ]
  },
  {
   "cell_type": "code",
   "execution_count": 0,
   "metadata": {
    "colab": {},
    "colab_type": "code",
    "id": "41CarlzQiE55"
   },
   "outputs": [],
   "source": [
    "test_df = pd.read_csv(path+'test.csv', parse_dates=['auditing_date', 'due_date'])\n",
    "sub = test_df[['listing_id', 'auditing_date', 'due_amt']]\n",
    "df = pd.concat([train_df, test_df], axis=0, ignore_index=True)\n"
   ]
  },
  {
   "cell_type": "code",
   "execution_count": 0,
   "metadata": {
    "colab": {
     "base_uri": "https://localhost:8080/",
     "height": 359
    },
    "colab_type": "code",
    "executionInfo": {
     "elapsed": 1131,
     "status": "ok",
     "timestamp": 1561296931682,
     "user": {
      "displayName": "陶士来",
      "photoUrl": "",
      "userId": "08104502188577818611"
     },
     "user_tz": -480
    },
    "id": "ho7I993-icSY",
    "outputId": "b8d13900-d687-44bb-b84a-71e1e5974d5b"
   },
   "outputs": [
    {
     "data": {
      "text/html": [
       "<div>\n",
       "<style scoped>\n",
       "    .dataframe tbody tr th:only-of-type {\n",
       "        vertical-align: middle;\n",
       "    }\n",
       "\n",
       "    .dataframe tbody tr th {\n",
       "        vertical-align: top;\n",
       "    }\n",
       "\n",
       "    .dataframe thead th {\n",
       "        text-align: right;\n",
       "    }\n",
       "</style>\n",
       "<table border=\"1\" class=\"dataframe\">\n",
       "  <thead>\n",
       "    <tr style=\"text-align: right;\">\n",
       "      <th></th>\n",
       "      <th>user_id</th>\n",
       "      <th>listing_id</th>\n",
       "      <th>auditing_date</th>\n",
       "      <th>due_date</th>\n",
       "      <th>due_amt</th>\n",
       "    </tr>\n",
       "  </thead>\n",
       "  <tbody>\n",
       "    <tr>\n",
       "      <th>861181</th>\n",
       "      <td>778706</td>\n",
       "      <td>4521876</td>\n",
       "      <td>2018-09-25</td>\n",
       "      <td>2018-10-25</td>\n",
       "      <td>447.3024</td>\n",
       "    </tr>\n",
       "    <tr>\n",
       "      <th>291831</th>\n",
       "      <td>114226</td>\n",
       "      <td>3366801</td>\n",
       "      <td>2018-05-11</td>\n",
       "      <td>2018-06-11</td>\n",
       "      <td>269.9802</td>\n",
       "    </tr>\n",
       "    <tr>\n",
       "      <th>673289</th>\n",
       "      <td>185872</td>\n",
       "      <td>2407641</td>\n",
       "      <td>2018-02-24</td>\n",
       "      <td>2018-03-24</td>\n",
       "      <td>340.2717</td>\n",
       "    </tr>\n",
       "    <tr>\n",
       "      <th>767063</th>\n",
       "      <td>210427</td>\n",
       "      <td>2772029</td>\n",
       "      <td>2018-03-26</td>\n",
       "      <td>2018-04-26</td>\n",
       "      <td>192.3113</td>\n",
       "    </tr>\n",
       "    <tr>\n",
       "      <th>71410</th>\n",
       "      <td>50760</td>\n",
       "      <td>3083894</td>\n",
       "      <td>2018-04-19</td>\n",
       "      <td>2018-05-19</td>\n",
       "      <td>1337.0216</td>\n",
       "    </tr>\n",
       "    <tr>\n",
       "      <th>648985</th>\n",
       "      <td>530469</td>\n",
       "      <td>4023219</td>\n",
       "      <td>2018-07-18</td>\n",
       "      <td>2018-08-18</td>\n",
       "      <td>634.1695</td>\n",
       "    </tr>\n",
       "    <tr>\n",
       "      <th>409724</th>\n",
       "      <td>510715</td>\n",
       "      <td>1934316</td>\n",
       "      <td>2018-01-07</td>\n",
       "      <td>2018-02-07</td>\n",
       "      <td>299.9140</td>\n",
       "    </tr>\n",
       "    <tr>\n",
       "      <th>778986</th>\n",
       "      <td>5119</td>\n",
       "      <td>3477764</td>\n",
       "      <td>2018-05-21</td>\n",
       "      <td>2018-06-21</td>\n",
       "      <td>144.2334</td>\n",
       "    </tr>\n",
       "    <tr>\n",
       "      <th>406892</th>\n",
       "      <td>634327</td>\n",
       "      <td>2085971</td>\n",
       "      <td>2018-01-23</td>\n",
       "      <td>2018-02-23</td>\n",
       "      <td>97.3003</td>\n",
       "    </tr>\n",
       "    <tr>\n",
       "      <th>877315</th>\n",
       "      <td>273347</td>\n",
       "      <td>3011605</td>\n",
       "      <td>2018-04-13</td>\n",
       "      <td>2018-05-13</td>\n",
       "      <td>385.8409</td>\n",
       "    </tr>\n",
       "  </tbody>\n",
       "</table>\n",
       "</div>"
      ],
      "text/plain": [
       "        user_id  listing_id auditing_date   due_date    due_amt\n",
       "861181   778706     4521876    2018-09-25 2018-10-25   447.3024\n",
       "291831   114226     3366801    2018-05-11 2018-06-11   269.9802\n",
       "673289   185872     2407641    2018-02-24 2018-03-24   340.2717\n",
       "767063   210427     2772029    2018-03-26 2018-04-26   192.3113\n",
       "71410     50760     3083894    2018-04-19 2018-05-19  1337.0216\n",
       "648985   530469     4023219    2018-07-18 2018-08-18   634.1695\n",
       "409724   510715     1934316    2018-01-07 2018-02-07   299.9140\n",
       "778986     5119     3477764    2018-05-21 2018-06-21   144.2334\n",
       "406892   634327     2085971    2018-01-23 2018-02-23    97.3003\n",
       "877315   273347     3011605    2018-04-13 2018-05-13   385.8409"
      ]
     },
     "execution_count": 34,
     "metadata": {
      "tags": []
     },
     "output_type": "execute_result"
    }
   ],
   "source": [
    "df.sample(10)"
   ]
  },
  {
   "cell_type": "code",
   "execution_count": 0,
   "metadata": {
    "colab": {
     "base_uri": "https://localhost:8080/",
     "height": 89
    },
    "colab_type": "code",
    "executionInfo": {
     "elapsed": 3793,
     "status": "ok",
     "timestamp": 1561533766319,
     "user": {
      "displayName": "陶士来",
      "photoUrl": "",
      "userId": "08104502188577818611"
     },
     "user_tz": -480
    },
    "id": "wq80PQpwqiTN",
    "outputId": "c4f7b059-556d-4df7-b1a4-8fe9a2cfa047"
   },
   "outputs": [
    {
     "name": "stdout",
     "output_type": "stream",
     "text": [
      "001_规则判断记录.ipynb          paipaidai_rule.py\n",
      "1.baseline.py                   拍拍贷常见问题.doc\n",
      "GBDT.py                         挺无聊的一个代码lb_8907.163500.py\n",
      "MagicMirror_baseline_33分类.py  简单的EDA及规则.ipynb\n"
     ]
    }
   ],
   "source": [
    "\n"
   ]
  },
  {
   "cell_type": "code",
   "execution_count": 0,
   "metadata": {
    "colab": {},
    "colab_type": "code",
    "id": "XtBKXKPgjDiO"
   },
   "outputs": [],
   "source": [
    "from lightgbm.sklearn import LGBMClassifier\n"
   ]
  },
  {
   "cell_type": "code",
   "execution_count": 0,
   "metadata": {
    "colab": {},
    "colab_type": "code",
    "id": "_7Yt7zHVvDlP"
   },
   "outputs": [],
   "source": [
    "clf = LGBMClassifier(\n",
    "    learning_rate=0.05,\n",
    "    n_estimators=10000,\n",
    "    subsample=0.8,\n",
    "    subsample_freq=1,\n",
    "    colsample_bytree=0.8,\n",
    "    random_state=2019,\n",
    "     device='gpu',\n",
    ")"
   ]
  },
  {
   "cell_type": "code",
   "execution_count": 0,
   "metadata": {
    "colab": {},
    "colab_type": "code",
    "id": "QN8Uue-evuZw"
   },
   "outputs": [],
   "source": [
    "trn_x=[[1,2,3],[2,3,4]]\n",
    "trn_y=[0,1]"
   ]
  },
  {
   "cell_type": "code",
   "execution_count": 0,
   "metadata": {
    "colab": {
     "base_uri": "https://localhost:8080/",
     "height": 395
    },
    "colab_type": "code",
    "executionInfo": {
     "elapsed": 952,
     "status": "error",
     "timestamp": 1561533716185,
     "user": {
      "displayName": "陶士来",
      "photoUrl": "",
      "userId": "08104502188577818611"
     },
     "user_tz": -480
    },
    "id": "NwyOPtsnvIRA",
    "outputId": "da95a247-b488-4b33-e346-1ed7a11a23e8"
   },
   "outputs": [
    {
     "ename": "LightGBMError",
     "evalue": "ignored",
     "output_type": "error",
     "traceback": [
      "\u001b[0;31m---------------------------------------------------------------------------\u001b[0m",
      "\u001b[0;31mLightGBMError\u001b[0m                             Traceback (most recent call last)",
      "\u001b[0;32m<ipython-input-13-3560ace94e97>\u001b[0m in \u001b[0;36m<module>\u001b[0;34m()\u001b[0m\n\u001b[1;32m      2\u001b[0m         \u001b[0mtrn_x\u001b[0m\u001b[0;34m,\u001b[0m \u001b[0mtrn_y\u001b[0m\u001b[0;34m,\u001b[0m\u001b[0;34m\u001b[0m\u001b[0;34m\u001b[0m\u001b[0m\n\u001b[1;32m      3\u001b[0m         \u001b[0meval_set\u001b[0m\u001b[0;34m=\u001b[0m\u001b[0;34m[\u001b[0m\u001b[0;34m(\u001b[0m\u001b[0mtrn_x\u001b[0m\u001b[0;34m,\u001b[0m \u001b[0mtrn_y\u001b[0m\u001b[0;34m)\u001b[0m\u001b[0;34m,\u001b[0m \u001b[0;34m(\u001b[0m\u001b[0mtrn_x\u001b[0m\u001b[0;34m,\u001b[0m \u001b[0mtrn_y\u001b[0m\u001b[0;34m)\u001b[0m\u001b[0;34m]\u001b[0m\u001b[0;34m,\u001b[0m\u001b[0;34m\u001b[0m\u001b[0;34m\u001b[0m\u001b[0m\n\u001b[0;32m----> 4\u001b[0;31m         \u001b[0mearly_stopping_rounds\u001b[0m\u001b[0;34m=\u001b[0m\u001b[0;36m100\u001b[0m\u001b[0;34m,\u001b[0m \u001b[0mverbose\u001b[0m\u001b[0;34m=\u001b[0m\u001b[0;36m5\u001b[0m\u001b[0;34m\u001b[0m\u001b[0;34m\u001b[0m\u001b[0m\n\u001b[0m\u001b[1;32m      5\u001b[0m     )\n",
      "\u001b[0;32m/usr/local/lib/python3.6/dist-packages/lightgbm/sklearn.py\u001b[0m in \u001b[0;36mfit\u001b[0;34m(self, X, y, sample_weight, init_score, eval_set, eval_names, eval_sample_weight, eval_class_weight, eval_init_score, eval_metric, early_stopping_rounds, verbose, feature_name, categorical_feature, callbacks)\u001b[0m\n\u001b[1;32m    742\u001b[0m                                         \u001b[0mverbose\u001b[0m\u001b[0;34m=\u001b[0m\u001b[0mverbose\u001b[0m\u001b[0;34m,\u001b[0m \u001b[0mfeature_name\u001b[0m\u001b[0;34m=\u001b[0m\u001b[0mfeature_name\u001b[0m\u001b[0;34m,\u001b[0m\u001b[0;34m\u001b[0m\u001b[0;34m\u001b[0m\u001b[0m\n\u001b[1;32m    743\u001b[0m                                         \u001b[0mcategorical_feature\u001b[0m\u001b[0;34m=\u001b[0m\u001b[0mcategorical_feature\u001b[0m\u001b[0;34m,\u001b[0m\u001b[0;34m\u001b[0m\u001b[0;34m\u001b[0m\u001b[0m\n\u001b[0;32m--> 744\u001b[0;31m                                         callbacks=callbacks)\n\u001b[0m\u001b[1;32m    745\u001b[0m         \u001b[0;32mreturn\u001b[0m \u001b[0mself\u001b[0m\u001b[0;34m\u001b[0m\u001b[0;34m\u001b[0m\u001b[0m\n\u001b[1;32m    746\u001b[0m \u001b[0;34m\u001b[0m\u001b[0m\n",
      "\u001b[0;32m/usr/local/lib/python3.6/dist-packages/lightgbm/sklearn.py\u001b[0m in \u001b[0;36mfit\u001b[0;34m(self, X, y, sample_weight, init_score, group, eval_set, eval_names, eval_sample_weight, eval_class_weight, eval_init_score, eval_group, eval_metric, early_stopping_rounds, verbose, feature_name, categorical_feature, callbacks)\u001b[0m\n\u001b[1;32m    542\u001b[0m                               \u001b[0mverbose_eval\u001b[0m\u001b[0;34m=\u001b[0m\u001b[0mverbose\u001b[0m\u001b[0;34m,\u001b[0m \u001b[0mfeature_name\u001b[0m\u001b[0;34m=\u001b[0m\u001b[0mfeature_name\u001b[0m\u001b[0;34m,\u001b[0m\u001b[0;34m\u001b[0m\u001b[0;34m\u001b[0m\u001b[0m\n\u001b[1;32m    543\u001b[0m                               \u001b[0mcategorical_feature\u001b[0m\u001b[0;34m=\u001b[0m\u001b[0mcategorical_feature\u001b[0m\u001b[0;34m,\u001b[0m\u001b[0;34m\u001b[0m\u001b[0;34m\u001b[0m\u001b[0m\n\u001b[0;32m--> 544\u001b[0;31m                               callbacks=callbacks)\n\u001b[0m\u001b[1;32m    545\u001b[0m \u001b[0;34m\u001b[0m\u001b[0m\n\u001b[1;32m    546\u001b[0m         \u001b[0;32mif\u001b[0m \u001b[0mevals_result\u001b[0m\u001b[0;34m:\u001b[0m\u001b[0;34m\u001b[0m\u001b[0;34m\u001b[0m\u001b[0m\n",
      "\u001b[0;32m/usr/local/lib/python3.6/dist-packages/lightgbm/engine.py\u001b[0m in \u001b[0;36mtrain\u001b[0;34m(params, train_set, num_boost_round, valid_sets, valid_names, fobj, feval, init_model, feature_name, categorical_feature, early_stopping_rounds, evals_result, verbose_eval, learning_rates, keep_training_booster, callbacks)\u001b[0m\n\u001b[1;32m    195\u001b[0m     \u001b[0;31m# construct booster\u001b[0m\u001b[0;34m\u001b[0m\u001b[0;34m\u001b[0m\u001b[0;34m\u001b[0m\u001b[0m\n\u001b[1;32m    196\u001b[0m     \u001b[0;32mtry\u001b[0m\u001b[0;34m:\u001b[0m\u001b[0;34m\u001b[0m\u001b[0;34m\u001b[0m\u001b[0m\n\u001b[0;32m--> 197\u001b[0;31m         \u001b[0mbooster\u001b[0m \u001b[0;34m=\u001b[0m \u001b[0mBooster\u001b[0m\u001b[0;34m(\u001b[0m\u001b[0mparams\u001b[0m\u001b[0;34m=\u001b[0m\u001b[0mparams\u001b[0m\u001b[0;34m,\u001b[0m \u001b[0mtrain_set\u001b[0m\u001b[0;34m=\u001b[0m\u001b[0mtrain_set\u001b[0m\u001b[0;34m)\u001b[0m\u001b[0;34m\u001b[0m\u001b[0;34m\u001b[0m\u001b[0m\n\u001b[0m\u001b[1;32m    198\u001b[0m         \u001b[0;32mif\u001b[0m \u001b[0mis_valid_contain_train\u001b[0m\u001b[0;34m:\u001b[0m\u001b[0;34m\u001b[0m\u001b[0;34m\u001b[0m\u001b[0m\n\u001b[1;32m    199\u001b[0m             \u001b[0mbooster\u001b[0m\u001b[0;34m.\u001b[0m\u001b[0mset_train_data_name\u001b[0m\u001b[0;34m(\u001b[0m\u001b[0mtrain_data_name\u001b[0m\u001b[0;34m)\u001b[0m\u001b[0;34m\u001b[0m\u001b[0;34m\u001b[0m\u001b[0m\n",
      "\u001b[0;32m/usr/local/lib/python3.6/dist-packages/lightgbm/basic.py\u001b[0m in \u001b[0;36m__init__\u001b[0;34m(self, params, train_set, model_file, silent)\u001b[0m\n\u001b[1;32m   1552\u001b[0m                 \u001b[0mtrain_set\u001b[0m\u001b[0;34m.\u001b[0m\u001b[0mconstruct\u001b[0m\u001b[0;34m(\u001b[0m\u001b[0;34m)\u001b[0m\u001b[0;34m.\u001b[0m\u001b[0mhandle\u001b[0m\u001b[0;34m,\u001b[0m\u001b[0;34m\u001b[0m\u001b[0;34m\u001b[0m\u001b[0m\n\u001b[1;32m   1553\u001b[0m                 \u001b[0mc_str\u001b[0m\u001b[0;34m(\u001b[0m\u001b[0mparams_str\u001b[0m\u001b[0;34m)\u001b[0m\u001b[0;34m,\u001b[0m\u001b[0;34m\u001b[0m\u001b[0;34m\u001b[0m\u001b[0m\n\u001b[0;32m-> 1554\u001b[0;31m                 ctypes.byref(self.handle)))\n\u001b[0m\u001b[1;32m   1555\u001b[0m             \u001b[0;31m# save reference to data\u001b[0m\u001b[0;34m\u001b[0m\u001b[0;34m\u001b[0m\u001b[0;34m\u001b[0m\u001b[0m\n\u001b[1;32m   1556\u001b[0m             \u001b[0mself\u001b[0m\u001b[0;34m.\u001b[0m\u001b[0mtrain_set\u001b[0m \u001b[0;34m=\u001b[0m \u001b[0mtrain_set\u001b[0m\u001b[0;34m\u001b[0m\u001b[0;34m\u001b[0m\u001b[0m\n",
      "\u001b[0;32m/usr/local/lib/python3.6/dist-packages/lightgbm/basic.py\u001b[0m in \u001b[0;36m_safe_call\u001b[0;34m(ret)\u001b[0m\n\u001b[1;32m     44\u001b[0m     \"\"\"\n\u001b[1;32m     45\u001b[0m     \u001b[0;32mif\u001b[0m \u001b[0mret\u001b[0m \u001b[0;34m!=\u001b[0m \u001b[0;36m0\u001b[0m\u001b[0;34m:\u001b[0m\u001b[0;34m\u001b[0m\u001b[0;34m\u001b[0m\u001b[0m\n\u001b[0;32m---> 46\u001b[0;31m         \u001b[0;32mraise\u001b[0m \u001b[0mLightGBMError\u001b[0m\u001b[0;34m(\u001b[0m\u001b[0mdecode_string\u001b[0m\u001b[0;34m(\u001b[0m\u001b[0m_LIB\u001b[0m\u001b[0;34m.\u001b[0m\u001b[0mLGBM_GetLastError\u001b[0m\u001b[0;34m(\u001b[0m\u001b[0;34m)\u001b[0m\u001b[0;34m)\u001b[0m\u001b[0;34m)\u001b[0m\u001b[0;34m\u001b[0m\u001b[0;34m\u001b[0m\u001b[0m\n\u001b[0m\u001b[1;32m     47\u001b[0m \u001b[0;34m\u001b[0m\u001b[0m\n\u001b[1;32m     48\u001b[0m \u001b[0;34m\u001b[0m\u001b[0m\n",
      "\u001b[0;31mLightGBMError\u001b[0m: GPU Tree Learner was not enabled in this build.\nPlease recompile with CMake option -DUSE_GPU=1"
     ]
    }
   ],
   "source": [
    "clf.fit(\n",
    "        trn_x, trn_y, \n",
    "        eval_set=[(trn_x, trn_y), (trn_x, trn_y)],\n",
    "        early_stopping_rounds=100, verbose=5\n",
    "    )"
   ]
  },
  {
   "cell_type": "code",
   "execution_count": 0,
   "metadata": {
    "colab": {
     "base_uri": "https://localhost:8080/",
     "height": 251
    },
    "colab_type": "code",
    "executionInfo": {
     "elapsed": 1026,
     "status": "ok",
     "timestamp": 1561533832005,
     "user": {
      "displayName": "陶士来",
      "photoUrl": "",
      "userId": "08104502188577818611"
     },
     "user_tz": -480
    },
    "id": "cVijnNGmvRM2",
    "outputId": "f440c3d7-ed40-40e6-929b-ba986774769b"
   },
   "outputs": [
    {
     "name": "stdout",
     "output_type": "stream",
     "text": [
      "   user_id  listing_id auditing_date   due_date   due_amt  repay_date  \\\n",
      "0   748147     3163926    2018-04-25 2018-05-25   72.1167  2018-05-25   \n",
      "1   672952     3698760    2018-06-09 2018-07-09  258.7045  2018-07-08   \n",
      "2   404196     2355665    2018-02-18 2018-03-18  307.9270          \\N   \n",
      "3   342769     1994522    2018-01-13 2018-02-13  252.9809  2018-02-13   \n",
      "4   828139     3602352    2018-06-01 2018-07-01  107.6503  2018-06-25   \n",
      "\n",
      "  repay_amt  \n",
      "0   72.1167  \n",
      "1  258.7045  \n",
      "2        \\N  \n",
      "3  252.9809  \n",
      "4  107.6503  \n"
     ]
    }
   ],
   "source": [
    "####eda\n",
    "print(train.head())\n"
   ]
  },
  {
   "cell_type": "code",
   "execution_count": 0,
   "metadata": {
    "colab": {
     "base_uri": "https://localhost:8080/",
     "height": 251
    },
    "colab_type": "code",
    "executionInfo": {
     "elapsed": 2325,
     "status": "ok",
     "timestamp": 1561534144396,
     "user": {
      "displayName": "陶士来",
      "photoUrl": "",
      "userId": "08104502188577818611"
     },
     "user_tz": -480
    },
    "id": "E__yxnZCq1cD",
    "outputId": "642e6425-5153-475f-c277-ecf569f595ef"
   },
   "outputs": [
    {
     "name": "stdout",
     "output_type": "stream",
     "text": [
      "<class 'pandas.core.frame.DataFrame'>\n",
      "RangeIndex: 1000000 entries, 0 to 999999\n",
      "Data columns (total 7 columns):\n",
      "user_id          1000000 non-null int64\n",
      "listing_id       1000000 non-null int64\n",
      "auditing_date    1000000 non-null datetime64[ns]\n",
      "due_date         1000000 non-null datetime64[ns]\n",
      "due_amt          1000000 non-null float64\n",
      "repay_date       1000000 non-null object\n",
      "repay_amt        1000000 non-null object\n",
      "dtypes: datetime64[ns](2), float64(1), int64(2), object(2)\n",
      "memory usage: 162.4 MB\n",
      "None\n"
     ]
    }
   ],
   "source": [
    "print(train.info(memory_usage='deep'))"
   ]
  },
  {
   "cell_type": "code",
   "execution_count": 0,
   "metadata": {
    "colab": {
     "base_uri": "https://localhost:8080/",
     "height": 179
    },
    "colab_type": "code",
    "executionInfo": {
     "elapsed": 1024,
     "status": "ok",
     "timestamp": 1561535336899,
     "user": {
      "displayName": "陶士来",
      "photoUrl": "",
      "userId": "08104502188577818611"
     },
     "user_tz": -480
    },
    "id": "i4qH6P9Rq_IB",
    "outputId": "43e23af4-4eb2-4ab3-a8ae-af08a10eaed2"
   },
   "outputs": [
    {
     "name": "stdout",
     "output_type": "stream",
     "text": [
      "              user_id    listing_id         due_amt\n",
      "count  1000000.000000  1.000000e+06  1000000.000000\n",
      "mean    446177.855141  3.797037e+06      451.799866\n",
      "std     257534.686801  9.424460e+05      514.070251\n",
      "min          1.000000  1.873193e+06       17.453300\n",
      "25%     225120.750000  3.046201e+06      160.482407\n",
      "50%     444321.000000  3.832456e+06      286.740112\n",
      "75%     664508.250000  4.657050e+06      546.026794\n",
      "max     924400.000000  5.207722e+06    18827.017578\n"
     ]
    }
   ],
   "source": [
    "print(train.describe())"
   ]
  },
  {
   "cell_type": "code",
   "execution_count": 0,
   "metadata": {
    "colab": {},
    "colab_type": "code",
    "id": "3927hkxqrM8n"
   },
   "outputs": [],
   "source": [
    "##更改数据类型节省变量\n",
    "\n",
    "\n",
    "for each in ['user_id','listing_id']:\n",
    "  train[each]=train[each].astype('int32')##整型变量比字符串变量节省内存\n",
    "for each in ['due_amt']:\n",
    "  train[each]=train[each].astype('float32')\n"
   ]
  },
  {
   "cell_type": "code",
   "execution_count": 0,
   "metadata": {
    "colab": {},
    "colab_type": "code",
    "id": "ZKLIbVugtHaH"
   },
   "outputs": [],
   "source": []
  },
  {
   "cell_type": "code",
   "execution_count": 0,
   "metadata": {
    "colab": {
     "base_uri": "https://localhost:8080/",
     "height": 35
    },
    "colab_type": "code",
    "executionInfo": {
     "elapsed": 906,
     "status": "ok",
     "timestamp": 1561535425220,
     "user": {
      "displayName": "陶士来",
      "photoUrl": "",
      "userId": "08104502188577818611"
     },
     "user_tz": -480
    },
    "id": "2Y1CVjX9tK0Q",
    "outputId": "c6380ade-51f7-4f48-b2b0-513d1cfdadc5"
   },
   "outputs": [
    {
     "data": {
      "text/plain": [
       "(1000000, 7)"
      ]
     },
     "execution_count": 26,
     "metadata": {
      "tags": []
     },
     "output_type": "execute_result"
    }
   ],
   "source": [
    "train.shape"
   ]
  },
  {
   "cell_type": "code",
   "execution_count": 0,
   "metadata": {
    "colab": {
     "base_uri": "https://localhost:8080/",
     "height": 161
    },
    "colab_type": "code",
    "executionInfo": {
     "elapsed": 1030,
     "status": "ok",
     "timestamp": 1561535668401,
     "user": {
      "displayName": "陶士来",
      "photoUrl": "",
      "userId": "08104502188577818611"
     },
     "user_tz": -480
    },
    "id": "vt3Fft0Iw6b3",
    "outputId": "e70acf63-02cb-4058-f053-7bdd9534960d"
   },
   "outputs": [
    {
     "data": {
      "text/plain": [
       "user_id          117192\n",
       "listing_id       117192\n",
       "auditing_date    117192\n",
       "due_date         117192\n",
       "due_amt          117192\n",
       "repay_date       117192\n",
       "repay_amt        117192\n",
       "dtype: int64"
      ]
     },
     "execution_count": 31,
     "metadata": {
      "tags": []
     },
     "output_type": "execute_result"
    }
   ],
   "source": [
    "train[train['repay_date']=='\\\\N'].count()"
   ]
  },
  {
   "cell_type": "code",
   "execution_count": 0,
   "metadata": {
    "colab": {
     "base_uri": "https://localhost:8080/",
     "height": 35
    },
    "colab_type": "code",
    "executionInfo": {
     "elapsed": 883,
     "status": "ok",
     "timestamp": 1561535744448,
     "user": {
      "displayName": "陶士来",
      "photoUrl": "",
      "userId": "08104502188577818611"
     },
     "user_tz": -480
    },
    "id": "wcILhQ27xn2U",
    "outputId": "e7fd9530-b69a-4cea-b636-f35e28078121"
   },
   "outputs": [
    {
     "name": "stdout",
     "output_type": "stream",
     "text": [
      "0.117192\n"
     ]
    }
   ],
   "source": [
    "print(117192/1000000)##只有11.72%的标的没有还款，大部分标的都按时还款"
   ]
  },
  {
   "cell_type": "code",
   "execution_count": 0,
   "metadata": {
    "colab": {
     "base_uri": "https://localhost:8080/",
     "height": 1000
    },
    "colab_type": "code",
    "executionInfo": {
     "elapsed": 867,
     "status": "ok",
     "timestamp": 1561536558391,
     "user": {
      "displayName": "陶士来",
      "photoUrl": "",
      "userId": "08104502188577818611"
     },
     "user_tz": -480
    },
    "id": "HgjEA-NIyIYM",
    "outputId": "0879f75f-9065-4e3d-c757-285b70d03324"
   },
   "outputs": [
    {
     "name": "stdout",
     "output_type": "stream",
     "text": [
      "133893    0\n",
      "850134    0\n",
      "850132    0\n",
      "850131    0\n",
      "850130    0\n",
      "850128    0\n",
      "850127    0\n",
      "850126    0\n",
      "850125    0\n",
      "850123    0\n",
      "850122    0\n",
      "850121    0\n",
      "850120    0\n",
      "850119    0\n",
      "850080    0\n",
      "850077    0\n",
      "850264    0\n",
      "850033    0\n",
      "850046    0\n",
      "850045    0\n",
      "850044    0\n",
      "850043    0\n",
      "850135    0\n",
      "850042    0\n",
      "850136    0\n",
      "850138    0\n",
      "850105    0\n",
      "850104    0\n",
      "850103    0\n",
      "850102    0\n",
      "         ..\n",
      "241016    3\n",
      "189589    3\n",
      "643672    3\n",
      "672703    3\n",
      "696998    3\n",
      "331230    3\n",
      "284355    3\n",
      "264216    3\n",
      "371498    3\n",
      "262370    3\n",
      "551256    3\n",
      "434748    3\n",
      "434693    3\n",
      "86824     3\n",
      "627973    3\n",
      "129377    3\n",
      "44324     3\n",
      "48142     3\n",
      "741229    3\n",
      "83544     3\n",
      "623101    3\n",
      "804774    3\n",
      "593585    4\n",
      "319907    4\n",
      "260477    4\n",
      "259733    4\n",
      "794221    4\n",
      "434987    4\n",
      "271000    4\n",
      "571576    4\n",
      "Name: user_id, Length: 823732, dtype: int64\n"
     ]
    }
   ],
   "source": [
    "print(train[train['repay_date']=='\\\\N']['user_id'].value_counts().sort_values())"
   ]
  },
  {
   "cell_type": "code",
   "execution_count": 0,
   "metadata": {
    "colab": {
     "base_uri": "https://localhost:8080/",
     "height": 179
    },
    "colab_type": "code",
    "executionInfo": {
     "elapsed": 1129,
     "status": "ok",
     "timestamp": 1561536774786,
     "user": {
      "displayName": "陶士来",
      "photoUrl": "",
      "userId": "08104502188577818611"
     },
     "user_tz": -480
    },
    "id": "zwcM9PHvyvoP",
    "outputId": "2523f49e-66a7-42fb-e76e-421ac5b19b63"
   },
   "outputs": [
    {
     "name": "stdout",
     "output_type": "stream",
     "text": [
      "       user_id listing_id auditing_date   due_date     due_amt repay_date  \\\n",
      "274761  241016    4422293    2018-09-12 2018-10-12  833.143616         \\N   \n",
      "501054  241016    3989005    2018-07-13 2018-08-13  677.782715         \\N   \n",
      "610754  241016    4580505    2018-10-03 2018-11-03  332.915985         \\N   \n",
      "\n",
      "       repay_amt  \n",
      "274761        \\N  \n",
      "501054        \\N  \n",
      "610754        \\N  \n"
     ]
    }
   ],
   "source": [
    "print(train[train['user_id']==241016])"
   ]
  },
  {
   "cell_type": "code",
   "execution_count": 0,
   "metadata": {
    "colab": {
     "base_uri": "https://localhost:8080/",
     "height": 359
    },
    "colab_type": "code",
    "executionInfo": {
     "elapsed": 944,
     "status": "ok",
     "timestamp": 1561537015054,
     "user": {
      "displayName": "陶士来",
      "photoUrl": "",
      "userId": "08104502188577818611"
     },
     "user_tz": -480
    },
    "id": "_3Q7DCyB0_Es",
    "outputId": "cbb816a5-ca2c-4e10-af56-23b35cfecfd6"
   },
   "outputs": [
    {
     "name": "stdout",
     "output_type": "stream",
     "text": [
      "       user_id listing_id auditing_date   due_date     due_amt  repay_date  \\\n",
      "218310  571576    2508866    2018-03-04 2018-04-04   97.300301          \\N   \n",
      "40171   571576    3359022    2018-05-11 2018-06-11  133.931107          \\N   \n",
      "726744  571576    5138561    2018-12-17 2019-01-17  102.102203          \\N   \n",
      "472117  571576    5163044    2018-12-21 2019-01-21  101.344101          \\N   \n",
      "222879  804774    4029352    2018-07-18 2018-08-18  426.815186          \\N   \n",
      "175242  804774    4223087    2018-08-17 2018-09-17  223.651199  2018-09-17   \n",
      "100999  804774    4623660    2018-10-10 2018-11-10  630.828186          \\N   \n",
      "9160    804774    4776702    2018-10-28 2018-11-28  232.765503          \\N   \n",
      "\n",
      "       repay_amt  \n",
      "218310        \\N  \n",
      "40171         \\N  \n",
      "726744        \\N  \n",
      "472117        \\N  \n",
      "222879        \\N  \n",
      "175242  223.6512  \n",
      "100999        \\N  \n",
      "9160          \\N  \n"
     ]
    }
   ],
   "source": [
    "print(train[train['user_id'].isin([571576,804774])].sort_values(by=['user_id','auditing_date']))\n",
    "\n",
    "##对于某一个标的，一共被多少人借过，有多少人没还(这些人的特征是什么)\n",
    "##根据user_id统计人的特征，然join得到相应标的上人特征### 人 时间 标的；例如：一共借了多少次（分全量数据，和滑窗数据特征），每次借的金额处于哪个等级，（需要多借款金额离散化）逾期了多少次"
   ]
  },
  {
   "cell_type": "code",
   "execution_count": 0,
   "metadata": {
    "colab": {
     "base_uri": "https://localhost:8080/",
     "height": 107
    },
    "colab_type": "code",
    "executionInfo": {
     "elapsed": 905,
     "status": "ok",
     "timestamp": 1561537957851,
     "user": {
      "displayName": "陶士来",
      "photoUrl": "",
      "userId": "08104502188577818611"
     },
     "user_tz": -480
    },
    "id": "aVLv27Hz2KGh",
    "outputId": "280908f5-5110-412c-9378-cd19b52391a5"
   },
   "outputs": [
    {
     "name": "stdout",
     "output_type": "stream",
     "text": [
      "       user_id listing_id auditing_date   due_date    due_amt repay_date  \\\n",
      "218310  571576    2508866    2018-03-04 2018-04-04  97.300301         \\N   \n",
      "\n",
      "       repay_amt  \n",
      "218310        \\N  \n"
     ]
    }
   ],
   "source": [
    "print(train[train['listing_id']==2508866])"
   ]
  },
  {
   "cell_type": "code",
   "execution_count": 0,
   "metadata": {
    "colab": {},
    "colab_type": "code",
    "id": "iT8E5v3T5Bm8"
   },
   "outputs": [],
   "source": [
    "print(train.sort_values())"
   ]
  }
 ],
 "metadata": {
  "accelerator": "GPU",
  "colab": {
   "collapsed_sections": [],
   "name": "magic_competiton_eda.ipynb",
   "provenance": [],
   "version": "0.3.2"
  },
  "kernelspec": {
   "display_name": "Python 3",
   "language": "python",
   "name": "python3"
  },
  "language_info": {
   "codemirror_mode": {
    "name": "ipython",
    "version": 3
   },
   "file_extension": ".py",
   "mimetype": "text/x-python",
   "name": "python",
   "nbconvert_exporter": "python",
   "pygments_lexer": "ipython3",
   "version": "3.5.2"
  }
 },
 "nbformat": 4,
 "nbformat_minor": 1
}
