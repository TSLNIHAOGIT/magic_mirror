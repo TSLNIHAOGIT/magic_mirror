{
 "cells": [
  {
   "cell_type": "code",
   "execution_count": 1,
   "metadata": {},
   "outputs": [
    {
     "name": "stdout",
     "output_type": "stream",
     "text": [
      "MagicMirror_baseline_33分类.py  magic_mirror_eda.ipynb\r\n",
      "\u001b[0m\u001b[01;34mdata\u001b[0m/                           model_run.ipynb\r\n",
      "\u001b[01;31mdata.rar\u001b[0m                        temp.ipynb\r\n",
      "data_processed.ipynb            train.parquet.gzip\r\n",
      "df.parquet.gzip                 user_behavior_logs.parquet.gzip\r\n",
      "magic_competiton_eda.ipynb\r\n"
     ]
    }
   ],
   "source": [
    "ls"
   ]
  },
  {
   "cell_type": "code",
   "execution_count": null,
   "metadata": {},
   "outputs": [],
   "source": [
    "!python3 MagicMirror_baseline_33分类.py"
   ]
  },
  {
   "cell_type": "code",
   "execution_count": null,
   "metadata": {},
   "outputs": [],
   "source": []
  }
 ],
 "metadata": {
  "kernelspec": {
   "display_name": "Python 3",
   "language": "python",
   "name": "python3"
  },
  "language_info": {
   "codemirror_mode": {
    "name": "ipython",
    "version": 3
   },
   "file_extension": ".py",
   "mimetype": "text/x-python",
   "name": "python",
   "nbconvert_exporter": "python",
   "pygments_lexer": "ipython3",
   "version": "3.5.2"
  }
 },
 "nbformat": 4,
 "nbformat_minor": 2
}
